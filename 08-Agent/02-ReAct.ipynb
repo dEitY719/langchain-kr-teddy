{
 "cells": [
  {
   "cell_type": "code",
   "execution_count": 1,
   "metadata": {},
   "outputs": [
    {
     "data": {
      "text/plain": [
       "True"
      ]
     },
     "execution_count": 1,
     "metadata": {},
     "output_type": "execute_result"
    }
   ],
   "source": [
    "# API KEY를 환경변수로 관리하기 위한 설정 파일\n",
    "from dotenv import load_dotenv\n",
    "\n",
    "# API KEY 정보로드\n",
    "load_dotenv()"
   ]
  },
  {
   "cell_type": "markdown",
   "metadata": {},
   "source": [
    "## 도구(Tools)\n"
   ]
  },
  {
   "cell_type": "markdown",
   "metadata": {},
   "source": [
    "### 검색: TavilySearchResults\n"
   ]
  },
  {
   "cell_type": "code",
   "execution_count": 2,
   "metadata": {},
   "outputs": [],
   "source": [
    "from langchain_community.tools.tavily_search import TavilySearchResults\n",
    "\n",
    "search = TavilySearchResults()\n",
    "search.max_results = 10"
   ]
  },
  {
   "cell_type": "code",
   "execution_count": 3,
   "metadata": {},
   "outputs": [
    {
     "data": {
      "text/plain": [
       "5"
      ]
     },
     "execution_count": 3,
     "metadata": {},
     "output_type": "execute_result"
    }
   ],
   "source": [
    "result = search.run(\"테디노트 저자에 대해서 알아봐 줘\")\n",
    "len(result)"
   ]
  },
  {
   "cell_type": "code",
   "execution_count": 4,
   "metadata": {},
   "outputs": [
    {
     "name": "stdout",
     "output_type": "stream",
     "text": [
      "[{'url': 'https://ridibooks.com/books/1170000135', 'content': '경제학을 전공한 비전공자이며 독학으로 입문했다. 블로그 ‘테디노트(teddylee777.github.io)’와 유튜브를 운영 중이며, 입문자를 위한 데이터 사이언스 콘텐츠를 공유하고 있다. 현재 강의 및  지은이 | 김태헌  출판사 서평 텐서플로와 딥러닝, 최적의 입문서!  저자 소개 지은이 | 오승환텐서플로는 누구나 쉽게 활용 가능한 신경망을 구축할 수 있는 딥러닝 프레임워크 중 하나다. 이 책은 텐서플로를 이해하고 실제 데이터 환경에서 사용하고자 하는 사람을 위해 쉽게 풀어서 설명하기 위해 만들어졌다. 따라서 텐서플로 입문자라면 이 책을 통해 눈높이에 맞게 학습할 수 있을 것이다. 이 책은 총 여섯 개의 파트로 이루어져 있다. 파트1에서는 파이썬 코드를 직접 실행할 수 있는 개발 환경을 설정하는 방법을 소개한다. 파트2에서는 텐서플로의 특징과 텐서플로에서 데이터를 처리하는 기본 자료형인 텐서에 대해 설명한다. 파트3에서는 딥러닝 프레임워크 중에서도 텐서플로 케라스에 대해 설명한다.'}, {'url': 'https://github.com/teddylee777', 'content': '📌 Worked @ Samsung Electronics 테디노트 Blog 테디노트 YouTube @teddynote LinkedIn 💻 한 방으로 끝내는 판다스 🏆 텐서플로우 자격증 강의  2.3k 789 머신러닝/딥러닝(PyTorch, TensorFlow) 전용 도커입니다. 한글 폰트, 한글 자연어처리 패키지(konlpy), 형태소 분석기, Timezone 등의 설정 등을 추가 하였습니다.  🏆 텐서플로우 자격증 강의 💡 깃헙 블로그(Github Blog)로 차별화 된 나만의 홈페이지 만들기! 📗 파이썬 딥러닝 텐서플로(2021, 정보문화사) 저자 💻 강의/강연 Pinned  Teddy Lee (이경록) 👋 📌 TensorFlow Developers Certificate 📌 Founder of Braincrew Inc. 📌 Data Science/ML/DLTeddy Lee (이경록) 👋 📌 TensorFlow Developers Certificate 📌 Founder of Braincrew Inc. 📌 Data Science/ML/DL 📌 Worked @ Samsung Electronics 테디노트 Blog 테디노트 YouTube @teddynote LinkedIn 💻 한 방으로 끝내는 판다스 🏆 텐서플로우 자격증 강의 💡 깃헙 블로그 (Github Blog)로 차별화 된 나만의 홈페이지 만들기! 📗 파이썬 딥러닝 텐서플로 (2021, 정보문화사) 저자 💻 강의/강연 ️ 패스트캠퍼스 강의 - 직장인을 위한 파이썬 데이터분석 올인원 패키지 Online.'}, {'url': 'https://teddylee777.github.io/langchain/langchain-agent/', 'content': '🔥알림🔥 ① 테디노트 유튜브 - 구경하러 가기! ② LangChain 한국어 튜토리얼 바로가기 👀 [LangChain] 에이전트(Agent)와 도구(tools)를 활용한 지능형 검색 시스템 구축 가이드  에이전트는 복잡한 주제이며 배울 것이 많습니다! 개념 가이드, 다양한 유형의 에이전트, 맞춤형 도구를 만드는 방법 등 더 많은 자료를 찾으려면 한국어 튜토리얼(Agent) 를 참고해 주세요! Reference  📍 전체 템플릿 코드 다음의 추적 링크에서 자세한 단계별 수행 결과를 확인할 수 있습니다 LangSmith 추적 마무리입니다! 이번 튜토리얼에서는 우리는 간단한 에이전트를 만드는 방법을 다뤘습니다.  주요내용 🤖 Agent 란? 에이전트 프레임워크를 가장 잘 이해하기 위해서, 온라인에서 정보를 찾는 도구 하나와 우리가 인덱스로 로드한 특정 데이터를 찾는 도구 하나를 가진 에이전트를 만들어 보겠습니다.① 테디노트 유튜브 - 구경하러 가기! ② 서울대 X 테디노트 ChatGPT & PyTorch 강의 강의 커리큘럼 👀 [LangChain] 에이전트(Agent)와 도구(tools)를 활용한 지능형 검색 시스템 구축 가이드 2024년 02월 09일 41 분 소요 목차. 🤖 Agent 란? 단계별 추적을 위한 LangSmith 설정'}, {'url': 'https://teddylee777.github.io/langchain/rag-tutorial/', 'content': '🔥알림🔥 ① 테디노트 유튜브 - 구경하러 가기! ② 서울대 X 테디노트 ChatGPT & PyTorch 강의 강의 커리큘럼 👀 LangChain RAG 파헤치기: 문서 기반 QA 시스템 설계 방법 - 심화편  데이터를 검색하는 데 필요한 도구를 제공합니다.  [참고] 이번 튜토리얼은 LangChain으로 네이버 뉴스 기반 Q&A 애플리케이션 구축하기 - 기본편 의 후속편인 심화편 입니다. 각 모듈별 다양한 실험을 통해 최적의 결과를 얻는 방법을 탐구합니다. 주요내용  프롬프트 엔지니어링은 주어진 데이터(context)를 토대로 우리가 원하는 결과를 도출할 때 중요한 역할을 합니다. [TIP1]① 테디노트 유튜브 - 구경하러 가기! ② 서울대 X 테디노트 ChatGPT & PyTorch 강의 강의 커리큘럼 👀. LangChain RAG 파헤치기: 문서 기반 QA 시스템 설계 방법 - 심화편 2024년 02월 06일 22 분 소요 목차. LangChain Q&A 아키텍처. ① 질문 처리; ② 답변 생성; 아키텍처. 인덱싱'}, {'url': 'https://teddylee777.github.io/', 'content': 'Teddy 💻 Creator & Data Lover 최근 포스트 [2024년 UPDATE] OpenAI Python API 튜토리얼 - Whisper API를 사용하여 TTS, STT 구현하기(3)  2024년 01월 08일 4 분 소요 이번 튜토리얼은 OpenAI 의 Whisper API 를 사용하여 음성을 텍스트로 변환하는 STT, 그리고 텍스트를 음성으로 변환하는 방법에 대해 알아보겠습니다.  2023년 12월 05일 4 분 소요  11 분 소요 이번 포스팅에서는 랭체인(LangChain) 을 활용하여 PDF 문서를 로드하고, 문서의 내용을 요약 하는 방법에 대해 알아보겠습니다.LangChain RAG 파헤치기: 문서 기반 QA 시스템 설계 방법 - 심화편. LangChain의 RAG 시스템을 통해 문서 (PDF, txt, 웹페이지 등)에 대한 질문-답변을 찾는 과정을 정리하였습니다. LangChain을 활용하여 간단하게 네이버 뉴스기사를 바탕으로 Q&A 애플리케이션을 만드는 방법을 ...'}]\n"
     ]
    }
   ],
   "source": [
    "print(result)"
   ]
  },
  {
   "cell_type": "code",
   "execution_count": 5,
   "metadata": {},
   "outputs": [],
   "source": [
    "from langchain_openai import ChatOpenAI\n",
    "\n",
    "llm = ChatOpenAI(model=\"gpt-3.5-turbo\", temperature=0)"
   ]
  },
  {
   "cell_type": "code",
   "execution_count": 8,
   "metadata": {},
   "outputs": [
    {
     "data": {
      "text/plain": [
       "[SystemMessagePromptTemplate(prompt=PromptTemplate(input_variables=[], template='You are a helpful assistant')),\n",
       " MessagesPlaceholder(variable_name='chat_history', optional=True),\n",
       " HumanMessagePromptTemplate(prompt=PromptTemplate(input_variables=['input'], template='{input}')),\n",
       " MessagesPlaceholder(variable_name='agent_scratchpad')]"
      ]
     },
     "execution_count": 8,
     "metadata": {},
     "output_type": "execute_result"
    }
   ],
   "source": [
    "from langchain import hub\n",
    "\n",
    "# Get the prompt to use - you can modify this!\n",
    "prompt = hub.pull(\"hwchase17/openai-functions-agent\")\n",
    "prompt.messages"
   ]
  },
  {
   "cell_type": "code",
   "execution_count": 9,
   "metadata": {},
   "outputs": [],
   "source": [
    "from langchain.agents import create_openai_functions_agent, tool\n",
    "\n",
    "agent_tools = [TavilySearchResults()]\n",
    "agent = create_openai_functions_agent(llm, agent_tools, prompt)"
   ]
  },
  {
   "cell_type": "code",
   "execution_count": 23,
   "metadata": {},
   "outputs": [],
   "source": [
    "from langchain.agents import AgentExecutor\n",
    "\n",
    "agent_executor = AgentExecutor(agent=agent, tools=tools, verbose=True)"
   ]
  },
  {
   "cell_type": "code",
   "execution_count": 24,
   "metadata": {},
   "outputs": [
    {
     "name": "stdout",
     "output_type": "stream",
     "text": [
      "\n",
      "\n",
      "\u001b[1m> Entering new AgentExecutor chain...\u001b[0m\n",
      "\u001b[32;1m\u001b[1;3mHello! How can I assist you today?\u001b[0m\n",
      "\n",
      "\u001b[1m> Finished chain.\u001b[0m\n"
     ]
    },
    {
     "data": {
      "text/plain": [
       "{'input': 'hi!', 'output': 'Hello! How can I assist you today?'}"
      ]
     },
     "execution_count": 24,
     "metadata": {},
     "output_type": "execute_result"
    }
   ],
   "source": [
    "agent_executor.invoke({\"input\": \"hi!\"})"
   ]
  },
  {
   "cell_type": "code",
   "execution_count": 25,
   "metadata": {},
   "outputs": [
    {
     "name": "stdout",
     "output_type": "stream",
     "text": [
      "\n",
      "\n",
      "\u001b[1m> Entering new AgentExecutor chain...\u001b[0m\n",
      "\u001b[32;1m\u001b[1;3m테디노트(teddylee777)의 GitHub 주소는 다음과 같습니다: \n",
      "\n",
      "https://github.com/teddylee777\u001b[0m\n",
      "\n",
      "\u001b[1m> Finished chain.\u001b[0m\n"
     ]
    }
   ],
   "source": [
    "result = agent_executor.invoke(\n",
    "    {\"input\": \"테디노트(teddylee777)의 github 주소를 알려줘\"}\n",
    ")"
   ]
  },
  {
   "cell_type": "code",
   "execution_count": 10,
   "metadata": {},
   "outputs": [
    {
     "name": "stdout",
     "output_type": "stream",
     "text": [
      "테디노트(teddylee777)의 GitHub 주소는 다음과 같습니다: \n",
      "\n",
      "https://github.com/teddylee777\n"
     ]
    }
   ],
   "source": [
    "print(result[\"output\"])"
   ]
  },
  {
   "cell_type": "code",
   "execution_count": 12,
   "metadata": {},
   "outputs": [
    {
     "name": "stdout",
     "output_type": "stream",
     "text": [
      "\n",
      "\n",
      "\u001b[1m> Entering new AgentExecutor chain...\u001b[0m\n",
      "\u001b[32;1m\u001b[1;3m\n",
      "Invoking: `tavily_search_results_json` with `{'query': '판교 몽중헌 전화번호'}`\n",
      "\n",
      "\n",
      "\u001b[0m\u001b[36;1m\u001b[1;3m[{'url': 'https://blog.naver.com/PostView.naver?blogId=pdi0903&logNo=222685325353&directAccess=false', 'content': \"\\u200b 그럼 만나러 가보겠습니다. \\u200b 몽중헌 판교점 경기 성남시 분당구 분당내곡로 131, 판교테크원타워 2층 매장전화번호) 031-601-7574 영업시간) 11:30 ~ 22:00  따끈따끈한 중식당 \\u200b 몽중헌\\u200b 판교점 \\u200b 입니다. \\u200b 딤섬으로 유명한 '몽중헌'은 판교역 바로앞에 있는 판교테크원타워 2층에 위치해있구요 몇주전부터 오픈예정 현수막을 보고 기대를 하고 있었습니다 ㅋㅋ \\u200b  블로그 [판교 맛집] 드디어 오픈한 딤섬 전문점 '몽중헌' :: 내돈내산 솔직후기 안녕하세요 \\u200b 오늘은 판교 신상 맛집 소개해드리겠습니다. \\u200b 3.28(월) 바로 오늘!! 오픈한 따끈따끈한 중식당 \\u200b 몽중헌\\u200b  이상 내돈내산 솔직후기였습니다!! \\u200b #내돈내산 #솔직후기 경기도 성남시 분당구 분당내곡로 131 판교 테크원 타워 2F #판교맛집 #판교역중식 #분당맛집 #판교테크원타워 #몽중헌 활동정보 서재안에 글 0안녕하세요 오늘은 판교 신상 맛집 소개해드리겠습니다. 3.28 (월) 바로 오늘!! 오픈한 따끈따끈한 중식당 몽중헌 판교점 입니다. 딤섬으로 유명한 '몽중헌'은 판교역 바로앞에 있는 판교테크원타워 2층에 위치해있구요 몇주전부터 오픈예정 현수막을 보고 기대를 하고 있었습니다 ㅋㅋ [판교 맛집] 바삭바삭 텐동 맛집 '온센' :: 판교테크원타워 안녕하세요 오늘은 신규오픈한지 3일밖에 안된 따끈따끈한 신상맛집 소개해드립니다 ㅎ 이미 방송으로 유명... m.blog.naver.com 판교테크원타워 정보는 위 포스팅 참고해주시고 그럼 만나러 가보겠습니다. 몽중헌 판교점 경기 성남시 분당구 분당내곡로 131, 판교테크원타워 2층\"}, {'url': 'https://blog.naver.com/PostView.naver?blogId=uoonie&logNo=223335082407', 'content': \"안녕하세요-☺️ 오늘은 판교 중식당 맛집, 분위기 맛집 '몽중헌 판교점' 소개해 드리려고 해요. 먼저 저는 당일 예약하였으며, 캐치 테이블 예약이 불가하여 전화 예약을 하였습니다.  캐치테이블 예약 가능, 전화예약 가능 룸 지정은 전화 예약만 가능, 전화 예약 시 매우 친절하게 안내해 주심👍 경기도 성남시 분당구 분당내곡로 131 판교 테크원 타워 2F 안녕하세요-☺️  몽중헌 추천합니다! \\u200b 조용하게 가족 식사 즐긴 몽중헌 판교점에서-☺️ \\u200b #몽중헌판교 #몽중헌 #중식당추천 #판교맛집 #판교중식당 #판교데이트 #판교가족식사 #판교상견례 \\u200b \\u200b 검색  당일 예약이라 룸은 불가하였으며, 홀 테이블로 세팅해 주신다고 하였어요. 정말 매우 친절하게 예약을 도와주셨고 카카오톡 알림톡으로 한 번 더 예약 안내 정보를 보내주세요. \\u200b 몽중헌 판교 내부 분위기/ 홀 자리경기도 성남시 분당구 분당내곡로 131 판교 테크원 타워 2F. 안녕하세요-☺️. 오늘은 판교 중식당 맛집, 분위기 맛집. '몽중헌 판교점' 소개해 드리려고 해요. 존재하지 않는 이미지입니다. 먼저 저는 당일 예약하였으며, 캐치 테이블 예약이 불가하여 전화 예약을 ...\"}, {'url': 'https://m.blog.naver.com/soh_y_/223176564604', 'content': '• 주소 / 경기 성남시 분당구 분당내곡로 131 판교 테크원타워 2층 \\u200b • 주차 / 주차 가능 \\u200b • 전화번호 / 031-601-7574 \\u200b • 운영시간 / 월~금 11:30~22:00  블로그 카테고리 이동 Hyeon’s Daily 판교 테크원 맛집_분위기 좋은 중식당 주차 편한 몽중헌 판교점 2023. 8. 7. 6:00 \\u200b \\u200b 몽중헌 판교점 다양한 딤섬을 즐길 수 있는 분위기 좋은 중식당  안녕하세요. 이번에 소개해드릴 곳은 #몽중헌판교점 이에요. 몽중헌은 체인점인데 딤섬으로 유명한 곳이에요. \\u200b 제가 요즘 가장 좋아하는 장소인 테크원 타워 2층에 입점되어 있어요. \\u200b  한 번씩 방문하기 좋을 것 같아요. \\u200b #몽중헌 #몽중헌메뉴 #몽중헌예약 #몽중헌룸예약 #몽중헌회식 #몽중헌데이트 #몽중헌판교점 #테크원맛집 #테크원주차 #판교역맛집 #판교맛집 #판교중식당이웃추가 위치 몽중헌 판교점 존재하지 않는 이미지입니다. 몽중헌 판교점 다양한 딤섬을 즐길 수 있는 분위기 좋은 중식당 • 주소 / 경기 성남시 분당구 분당내곡로 131 판교 테크원타워 2층 • 주차 / 주차 가능 • 전화번호 / 031-601-7574 • 운영시간 / 월~금 11:30~22:00 브레이크 타임 15:00~17:30 라스트 오더 21:00 토~일 11:30~21:30 브레이크 타임 15:00~17:30 라스트 오더 20:30 몽중헌 판교점 경기도 성남시 분당구 분당내곡로 131 판교 테크원 타워 2F 이 블로그의 체크인 이 장소의 다른 글 안녕하세요. 이번에 소개해드릴 곳은 #몽중헌판교점 이에요.'}, {'url': 'https://df1229.tistory.com/entry/판교-딤섬-맛집-고급스러운-중식당-몽중헌-솔직후기점심-코스요리', 'content': 'by 드림71 2023. 6. 11. 23:05 본문 요즘 판교역 부근에 건물들이 많이 생기면서, 고급스럽고 맛있는 음식점들이 속속 생겨나고 있습니다.  오늘은 판교 Tech1 건물 2층에 있는 딤섬 맛집 몽중헌을 소개해드리려고 합니다. 점심 코스로 먹었으며, 아래 내용에 자세히 설명시켜 드리겠습니다. [몽중헌 - Location]  Tech1 2층에 있는 음식점들은 워낙 큰 곳이 많이 입주하고 있어 금방 찾으실 수 있습니다. 몽중헌은 가격이 생각보다 비싸기 때문에 당일 점심 예약은 충분히 가능하며 오전 10시쯤 전화해도 예약 가능합니다.  [몽중헌 - Location] 지하에 주차하고 Tech1 2층에 올라오면 에스켈레터 바로 옆에 위치하고 있습니다. (판교역 쪽 방향)몽중헌은 가격이 생각보다 비싸기 때문에 당일 점심 예약은 충분히 가능하며 오전 10시쯤 전화해도 예약 가능합니다. (아쉽게도 룸은 없습니다.) 이제 들어가서 먹어보겠습니다.! [대표 메뉴] 대표 메뉴는 딤섬으로 알고 있으며, 저는 처음 가본 집이라 점심 코스를 먹으려고 합니다. 아무래도 코스요리가 이 식당에 기본적인 맛을 평가 하기 좋을거라 생각했습니다. 출처 : 몽중헌 홈페이지 고민 없이 점심 코스 중 가성비 있는 B 코스를 선택했습니다. (가격은 솔직히 비싸긴 하네요.) 1. 계절 냉채 계절 냉채가 나왔네요. 보시면 아시겠지만, 닭과 새우는 뻔한 맛 입니다.'}, {'url': 'https://www.diningcode.com/profile.php?rid=tPe4BQt6j8y0', 'content': '0명의 좋아요한 사용자 모두보기(10장) 몽중헌 판교점 60점 3명의 평가 3.3점 영업시간 ◷ 영업 전 [오늘] 02.09 (금) 영업시간: 11:30 - 21:30 브레이크타임: 15:00 - 17:30  월백언니 1월 21일 핓이 1월 18일 승도리도리 1월 16일 이메일 문의 : contact@diningcode.com  사자는야옹 (142곳 작성, 151개 공감받음) 2023년 8월 27일 맛1 가격1 서비스5 판교에서 가격대가 꽤 나가는 중국집이에요 우육탕면 주문했는데 제가 생각했던 우육탕면과 많이 다르네요  광동식 전가복(S) 70,000원 시그니처 딤섬(구채교, 하교) 추천 12,000원 더보기 몽중헌과\\xa0비슷한 맛집 현재 식당 근처점수가 높은가장 유사한 3건의 방문자 평가 3.3점 맛3.6 가격2.3 서비스4.5몽중헌 판교점 분당구 | 중식당, 짜장면 60점 3명의 평가 3.3점 좋아요 (2) 공유 평가하기 경기도 성남시 분당구 백현동 534 지도보기 031-601-7574 상견례 고급스러운, 점심식사, 저녁식사, 룸식당, 주차 폐업신고 · 정보수정 제안 영업시간 영업 중 [오늘] 02.06 (화) 영업시간: 11:30 - 22:00 브레이크타임: 15:00 - 17:30 라스트오더: 21:00 02.07 (수) 영업시간: 11:30 - 22:00 브레이크타임: 15:00 - 17:30 라스트오더: 21:00 02.08 (목) 영업시간: 11:30 - 22:00 브레이크타임: 15:00 - 17:30 라스트오더: 21:00'}]\u001b[0m\u001b[32;1m\u001b[1;3m판교 몽중헌의 전화번호는 031-601-7574입니다.\u001b[0m\n",
      "\n",
      "\u001b[1m> Finished chain.\u001b[0m\n"
     ]
    }
   ],
   "source": [
    "result = agent_executor.invoke({\"input\": \"판교 몽중헌의 전화번호를 알려줘\"})"
   ]
  },
  {
   "cell_type": "code",
   "execution_count": 13,
   "metadata": {},
   "outputs": [
    {
     "data": {
      "text/plain": [
       "'판교 몽중헌의 전화번호는 031-601-7574입니다.'"
      ]
     },
     "execution_count": 13,
     "metadata": {},
     "output_type": "execute_result"
    }
   ],
   "source": [
    "result[\"output\"]"
   ]
  }
 ],
 "metadata": {
  "kernelspec": {
   "display_name": "py-test",
   "language": "python",
   "name": "python3"
  },
  "language_info": {
   "codemirror_mode": {
    "name": "ipython",
    "version": 3
   },
   "file_extension": ".py",
   "mimetype": "text/x-python",
   "name": "python",
   "nbconvert_exporter": "python",
   "pygments_lexer": "ipython3",
   "version": "3.10.13"
  }
 },
 "nbformat": 4,
 "nbformat_minor": 2
}
