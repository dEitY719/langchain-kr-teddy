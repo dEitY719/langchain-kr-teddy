{
 "cells": [
  {
   "cell_type": "code",
   "execution_count": 1,
   "metadata": {},
   "outputs": [
    {
     "data": {
      "text/plain": [
       "True"
      ]
     },
     "execution_count": 1,
     "metadata": {},
     "output_type": "execute_result"
    }
   ],
   "source": [
    "# API KEY를 환경변수로 관리하기 위한 설정 파일\n",
    "from dotenv import load_dotenv\n",
    "\n",
    "# API KEY 정보로드\n",
    "load_dotenv()"
   ]
  },
  {
   "cell_type": "markdown",
   "metadata": {},
   "source": [
    "## 도구(Tools)\n"
   ]
  },
  {
   "cell_type": "markdown",
   "metadata": {},
   "source": [
    "### 검색: TavilySearchResults\n"
   ]
  },
  {
   "cell_type": "code",
   "execution_count": 17,
   "metadata": {},
   "outputs": [],
   "source": [
    "from langchain_community.tools.tavily_search import TavilySearchResults\n",
    "\n",
    "search = TavilySearchResults()\n",
    "search.max_results = 10"
   ]
  },
  {
   "cell_type": "code",
   "execution_count": 18,
   "metadata": {},
   "outputs": [
    {
     "data": {
      "text/plain": [
       "7"
      ]
     },
     "execution_count": 18,
     "metadata": {},
     "output_type": "execute_result"
    }
   ],
   "source": [
    "result = search.run(\"테디노트 저자에 대해서 알아봐 줘\")\n",
    "len(result)"
   ]
  },
  {
   "cell_type": "code",
   "execution_count": 19,
   "metadata": {},
   "outputs": [
    {
     "name": "stdout",
     "output_type": "stream",
     "text": [
      "[{'url': 'https://m.blog.naver.com/readtbook/223236044324?isInf=true', 'content': '2024 트렌드 노트 197쪽  2024 트렌드 노트 82쪽  2024 트렌드 노트 93쪽  2024 트렌드 노트 221쪽경제책 추천 2024 트렌드 노트 그러다 올해 초 코로나19 방역이 완화되어 외식을 시도했다. 3년 동안 세상과 단절되었다가 가족들과 외식을 하면서 겪었던 문화충격이 하나 있다. 바로 테이블마다 놓인 낯선 키오스크였다. 이전에도 프랜차이즈 햄버거 가게에서 스탠드형을 본 적은 있지만 테이블마다 놓인 키오스크는 처음인지라 어리둥절했다. 다행히 직원이 친절하게 알려주어 무난히 주문할 수 있었다. 존재하지 않는 이미지입니다. 존재하지 않는 이미지입니다. 존재하지 않는 이미지입니다. 경제책 추천 2024 트렌드 노트 코로나19 감염병 단계가 낮아지고 경계에서 주의로 조정하겠다는 이야기가 들린다.'}, {'url': 'https://samsamlog.com/2024-트렌드-책-10권-목차-정리/', 'content': '2024 트렌드 책 10권 목차 정리 트렌드 책이 최근 몇 년 사이 더 세분화된 주제로 다양하게 출간되고 있습니다.  저는 김난도의 ‘트렌드 코리아’를 초판으로 예약해서 꼭 챙겨 읽는데, 다른 분야의 2024 트렌드 책은 어떤 것이 있는지 온라인 서점에서 검색해 봤습니다.  Z세대 트렌드 2024 트라이브십, 개인적 지향성이 경쟁력이 되는 시대 국내 최초, 국내 유일의 20대 전문 연구기관 ‘대학내일 20대 연구소’가 예측하는 2024년 트렌드를 담은 책.  불황을 극복하는 혁신의 힘 〈트렌드 코리아〉 선정 2023년 대한민국 10대 트렌드 상품 2. 2024 트렌드시장이 변화하는 방향. 메가 트렌드 - 20~30년 이상의 오랜 기간 사회·문화적 변화 메타 트렌드 - 자연 생태계처럼 매우 긴 기간을 두고 모든 사람들에게 영향을 미치는 트렌드. 2024 트렌드 책 트렌드 코리아 2024 청룡을 타고 비상하는 2024를 기원하며! ️저자 : 김난도, 전미영, 최지혜, 이수진, 권정윤 저 외 6명 ️출판사 : 미래의창 ️출간일 : 2023. 10. 05 트렌드 전망서의 원조. 2012년부터 매년 그해의 간지에 해당하는 동물을 주제로 시장을 주도할 10가지 트렌드를 키워드를 발표. 아래 (토글) 을 클릭하면 목차를 읽을 수 있습니다.'}, {'url': 'https://www.classu.co.kr/class/classDetail/1008909', 'content': 'https://wikidocs.net/book/4639에서 전자책을 보실 수 있습니다. 🎨참고 사이트 및 저서 테디노트(깃헙 블로그) :https://teddylee777.github.io  그룹 미션 0개를 드립니다.내가 원하는 시간에, 원하는 장소에서 미션 완료 후 커뮤니티에 인증하면 완료! 💪 필독 장학금 혜택 안내드려요. 커뮤니티에서 함께한클래스유 회원들의 리뷰 안녕하세요? 테디노트입니다.  안녕하세요? 테디노트입니다. 등록을 서두르세요!그룹은 인원이 제한되어 있습니다. 이건 어때요? 이런 관심사는 어때요? 수강권 환불 준비물 환불 및 교환 환불 진행 방법 고객센터  🎨한 방으로 끝나는 판다스 전자책 무료 제공!https://wikidocs.net/book/4639에서 전자책을 보실 수 있습니다.클래스 배우기 강의, 강좌 후기 - 한 방으로 끝내는 판다스(Pandas) | 패스트캠퍼스 강의 - 직장인을 위한 파이썬 데이터분석 올인원 패키지 Online.패스트캠퍼스 Byte Degree 프로젝트 감수 - Byte Degree : Machine Learning with Python.패스트캠퍼스 데이터분석 Capstone 프로젝트 &...'}, {'url': 'https://teddylee777.github.io/lectures/', 'content': '🔥알림🔥 ① 테디노트 유튜브 - 구경하러 가기! ② 서울대 X 테디노트 ChatGPT & PyTorch 강의 강의 커리큘럼 👀 강의 아래에 나열된 강의는 모두 제가 직접 촬영 및 진행한 내 새끼같은 강의들입니다.  테디노트와 같은 블로그를 만들어 보고 싶으시다면 지금 바로 도전해 보세요 🥰 📌 VOD 강의 링크 🌱 스트림릿(Streamlit)을 활용한 파이썬 웹앱 제작하기 🙏 아래의 내용을 참고해 주세요 🙏  📌 VOD 강의 링크 ❤️ 테디노트 유튜브(YouTube) 그 밖에도 다양한 주제로 강의 영상을 유튜브(YouTube) 채널에 업로드 하고 있어요  데이터와 인공지능에 관심있는 분들이 조금이라도 지름길을 걸으실 수 있도록 양질의 콘텐츠 개발에 최선을 다하겠습니다. 감사합니다😊 🔥 Google 공인! 텐서플로 개발자 자격증 취득️ 테디노트 유튜브(YouTube) 그 밖에도 다양한 주제로 강의 영상을 유튜브(YouTube) 채널에 업로드 하고 있어요. 유튜브 채널에서 재생목록을 꼭 클릭해 보세요! 주제별로 강의 영상을 시리즈로 모아 놓았어요😊. 구독, 좋아요👍 그리고 댓글 감사합니다🥰'}, {'url': 'https://teddylee777.github.io/', 'content': '2024년 01월 08일 4 분 소요 이번 튜토리얼은 OpenAI 의 Whisper API 를 사용하여 음성을 텍스트로 변환하는 STT, 그리고 텍스트를 음성으로 변환하는 방법에 대해 알아보겠습니다.  2023년 12월 05일 4 분 소요  Teddy 💻 Creator & Data Lover 최근 포스트 [2024년 UPDATE] OpenAI Python API 튜토리얼 - Whisper API를 사용하여 TTS, STT 구현하기(3)  9 분 소요 이번 튜토리얼 부터는 시리즈 형식으로 OpenAI 에서 지난 2023년 11월에 1.x.x 로 판올림하여 공개한 API 의 사용법에 대해서 알아보겠습니다.LangGraph - Multi-Agent Collaboration (다중 협업 에이전트) 로 복잡한 테스크를 수행하는 LLM 어플리케이션 제작. 2024년 01월 29일 26 분 소요. LangChain 에서 야심차게 LangGraph 를 새롭게 출시하였습니다. LangGraph 라이브러리가 출시하게 된 가장 큰 이유는 \"복잡한 문제들은 ...'}, {'url': 'https://teddylee777.github.io/langchain/rag-tutorial/', 'content': '2024년 02월 05일 9 분 소요  🔥알림🔥 ① 테디노트 유튜브 - 구경하러 가기! ② 서울대 X 테디노트 ChatGPT & PyTorch 강의 강의 커리큘럼 👀 LangChain RAG 파헤치기: 문서 기반 QA 시스템 설계 방법 - 심화편  실습에 활용한 문서 소프트웨어정책연구소(SPRi) - 2023년 12월호 저자: 유재흥(AI정책연구실 책임연구원), 이지수(AI정책연구실 위촉연구원)  참고 LangChain으로 네이버 뉴스 기반 Q&A 애플리케이션 구축하기 - 기본편 2024년 02월 06일 7 분 소요① 테디노트 유튜브 - 구경하러 가기! ② 서울대 X 테디노트 ChatGPT & PyTorch 강의 강의 커리큘럼 👀. LangChain RAG 파헤치기: 문서 기반 QA 시스템 설계 방법 - 심화편 2024년 02월 06일 22 분 소요 목차. LangChain Q&A 아키텍처. ① 질문 처리; ② 답변 생성; 아키텍처. 인덱싱'}, {'url': 'https://brunch.co.kr/@artnycinc/189', 'content': \"저자 신종호 출판 21세기 북스 발행 2023.02.15.  여러분의 아트 컬렉팅을 돕기위해 글을 쓰고 유투브 채널을 운영하고 있습니다.http://artnycnewyork.com _ https://youtube.com/@KARTNYC 작품 선택 댓글여부  전체 내용을 정리하는 기회가 되는 공부법이야.  이 방법은 앞에서 나무형 플레이어에게 권했던 개념도를 그릴 때 써보면 좋아. 개념도를 그릴 때 교재나 참고서를 보지 않고 머릿속에 있는 내용을 정리하고 요약하면서 개념도를 그리는 거지.저자 신종호. 출판 21세기 북스. 발행 2023.02.15. 숲형이나 나무형에게 모두 맞는 공부법을 소개해 보겠다. 일명 '나선형 공부법!'. 이 공부법은 공부한 내용을 한 번 빠르게 훑고, 처음부터 다시 내용을 자세하게 살펴나가는 방식이야. 마치 나선형처럼 뱅글뱅글 ...\"}]\n"
     ]
    }
   ],
   "source": [
    "print(result)"
   ]
  },
  {
   "cell_type": "code",
   "execution_count": 20,
   "metadata": {},
   "outputs": [],
   "source": [
    "from langchain_openai import ChatOpenAI\n",
    "\n",
    "llm = ChatOpenAI(model=\"gpt-3.5-turbo\", temperature=0)"
   ]
  },
  {
   "cell_type": "code",
   "execution_count": 21,
   "metadata": {},
   "outputs": [],
   "source": [
    "from langchain import hub\n",
    "\n",
    "# Get the prompt to use - you can modify this!\n",
    "prompt = hub.pull(\"hwchase17/openai-functions-agent\")"
   ]
  },
  {
   "cell_type": "code",
   "execution_count": 22,
   "metadata": {},
   "outputs": [],
   "source": [
    "from langchain.agents import create_openai_functions_agent\n",
    "\n",
    "tools = [TavilySearchResults()]\n",
    "agent = create_openai_functions_agent(llm, tools, prompt)"
   ]
  },
  {
   "cell_type": "code",
   "execution_count": 23,
   "metadata": {},
   "outputs": [],
   "source": [
    "from langchain.agents import AgentExecutor\n",
    "\n",
    "agent_executor = AgentExecutor(agent=agent, tools=tools, verbose=True)"
   ]
  },
  {
   "cell_type": "code",
   "execution_count": 24,
   "metadata": {},
   "outputs": [
    {
     "name": "stdout",
     "output_type": "stream",
     "text": [
      "\n",
      "\n",
      "\u001b[1m> Entering new AgentExecutor chain...\u001b[0m\n",
      "\u001b[32;1m\u001b[1;3mHello! How can I assist you today?\u001b[0m\n",
      "\n",
      "\u001b[1m> Finished chain.\u001b[0m\n"
     ]
    },
    {
     "data": {
      "text/plain": [
       "{'input': 'hi!', 'output': 'Hello! How can I assist you today?'}"
      ]
     },
     "execution_count": 24,
     "metadata": {},
     "output_type": "execute_result"
    }
   ],
   "source": [
    "agent_executor.invoke({\"input\": \"hi!\"})"
   ]
  },
  {
   "cell_type": "code",
   "execution_count": 25,
   "metadata": {},
   "outputs": [
    {
     "name": "stdout",
     "output_type": "stream",
     "text": [
      "\n",
      "\n",
      "\u001b[1m> Entering new AgentExecutor chain...\u001b[0m\n",
      "\u001b[32;1m\u001b[1;3m테디노트(teddylee777)의 GitHub 주소는 다음과 같습니다: \n",
      "\n",
      "https://github.com/teddylee777\u001b[0m\n",
      "\n",
      "\u001b[1m> Finished chain.\u001b[0m\n"
     ]
    }
   ],
   "source": [
    "result = agent_executor.invoke(\n",
    "    {\"input\": \"테디노트(teddylee777)의 github 주소를 알려줘\"}\n",
    ")"
   ]
  },
  {
   "cell_type": "code",
   "execution_count": 10,
   "metadata": {},
   "outputs": [
    {
     "name": "stdout",
     "output_type": "stream",
     "text": [
      "테디노트(teddylee777)의 GitHub 주소는 다음과 같습니다: \n",
      "\n",
      "https://github.com/teddylee777\n"
     ]
    }
   ],
   "source": [
    "print(result[\"output\"])"
   ]
  },
  {
   "cell_type": "code",
   "execution_count": 12,
   "metadata": {},
   "outputs": [
    {
     "name": "stdout",
     "output_type": "stream",
     "text": [
      "\n",
      "\n",
      "\u001b[1m> Entering new AgentExecutor chain...\u001b[0m\n",
      "\u001b[32;1m\u001b[1;3m\n",
      "Invoking: `tavily_search_results_json` with `{'query': '판교 몽중헌 전화번호'}`\n",
      "\n",
      "\n",
      "\u001b[0m\u001b[36;1m\u001b[1;3m[{'url': 'https://blog.naver.com/PostView.naver?blogId=pdi0903&logNo=222685325353&directAccess=false', 'content': \"\\u200b 그럼 만나러 가보겠습니다. \\u200b 몽중헌 판교점 경기 성남시 분당구 분당내곡로 131, 판교테크원타워 2층 매장전화번호) 031-601-7574 영업시간) 11:30 ~ 22:00  따끈따끈한 중식당 \\u200b 몽중헌\\u200b 판교점 \\u200b 입니다. \\u200b 딤섬으로 유명한 '몽중헌'은 판교역 바로앞에 있는 판교테크원타워 2층에 위치해있구요 몇주전부터 오픈예정 현수막을 보고 기대를 하고 있었습니다 ㅋㅋ \\u200b  블로그 [판교 맛집] 드디어 오픈한 딤섬 전문점 '몽중헌' :: 내돈내산 솔직후기 안녕하세요 \\u200b 오늘은 판교 신상 맛집 소개해드리겠습니다. \\u200b 3.28(월) 바로 오늘!! 오픈한 따끈따끈한 중식당 \\u200b 몽중헌\\u200b  이상 내돈내산 솔직후기였습니다!! \\u200b #내돈내산 #솔직후기 경기도 성남시 분당구 분당내곡로 131 판교 테크원 타워 2F #판교맛집 #판교역중식 #분당맛집 #판교테크원타워 #몽중헌 활동정보 서재안에 글 0안녕하세요 오늘은 판교 신상 맛집 소개해드리겠습니다. 3.28 (월) 바로 오늘!! 오픈한 따끈따끈한 중식당 몽중헌 판교점 입니다. 딤섬으로 유명한 '몽중헌'은 판교역 바로앞에 있는 판교테크원타워 2층에 위치해있구요 몇주전부터 오픈예정 현수막을 보고 기대를 하고 있었습니다 ㅋㅋ [판교 맛집] 바삭바삭 텐동 맛집 '온센' :: 판교테크원타워 안녕하세요 오늘은 신규오픈한지 3일밖에 안된 따끈따끈한 신상맛집 소개해드립니다 ㅎ 이미 방송으로 유명... m.blog.naver.com 판교테크원타워 정보는 위 포스팅 참고해주시고 그럼 만나러 가보겠습니다. 몽중헌 판교점 경기 성남시 분당구 분당내곡로 131, 판교테크원타워 2층\"}, {'url': 'https://blog.naver.com/PostView.naver?blogId=uoonie&logNo=223335082407', 'content': \"안녕하세요-☺️ 오늘은 판교 중식당 맛집, 분위기 맛집 '몽중헌 판교점' 소개해 드리려고 해요. 먼저 저는 당일 예약하였으며, 캐치 테이블 예약이 불가하여 전화 예약을 하였습니다.  캐치테이블 예약 가능, 전화예약 가능 룸 지정은 전화 예약만 가능, 전화 예약 시 매우 친절하게 안내해 주심👍 경기도 성남시 분당구 분당내곡로 131 판교 테크원 타워 2F 안녕하세요-☺️  몽중헌 추천합니다! \\u200b 조용하게 가족 식사 즐긴 몽중헌 판교점에서-☺️ \\u200b #몽중헌판교 #몽중헌 #중식당추천 #판교맛집 #판교중식당 #판교데이트 #판교가족식사 #판교상견례 \\u200b \\u200b 검색  당일 예약이라 룸은 불가하였으며, 홀 테이블로 세팅해 주신다고 하였어요. 정말 매우 친절하게 예약을 도와주셨고 카카오톡 알림톡으로 한 번 더 예약 안내 정보를 보내주세요. \\u200b 몽중헌 판교 내부 분위기/ 홀 자리경기도 성남시 분당구 분당내곡로 131 판교 테크원 타워 2F. 안녕하세요-☺️. 오늘은 판교 중식당 맛집, 분위기 맛집. '몽중헌 판교점' 소개해 드리려고 해요. 존재하지 않는 이미지입니다. 먼저 저는 당일 예약하였으며, 캐치 테이블 예약이 불가하여 전화 예약을 ...\"}, {'url': 'https://m.blog.naver.com/soh_y_/223176564604', 'content': '• 주소 / 경기 성남시 분당구 분당내곡로 131 판교 테크원타워 2층 \\u200b • 주차 / 주차 가능 \\u200b • 전화번호 / 031-601-7574 \\u200b • 운영시간 / 월~금 11:30~22:00  블로그 카테고리 이동 Hyeon’s Daily 판교 테크원 맛집_분위기 좋은 중식당 주차 편한 몽중헌 판교점 2023. 8. 7. 6:00 \\u200b \\u200b 몽중헌 판교점 다양한 딤섬을 즐길 수 있는 분위기 좋은 중식당  안녕하세요. 이번에 소개해드릴 곳은 #몽중헌판교점 이에요. 몽중헌은 체인점인데 딤섬으로 유명한 곳이에요. \\u200b 제가 요즘 가장 좋아하는 장소인 테크원 타워 2층에 입점되어 있어요. \\u200b  한 번씩 방문하기 좋을 것 같아요. \\u200b #몽중헌 #몽중헌메뉴 #몽중헌예약 #몽중헌룸예약 #몽중헌회식 #몽중헌데이트 #몽중헌판교점 #테크원맛집 #테크원주차 #판교역맛집 #판교맛집 #판교중식당이웃추가 위치 몽중헌 판교점 존재하지 않는 이미지입니다. 몽중헌 판교점 다양한 딤섬을 즐길 수 있는 분위기 좋은 중식당 • 주소 / 경기 성남시 분당구 분당내곡로 131 판교 테크원타워 2층 • 주차 / 주차 가능 • 전화번호 / 031-601-7574 • 운영시간 / 월~금 11:30~22:00 브레이크 타임 15:00~17:30 라스트 오더 21:00 토~일 11:30~21:30 브레이크 타임 15:00~17:30 라스트 오더 20:30 몽중헌 판교점 경기도 성남시 분당구 분당내곡로 131 판교 테크원 타워 2F 이 블로그의 체크인 이 장소의 다른 글 안녕하세요. 이번에 소개해드릴 곳은 #몽중헌판교점 이에요.'}, {'url': 'https://df1229.tistory.com/entry/판교-딤섬-맛집-고급스러운-중식당-몽중헌-솔직후기점심-코스요리', 'content': 'by 드림71 2023. 6. 11. 23:05 본문 요즘 판교역 부근에 건물들이 많이 생기면서, 고급스럽고 맛있는 음식점들이 속속 생겨나고 있습니다.  오늘은 판교 Tech1 건물 2층에 있는 딤섬 맛집 몽중헌을 소개해드리려고 합니다. 점심 코스로 먹었으며, 아래 내용에 자세히 설명시켜 드리겠습니다. [몽중헌 - Location]  Tech1 2층에 있는 음식점들은 워낙 큰 곳이 많이 입주하고 있어 금방 찾으실 수 있습니다. 몽중헌은 가격이 생각보다 비싸기 때문에 당일 점심 예약은 충분히 가능하며 오전 10시쯤 전화해도 예약 가능합니다.  [몽중헌 - Location] 지하에 주차하고 Tech1 2층에 올라오면 에스켈레터 바로 옆에 위치하고 있습니다. (판교역 쪽 방향)몽중헌은 가격이 생각보다 비싸기 때문에 당일 점심 예약은 충분히 가능하며 오전 10시쯤 전화해도 예약 가능합니다. (아쉽게도 룸은 없습니다.) 이제 들어가서 먹어보겠습니다.! [대표 메뉴] 대표 메뉴는 딤섬으로 알고 있으며, 저는 처음 가본 집이라 점심 코스를 먹으려고 합니다. 아무래도 코스요리가 이 식당에 기본적인 맛을 평가 하기 좋을거라 생각했습니다. 출처 : 몽중헌 홈페이지 고민 없이 점심 코스 중 가성비 있는 B 코스를 선택했습니다. (가격은 솔직히 비싸긴 하네요.) 1. 계절 냉채 계절 냉채가 나왔네요. 보시면 아시겠지만, 닭과 새우는 뻔한 맛 입니다.'}, {'url': 'https://www.diningcode.com/profile.php?rid=tPe4BQt6j8y0', 'content': '0명의 좋아요한 사용자 모두보기(10장) 몽중헌 판교점 60점 3명의 평가 3.3점 영업시간 ◷ 영업 전 [오늘] 02.09 (금) 영업시간: 11:30 - 21:30 브레이크타임: 15:00 - 17:30  월백언니 1월 21일 핓이 1월 18일 승도리도리 1월 16일 이메일 문의 : contact@diningcode.com  사자는야옹 (142곳 작성, 151개 공감받음) 2023년 8월 27일 맛1 가격1 서비스5 판교에서 가격대가 꽤 나가는 중국집이에요 우육탕면 주문했는데 제가 생각했던 우육탕면과 많이 다르네요  광동식 전가복(S) 70,000원 시그니처 딤섬(구채교, 하교) 추천 12,000원 더보기 몽중헌과\\xa0비슷한 맛집 현재 식당 근처점수가 높은가장 유사한 3건의 방문자 평가 3.3점 맛3.6 가격2.3 서비스4.5몽중헌 판교점 분당구 | 중식당, 짜장면 60점 3명의 평가 3.3점 좋아요 (2) 공유 평가하기 경기도 성남시 분당구 백현동 534 지도보기 031-601-7574 상견례 고급스러운, 점심식사, 저녁식사, 룸식당, 주차 폐업신고 · 정보수정 제안 영업시간 영업 중 [오늘] 02.06 (화) 영업시간: 11:30 - 22:00 브레이크타임: 15:00 - 17:30 라스트오더: 21:00 02.07 (수) 영업시간: 11:30 - 22:00 브레이크타임: 15:00 - 17:30 라스트오더: 21:00 02.08 (목) 영업시간: 11:30 - 22:00 브레이크타임: 15:00 - 17:30 라스트오더: 21:00'}]\u001b[0m\u001b[32;1m\u001b[1;3m판교 몽중헌의 전화번호는 031-601-7574입니다.\u001b[0m\n",
      "\n",
      "\u001b[1m> Finished chain.\u001b[0m\n"
     ]
    }
   ],
   "source": [
    "result = agent_executor.invoke({\"input\": \"판교 몽중헌의 전화번호를 알려줘\"})"
   ]
  },
  {
   "cell_type": "code",
   "execution_count": 13,
   "metadata": {},
   "outputs": [
    {
     "data": {
      "text/plain": [
       "'판교 몽중헌의 전화번호는 031-601-7574입니다.'"
      ]
     },
     "execution_count": 13,
     "metadata": {},
     "output_type": "execute_result"
    }
   ],
   "source": [
    "result[\"output\"]"
   ]
  }
 ],
 "metadata": {
  "kernelspec": {
   "display_name": "py-test",
   "language": "python",
   "name": "python3"
  },
  "language_info": {
   "codemirror_mode": {
    "name": "ipython",
    "version": 3
   },
   "file_extension": ".py",
   "mimetype": "text/x-python",
   "name": "python",
   "nbconvert_exporter": "python",
   "pygments_lexer": "ipython3",
   "version": "3.10.13"
  }
 },
 "nbformat": 4,
 "nbformat_minor": 2
}
