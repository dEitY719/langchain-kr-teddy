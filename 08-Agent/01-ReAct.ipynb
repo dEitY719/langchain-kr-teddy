{
 "cells": [
  {
   "cell_type": "code",
   "execution_count": 1,
   "metadata": {},
   "outputs": [
    {
     "data": {
      "text/plain": [
       "True"
      ]
     },
     "execution_count": 1,
     "metadata": {},
     "output_type": "execute_result"
    }
   ],
   "source": [
    "# API KEY를 환경변수로 관리하기 위한 설정 파일\n",
    "from dotenv import load_dotenv\n",
    "\n",
    "# API KEY 정보로드\n",
    "load_dotenv()"
   ]
  },
  {
   "cell_type": "code",
   "execution_count": 44,
   "metadata": {},
   "outputs": [],
   "source": [
    "from langchain_community.tools.tavily_search import TavilySearchResults"
   ]
  },
  {
   "cell_type": "code",
   "execution_count": 46,
   "metadata": {},
   "outputs": [],
   "source": [
    "search = TavilySearchResults()"
   ]
  },
  {
   "cell_type": "code",
   "execution_count": 49,
   "metadata": {},
   "outputs": [
    {
     "data": {
      "text/plain": [
       "[{'url': 'https://teddylee777.github.io/thoughts/데이터분석-인공지능-서적-추천/',\n",
       "  'content': '테디노트 책 출간 소식 전해 드립니다~^^ 지난 6개월간 3명의 동료들과 열심히 집필한 책이 드디어 온라인/오프라인 출간 되었습니다! 책 출간 소식 보러가기 참고  🔥알림🔥 ① 테디노트 유튜브 - 구경하러 가기! ② 서울대 X 테디노트 ChatGPT & PyTorch 강의 강의 커리큘럼 👀 데이터 분석/인공지능을 공부하려는 분들께 경험을 토대로 학습 방법과 책 추천 (1)  스터디, 그리고 읽은 책을 기준으로 공유드립니다.  토대로 정리한 학습 순서와 공부법을 추천해 드리고 싶었습니다.① 테디노트 유튜브 - ... 데이터 분석/ 인공지능 관련 도서는 국내 저자분들의 책들이 좀 더 친절하고 이해도 쉽습니다. 이 책은 굉장히 디테일한 내용을 다루고 있기는 합니다만, 입문자에게는 비추입니다. 하지만, 실력을 업그레이드 하고 싶다면 나중에 한 번 ...'},\n",
       " {'url': 'https://teddylee777.github.io/book/tf-book/',\n",
       "  'content': '🔥알림🔥 ① 테디노트 유튜브 - 구경하러 가기! ② 서울대 X 테디노트 ChatGPT & PyTorch 강의 강의 커리큘럼 👀 파이썬 딥러닝 텐서플로 책이 출간되었습니다! 2021년 07월 16일 3 분 소요  인공지능 서적, 인공지능 책, 테디노트, 테디노트 책, 테디노트 책, 텐서플로 책, 텐서플로우 책 추천, 파이썬, 파이썬 딥러닝 텐서플로, 파이썬 책 추천 카테고리: book 업데이트: 2021년 07월 16일  인생 버킷리스트 중 하나인 책 집필을 많은 분들께서 관심있지만 어렵다고 느끼시는 주제인 딥러닝이라는 주제로 출간되었다는 점에서 너무나 뿌듯합니다^^ 책 보러가기(온라인) 저자 & 독자  3 분 소요 지난 6개월간 동료 3명과 집필한 “파이썬 딥러닝 텐서플로” 책이 드디어 온라인/오프라인 출간 되었습니다!!!① 테디노트 유튜브 - 구경하러 가기! ② 서울대 X 테디노트 ChatGPT & PyTorch 강의 강의 커리큘럼 👀. 파이썬 딥러닝 텐서플로 책이 출간되었습니다! 2021년 07월 16일 3 분 소요 목차. 저자 & 독자; 예제코드; 목차 구성; 그림과 예시를 통한 친절한 설명! 끝으로'},\n",
       " {'url': 'https://teddylee777.github.io/book/free-ebook/',\n",
       "  'content': '🔥알림🔥 ① 테디노트 유튜브 - 구경하러 가기! ② 서울대 X 테디노트 ChatGPT & PyTorch 강의 강의 커리큘럼 👀 무료 E-Book 소개 - Python, 데이터분석, SQL, 정규식 표현  먼저, 이렇게 무료로 공개(혹은 한시적 EVENT) 해주신 저자님들과 유통사에게 감사하다는 말씀을 미리 전해 드립니다.  링크들을 정리하여 공유 드려 보고자 합니다. 본 포스팅은 광고글은 아니며, 언제까지 무료로 제공될지는 모릅니다. 언제든 무료 e-book은 예고 없이 종료될 수 있습니다.  아래 소개해 드린 서적들은 종이책이 아닌 e-book에 한하여 무료입니다. 종이책은 유료입니다.① 테디노트 유튜브 - ... 먼저, 이렇게 무료로 공개(혹은 한시적 EVENT) 해주신 저자님들과 유통사에게 감사하다는 말씀을 미리 전해 드립니다. 1. Python 데이터분석 활용편 - Python, Numpy, Pandas, Visualization, Crawling 30분 요약강좌!'},\n",
       " {'url': 'https://github.com/teddylee777',\n",
       "  'content': '📌 Worked @ Samsung Electronics 테디노트 Blog 테디노트 YouTube @teddynote LinkedIn 💻 한 방으로 끝내는 판다스 🏆 텐서플로우 자격증 강의  2.3k 789 머신러닝/딥러닝(PyTorch, TensorFlow) 전용 도커입니다. 한글 폰트, 한글 자연어처리 패키지(konlpy), 형태소 분석기, Timezone 등의 설정 등을 추가 하였습니다.  🏆 텐서플로우 자격증 강의 💡 깃헙 블로그(Github Blog)로 차별화 된 나만의 홈페이지 만들기! 📗 파이썬 딥러닝 텐서플로(2021, 정보문화사) 저자 💻 강의/강연 Pinned  Teddy Lee (이경록) 👋 📌 TensorFlow Developers Certificate 📌 Founder of Braincrew Inc. 📌 Data Science/ML/DL테디노트 Blog. 테디노트 YouTube. @teddynote. LinkedIn. 💻 한 방으로 끝내는 판다스. 🏆 텐서플로우 자격증 강의. 💡 깃헙 블로그(Github Blog)로 차별화 된 나만의 홈페이지 만들기! 📗 파이썬 딥러닝 텐서플로(2021, 정보문화사) 저자. 💻 강의/강연'}]"
      ]
     },
     "execution_count": 49,
     "metadata": {},
     "output_type": "execute_result"
    }
   ],
   "source": [
    "search.run(\"테디노트 저자에 대해서 알아봐 줘\")"
   ]
  },
  {
   "cell_type": "code",
   "execution_count": 50,
   "metadata": {},
   "outputs": [],
   "source": [
    "from langchain_openai import ChatOpenAI\n",
    "\n",
    "llm = ChatOpenAI(model=\"gpt-3.5-turbo\", temperature=0)"
   ]
  },
  {
   "cell_type": "code",
   "execution_count": 51,
   "metadata": {},
   "outputs": [],
   "source": [
    "from langchain import hub\n",
    "\n",
    "# Get the prompt to use - you can modify this!\n",
    "prompt = hub.pull(\"hwchase17/openai-functions-agent\")"
   ]
  },
  {
   "cell_type": "code",
   "execution_count": 53,
   "metadata": {},
   "outputs": [],
   "source": [
    "from langchain.agents import create_openai_functions_agent\n",
    "\n",
    "tools = [TavilySearchResults()]\n",
    "agent = create_openai_functions_agent(llm, tools, prompt)"
   ]
  },
  {
   "cell_type": "code",
   "execution_count": 54,
   "metadata": {},
   "outputs": [],
   "source": [
    "from langchain.agents import AgentExecutor\n",
    "\n",
    "agent_executor = AgentExecutor(agent=agent, tools=tools, verbose=True)"
   ]
  },
  {
   "cell_type": "code",
   "execution_count": 55,
   "metadata": {},
   "outputs": [
    {
     "name": "stdout",
     "output_type": "stream",
     "text": [
      "\n",
      "\n",
      "\u001b[1m> Entering new AgentExecutor chain...\u001b[0m\n",
      "\u001b[32;1m\u001b[1;3mHello! How can I assist you today?\u001b[0m\n",
      "\n",
      "\u001b[1m> Finished chain.\u001b[0m\n"
     ]
    },
    {
     "data": {
      "text/plain": [
       "{'input': 'hi!', 'output': 'Hello! How can I assist you today?'}"
      ]
     },
     "execution_count": 55,
     "metadata": {},
     "output_type": "execute_result"
    }
   ],
   "source": [
    "agent_executor.invoke({\"input\": \"hi!\"})"
   ]
  },
  {
   "cell_type": "code",
   "execution_count": 63,
   "metadata": {},
   "outputs": [
    {
     "name": "stdout",
     "output_type": "stream",
     "text": [
      "\n",
      "\n",
      "\u001b[1m> Entering new AgentExecutor chain...\u001b[0m\n",
      "\u001b[32;1m\u001b[1;3m테디노트(teddylee777)의 GitHub 주소는 다음과 같습니다: \n",
      "\n",
      "https://github.com/teddylee777\u001b[0m\n",
      "\n",
      "\u001b[1m> Finished chain.\u001b[0m\n"
     ]
    }
   ],
   "source": [
    "result = agent_executor.invoke(\n",
    "    {\"input\": \"테디노트(teddylee777)의 github 주소를 알려줘\"}\n",
    ")"
   ]
  },
  {
   "cell_type": "code",
   "execution_count": 64,
   "metadata": {},
   "outputs": [
    {
     "name": "stdout",
     "output_type": "stream",
     "text": [
      "테디노트(teddylee777)의 GitHub 주소는 다음과 같습니다: \n",
      "\n",
      "https://github.com/teddylee777\n"
     ]
    }
   ],
   "source": [
    "print(result[\"output\"])"
   ]
  },
  {
   "cell_type": "code",
   "execution_count": 65,
   "metadata": {},
   "outputs": [
    {
     "name": "stdout",
     "output_type": "stream",
     "text": [
      "\n",
      "\n",
      "\u001b[1m> Entering new AgentExecutor chain...\u001b[0m\n",
      "\u001b[32;1m\u001b[1;3m\n",
      "Invoking: `tavily_search_results_json` with `{'query': '판교 몽중헌 전화번호'}`\n",
      "\n",
      "\n",
      "\u001b[0m\u001b[36;1m\u001b[1;3m[{'url': 'https://m.blog.naver.com/thwnd126/223218102784', 'content': '\\u200b 몽중헌 판교점 \\u200b  블로그 카테고리 이동 단단의 일상 공간 판교 몽중헌 판교점 런치 코스 후기, 룸 예약으로 환갑 가족 모임 했어요. 2023. 9. 21. 21:32 몽중헌 판교점 영업시간 : 매일 11:30 ~ 22:00  몽중헌 판교점은 판교역 2번 출구에서 도보 5분 거리 내에 위치한 판교 테크윈 건물 2층에 있다. 아주 깔끔하고 고급스러운 외관이었다. 판교 테크윈 건물은 지어진지 얼마되지 않아서 깔끔한데다가 맛집들도 꽤 많아서  모임 장소 중 유모차가 들어갈 수 있는 룸 음식점 몽중헌 판교점에 가기로 했다.메뉴 및 가격. 몽중헌 판교점에는 딤섬 코스부터 런치 코스, 디너 코스 등 다양한 코스 요리가 준비되어 있었고 단품 메뉴도 있었다. 우리는 룸을 예약했기 때문에 코스 요리 주문이 필수였다. 후식 포함 7개의 코스로 준비된 런치 B 코스 (80000원)을 6인으로 ...'}, {'url': 'https://blog.naver.com/PostView.nhn?blogId=kookkisokipoki&logNo=222861503265', 'content': '\\u200b 몽중헌 판교점 예약! 미리 예약을 못해서 당일에 하려니 전화밖에 안됐다 일요일 11:30 오픈하자마자 전화해서 한시반으로 예약해달라 했더니 지금 예약이 꽉차있는 상태로  몽중헌 판교점에 방문했다 \\u200b cj상품권을 어떻게 써야 잘썼다고 소문이 날까 고민하다가 몽중헌에 가서 쓰기로 한건데 너무 만족스러웠다 ㅎㅎ \\u200b CJ상품권 있으신 분들 몽중헌 가서 쓰세요 ㅎㅎ \\u200b 몽중헌 판교점 예약!  가족모임식당으로도 완전 추천~! 새로 생겨서 깔끔하고 좋다 \\u200b 몽중헌 판교점 후기 끝! \\u200b \\u200b #몽중헌 #몽중헌판교점 #판교중식당 # 검색 서재안에 글 16  지금 예약이 꽉차있는 상태로 한시반쯤엔 괜찮을거 같지만 기다려야할지도 모른다고.. 대기예약을 걸어주셨다 ㅎㅎ \\u200b \\u200b 판교 현대백화점 옆 테크원타워 2층에 위치해 있다몽중헌 판교점. 경기도 성남시 분당구 분당내곡로 131 판교 테크원 타워 2F. 몽중헌 판교점 후기! 쿠키 친구한테 받은 cj상품권도 쓸겸. 몽중헌 판교점에 방문했다. cj상품권을 어떻게 써야 잘썼다고 소문이 날까. 고민하다가 몽중헌에 가서 쓰기로 한건데. 너무 ...'}, {'url': 'https://tm7479581.tistory.com/9', 'content': '라스트오더 20:30 몽중헌 판교점 \\u200b 판교테크원 2층에 올라가면 몽중헌을 쉽게 찾을수 있습니다. \\u200b 몽중헌은 테이블이 적은게 아닌데, 방문하시려면 꼭! 예약을 하고 가셔야 됩니다. \\u200b  오늘은 판교역 1번출구에서 나온 뒤 오른편으로 보이는 판교 테크원 빌딩 2층에 있는 몽중헌를 소개해드리려 합니다. \\u200b 몽중헌 판교점 영업시간 - 매일 11:30-22:00 (브레이크타임-15:00-17:30)  몽중헌 판교점 입구 \\u200b 테이블에 앉으면 메뉴판이 있고, 담당 서버분께서 쟈스민차를 제공합니다. 저는 따뜻하게 먹는 이 쟈스민차가 꽤 맛있었습니다. 쟈스민차가 담겨져 있는 저 티팟도 너무 예쁘지 않나요.&^^ \\u200b  맛티의 맛있는 세상 맛있는 사진 맛있는 맛집 [판교] 몽중헌 - 꿈속의 집으로 당신을 초대합니다. 안녕하세요.! 좋은 정보를 제공하는 맛티입니다. \\u200b 오늘은 판교역 1번출구에서 나온 뒤안녕하세요.! 좋은 정보를 제공하는 맛티입니다. 오늘은 판교역 1번출구에서 나온 뒤 오른편으로 보이는 판교 테크원 빌딩 2층에 있는 몽중헌를 소개해드리려 합니다. 몽중헌 판교점 영업시간 - 매일 11:30-22:00 (브레이크타임-15:00-17:30) 라스트오더 20:30 몽중헌 판교점 판교테크원 2층에 올라가면 ...'}, {'url': 'https://blog.naver.com/PostView.naver?blogId=pdi0903&logNo=222685325353&directAccess=false', 'content': \"\\u200b 그럼 만나러 가보겠습니다. \\u200b 몽중헌 판교점 경기 성남시 분당구 분당내곡로 131, 판교테크원타워 2층 매장전화번호) 031-601-7574 영업시간) 11:30 ~ 22:00  따끈따끈한 중식당 \\u200b 몽중헌\\u200b 판교점 \\u200b 입니다. \\u200b 딤섬으로 유명한 '몽중헌'은 판교역 바로앞에 있는 판교테크원타워 2층에 위치해있구요 몇주전부터 오픈예정 현수막을 보고 기대를 하고 있었습니다 ㅋㅋ \\u200b  블로그 [판교 맛집] 드디어 오픈한 딤섬 전문점 '몽중헌' :: 내돈내산 솔직후기 안녕하세요 \\u200b 오늘은 판교 신상 맛집 소개해드리겠습니다. \\u200b 3.28(월) 바로 오늘!! 오픈한 따끈따끈한 중식당 \\u200b 몽중헌\\u200b  이상 내돈내산 솔직후기였습니다!! \\u200b #내돈내산 #솔직후기 경기도 성남시 분당구 분당내곡로 131 판교 테크원 타워 2F #판교맛집 #판교역중식 #분당맛집 #판교테크원타워 #몽중헌 활동정보 서재안에 글 0몽중헌 판교점. 경기 성남시 분당구 분당내곡로 131, 판교테크원타워 2층. 매장전화번호) 031-601-7574. 영업시간) 11:30 ~ 22:00. (브레이크타임 15:00 ~ 17:30) 존재하지 않는 이미지입니다. 판교테크원타워는 판교역 1번출구로 나오면. 바로 보이는 이곳. 존재하지 않는 ...\"}, {'url': 'https://m.blog.naver.com/soh_y_/223176564604', 'content': '블로그 카테고리 이동 Hyeon’s Daily 판교 테크원 맛집_분위기 좋은 중식당 주차 편한 몽중헌 판교점 2023. 8. 7. 6:00 \\u200b \\u200b 몽중헌 판교점 다양한 딤섬을 즐길 수 있는 분위기 좋은 중식당  • 주소 / 경기 성남시 분당구 분당내곡로 131 판교 테크원타워 2층 \\u200b • 주차 / 주차 가능 \\u200b • 전화번호 / 031-601-7574 \\u200b • 운영시간 / 월~금 11:30~22:00  한 번씩 방문하기 좋을 것 같아요. \\u200b #몽중헌 #몽중헌메뉴 #몽중헌예약 #몽중헌룸예약 #몽중헌회식 #몽중헌데이트 #몽중헌판교점 #테크원맛집 #테크원주차 #판교역맛집 #판교맛집 #판교중식당  안녕하세요. 이번에 소개해드릴 곳은 #몽중헌판교점 이에요. 몽중헌은 체인점인데 딤섬으로 유명한 곳이에요. \\u200b 제가 요즘 가장 좋아하는 장소인 테크원 타워 2층에 입점되어 있어요. \\u200b몽중헌 판교점. 다양한 딤섬을 즐길 수 있는 분위기 좋은 중식당. • 주소 / 경기 성남시 분당구 분당내곡로 131. 판교 테크원타워 2층. • 주차 / 주차 가능. • 전화번호 / 031-601-7574. • 운영시간 / 월~금 11:30~22:00. 브레이크 타임 15:00~17:30. 라스트 오더 21:00.'}]\u001b[0m\u001b[32;1m\u001b[1;3m판교 몽중헌의 전화번호는 031-601-7574입니다.\u001b[0m\n",
      "\n",
      "\u001b[1m> Finished chain.\u001b[0m\n"
     ]
    }
   ],
   "source": [
    "result = agent_executor.invoke({\"input\": \"판교 몽중헌의 전화번호를 알려줘\"})"
   ]
  },
  {
   "cell_type": "code",
   "execution_count": 66,
   "metadata": {},
   "outputs": [
    {
     "data": {
      "text/plain": [
       "'판교 몽중헌의 전화번호는 031-601-7574입니다.'"
      ]
     },
     "execution_count": 66,
     "metadata": {},
     "output_type": "execute_result"
    }
   ],
   "source": [
    "result[\"output\"]"
   ]
  }
 ],
 "metadata": {
  "kernelspec": {
   "display_name": "py-test",
   "language": "python",
   "name": "python3"
  },
  "language_info": {
   "codemirror_mode": {
    "name": "ipython",
    "version": 3
   },
   "file_extension": ".py",
   "mimetype": "text/x-python",
   "name": "python",
   "nbconvert_exporter": "python",
   "pygments_lexer": "ipython3",
   "version": "3.10.13"
  }
 },
 "nbformat": 4,
 "nbformat_minor": 2
}
