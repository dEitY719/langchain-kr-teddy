{
 "cells": [
  {
   "cell_type": "code",
   "execution_count": 2,
   "metadata": {},
   "outputs": [
    {
     "data": {
      "text/plain": [
       "True"
      ]
     },
     "execution_count": 2,
     "metadata": {},
     "output_type": "execute_result"
    }
   ],
   "source": [
    "# API KEY를 환경변수로 관리하기 위한 설정 파일\n",
    "from dotenv import load_dotenv\n",
    "\n",
    "# API KEY 정보로드\n",
    "load_dotenv()"
   ]
  },
  {
   "cell_type": "code",
   "execution_count": 13,
   "metadata": {},
   "outputs": [],
   "source": [
    "from langchain.chat_models import ChatOpenAI\n",
    "from langchain.llms import OpenAI\n",
    "from langchain.memory import ConversationEntityMemory\n",
    "\n",
    "# llm = ChatOpenAI(model=\"gpt-3.5-turbo\", temperature=0.1)\n",
    "llm = OpenAI(temperature=0.1)\n",
    "\n",
    "memory = ConversationEntityMemory(llm=llm)"
   ]
  },
  {
   "cell_type": "code",
   "execution_count": 23,
   "metadata": {},
   "outputs": [],
   "source": [
    "memory.save_context(\n",
    "    inputs={\n",
    "        \"human\": \"테디는 35세의 경험 많은 소프트웨어 개발자이며, 셜리는 32세의 창의적인 그래픽 디자이너입니다. \"\n",
    "        \"두 사람은 서로 다른 회사에서 일하다가 우연히 만나게 되었고, 공통된 비즈니스 아이디어로 인해 함께 창업을 결심했습니다. \"\n",
    "        \"테디는 효율적인 소프트웨어 솔루션 개발에 능숙하고, 셜리는 사용자 경험과 브랜딩에 대한 탁월한 감각을 가지고 있습니다.\"\n",
    "    },\n",
    "    outputs={\n",
    "        \"ai\": \"테디와 셜리의 창업 계획은 매우 잘 어울립니다. 테디의 기술적 능력과 셜리의 디자인 감각이 훌륭한 팀워크를 이룰 것으로 보입니다. \"\n",
    "        \"그들의 서로 다른 경력 배경과 전문성이 새로운 비즈니스 아이디어에 독특한 시각을 제공할 수 있을 것입니다.\"\n",
    "    },\n",
    ")\n",
    "memory.save_context(\n",
    "    inputs={\n",
    "        \"human\": \"그들은 처음에 사업 아이디어를 구체화하는 데 어려움을 겪었지만, 지속적인 노력과 피드백을 통해 명확한 비전을 설정할 수 있었습니다. \"\n",
    "        \"테디는 기술적 구현에 집중하면서도 셜리의 디자인 아이디어를 적극적으로 수용했고, 셜리는 테디의 기술적 제안에 따라 디자인을 조정했습니다.\"\n",
    "    },\n",
    "    outputs={\n",
    "        \"ai\": \"사업 초기 단계에서 겪는 어려움은 자연스러운 일입니다. 테디와 셜리가 서로의 의견을 존중하며 협력하는 모습은 그들의 사업이 성공적으로 성장할 수 있는 좋은 기반을 마련합니다. \"\n",
    "        \"상호 작용하는 그들의 전문성이 사업을 더욱 강화시킬 것입니다.\"\n",
    "    },\n",
    ")\n",
    "memory.save_context(\n",
    "    inputs={\n",
    "        \"human\": \"사업 계획을 수립한 후, 테디와 셜리는 투자자를 찾기 위해 노력하기 시작했습니다. \"\n",
    "        \"그들은 여러 투자자 미팅을 통해 자신들의 비전을 공유하고 사업 모델을 설명했습니다.\"\n",
    "    },\n",
    "    outputs={\n",
    "        \"ai\": \"투자자를 찾는 과정은 창업에 있어 중요한 단계입니다. 테디와 셜리가 자신들의 열정과 비전을 효과적으로 전달한다면, 투자자들을 설득할 수 있을 것입니다. \"\n",
    "        \"그들의 사업 모델과 시장 잠재력을 분명하게 제시하는 것이 중요합니다.\"\n",
    "    },\n",
    ")"
   ]
  },
  {
   "cell_type": "code",
   "execution_count": 27,
   "metadata": {},
   "outputs": [
    {
     "data": {
      "text/plain": [
       "{'history': 'Human: 테디는 35세의 경험 많은 소프트웨어 개발자이며, 셜리는 32세의 창의적인 그래픽 디자이너입니다. 두 사람은 서로 다른 회사에서 일하다가 우연히 만나게 되었고, 공통된 비즈니스 아이디어로 인해 함께 창업을 결심했습니다. 테디는 효율적인 소프트웨어 솔루션 개발에 능숙하고, 셜리는 사용자 경험과 브랜딩에 대한 탁월한 감각을 가지고 있습니다.\\nAI: 테디와 셜리의 창업 계획은 매우 잘 어울립니다. 테디의 기술적 능력과 셜리의 디자인 감각이 훌륭한 팀워크를 이룰 것으로 보입니다. 그들의 서로 다른 경력 배경과 전문성이 새로운 비즈니스 아이디어에 독특한 시각을 제공할 수 있을 것입니다.\\nHuman: 그들은 처음에 사업 아이디어를 구체화하는 데 어려움을 겪었지만, 지속적인 노력과 피드백을 통해 명확한 비전을 설정할 수 있었습니다. 테디는 기술적 구현에 집중하면서도 셜리의 디자인 아이디어를 적극적으로 수용했고, 셜리는 테디의 기술적 제안에 따라 디자인을 조정했습니다.\\nAI: 사업 초기 단계에서 겪는 어려움은 자연스러운 일입니다. 테디와 셜리가 서로의 의견을 존중하며 협력하는 모습은 그들의 사업이 성공적으로 성장할 수 있는 좋은 기반을 마련합니다. 상호 작용하는 그들의 전문성이 사업을 더욱 강화시킬 것입니다.\\nHuman: 사업 계획을 수립한 후, 테디와 셜리는 투자자를 찾기 위해 노력하기 시작했습니다. 그들은 여러 투자자 미팅을 통해 자신들의 비전을 공유하고 사업 모델을 설명했습니다.\\nAI: 투자자를 찾는 과정은 창업에 있어 중요한 단계입니다. 테디와 셜리가 자신들의 열정과 비전을 효과적으로 전달한다면, 투자자들을 설득할 수 있을 것입니다. 그들의 사업 모델과 시장 잠재력을 분명하게 제시하는 것이 중요합니다.',\n",
       " 'entities': {'테디': '테디는 사업 계획을 수립한 후, 투자자를 찾기 위해 노력하며 여러 투자자 미팅을 통해 자신들의 비전을 공유하고 사업 모델을 설명하는 데 중요한 역할을 합니다.'}}"
      ]
     },
     "execution_count": 27,
     "metadata": {},
     "output_type": "execute_result"
    }
   ],
   "source": [
    "memory.load_memory_variables({\"human\": \"테디는 누구입니까?\"})"
   ]
  },
  {
   "cell_type": "code",
   "execution_count": 29,
   "metadata": {},
   "outputs": [
    {
     "data": {
      "text/plain": [
       "{'history': 'Human: 테디는 35세의 경험 많은 소프트웨어 개발자이며, 셜리는 32세의 창의적인 그래픽 디자이너입니다. 두 사람은 서로 다른 회사에서 일하다가 우연히 만나게 되었고, 공통된 비즈니스 아이디어로 인해 함께 창업을 결심했습니다. 테디는 효율적인 소프트웨어 솔루션 개발에 능숙하고, 셜리는 사용자 경험과 브랜딩에 대한 탁월한 감각을 가지고 있습니다.\\nAI: 테디와 셜리의 창업 계획은 매우 잘 어울립니다. 테디의 기술적 능력과 셜리의 디자인 감각이 훌륭한 팀워크를 이룰 것으로 보입니다. 그들의 서로 다른 경력 배경과 전문성이 새로운 비즈니스 아이디어에 독특한 시각을 제공할 수 있을 것입니다.\\nHuman: 그들은 처음에 사업 아이디어를 구체화하는 데 어려움을 겪었지만, 지속적인 노력과 피드백을 통해 명확한 비전을 설정할 수 있었습니다. 테디는 기술적 구현에 집중하면서도 셜리의 디자인 아이디어를 적극적으로 수용했고, 셜리는 테디의 기술적 제안에 따라 디자인을 조정했습니다.\\nAI: 사업 초기 단계에서 겪는 어려움은 자연스러운 일입니다. 테디와 셜리가 서로의 의견을 존중하며 협력하는 모습은 그들의 사업이 성공적으로 성장할 수 있는 좋은 기반을 마련합니다. 상호 작용하는 그들의 전문성이 사업을 더욱 강화시킬 것입니다.\\nHuman: 사업 계획을 수립한 후, 테디와 셜리는 투자자를 찾기 위해 노력하기 시작했습니다. 그들은 여러 투자자 미팅을 통해 자신들의 비전을 공유하고 사업 모델을 설명했습니다.\\nAI: 투자자를 찾는 과정은 창업에 있어 중요한 단계입니다. 테디와 셜리가 자신들의 열정과 비전을 효과적으로 전달한다면, 투자자들을 설득할 수 있을 것입니다. 그들의 사업 모델과 시장 잠재력을 분명하게 제시하는 것이 중요합니다.',\n",
       " 'entities': {'셜리': '셜리는 테디와 함께 투자자를 찾기 위해 노력하며, 여러 투자자 미팅에서 자신들의 비전과 사업 모델을 설명하는 역할을 맡았습니다.'}}"
      ]
     },
     "execution_count": 29,
     "metadata": {},
     "output_type": "execute_result"
    }
   ],
   "source": [
    "memory.load_memory_variables({\"human\": \"셜리는 누구입니까?\"})"
   ]
  },
  {
   "cell_type": "code",
   "execution_count": 30,
   "metadata": {},
   "outputs": [
    {
     "data": {
      "text/plain": [
       "{'테디': '테디는 사업 계획을 수립한 후, 투자자를 찾기 위해 노력하며 여러 투자자 미팅을 통해 자신들의 비전을 공유하고 사업 모델을 설명하는 데 중요한 역할을 합니다.',\n",
       " '셜리': '셜리는 테디와 함께 투자자를 찾기 위해 노력하며, 여러 투자자 미팅에서 자신들의 비전과 사업 모델을 설명하는 역할을 맡았습니다.'}"
      ]
     },
     "execution_count": 30,
     "metadata": {},
     "output_type": "execute_result"
    }
   ],
   "source": [
    "memory.entity_store.store"
   ]
  },
  {
   "cell_type": "code",
   "execution_count": 31,
   "metadata": {},
   "outputs": [
    {
     "data": {
      "text/plain": [
       "{'history': 'Human: 테디는 35세의 경험 많은 소프트웨어 개발자이며, 셜리는 32세의 창의적인 그래픽 디자이너입니다. 두 사람은 서로 다른 회사에서 일하다가 우연히 만나게 되었고, 공통된 비즈니스 아이디어로 인해 함께 창업을 결심했습니다. 테디는 효율적인 소프트웨어 솔루션 개발에 능숙하고, 셜리는 사용자 경험과 브랜딩에 대한 탁월한 감각을 가지고 있습니다.\\nAI: 테디와 셜리의 창업 계획은 매우 잘 어울립니다. 테디의 기술적 능력과 셜리의 디자인 감각이 훌륭한 팀워크를 이룰 것으로 보입니다. 그들의 서로 다른 경력 배경과 전문성이 새로운 비즈니스 아이디어에 독특한 시각을 제공할 수 있을 것입니다.\\nHuman: 그들은 처음에 사업 아이디어를 구체화하는 데 어려움을 겪었지만, 지속적인 노력과 피드백을 통해 명확한 비전을 설정할 수 있었습니다. 테디는 기술적 구현에 집중하면서도 셜리의 디자인 아이디어를 적극적으로 수용했고, 셜리는 테디의 기술적 제안에 따라 디자인을 조정했습니다.\\nAI: 사업 초기 단계에서 겪는 어려움은 자연스러운 일입니다. 테디와 셜리가 서로의 의견을 존중하며 협력하는 모습은 그들의 사업이 성공적으로 성장할 수 있는 좋은 기반을 마련합니다. 상호 작용하는 그들의 전문성이 사업을 더욱 강화시킬 것입니다.\\nHuman: 사업 계획을 수립한 후, 테디와 셜리는 투자자를 찾기 위해 노력하기 시작했습니다. 그들은 여러 투자자 미팅을 통해 자신들의 비전을 공유하고 사업 모델을 설명했습니다.\\nAI: 투자자를 찾는 과정은 창업에 있어 중요한 단계입니다. 테디와 셜리가 자신들의 열정과 비전을 효과적으로 전달한다면, 투자자들을 설득할 수 있을 것입니다. 그들의 사업 모델과 시장 잠재력을 분명하게 제시하는 것이 중요합니다.',\n",
       " 'entities': {'테디': '테디는 사업 계획을 수립한 후, 투자자를 찾기 위해 노력하며 여러 투자자 미팅을 통해 자신들의 비전을 공유하고 사업 모델을 설명하는 데 중요한 역할을 합니다.',\n",
       "  '셜리': '셜리는 테디와 함께 투자자를 찾기 위해 노력하며, 여러 투자자 미팅에서 자신들의 비전과 사업 모델을 설명하는 역할을 맡았습니다.'}}"
      ]
     },
     "execution_count": 31,
     "metadata": {},
     "output_type": "execute_result"
    }
   ],
   "source": [
    "memory.load_memory_variables(\n",
    "    {\"human\": \"테디와 셜리가 준비하는 회사는 어떤 회사입니까?\"}\n",
    ")"
   ]
  },
  {
   "cell_type": "code",
   "execution_count": 33,
   "metadata": {},
   "outputs": [
    {
     "data": {
      "text/plain": [
       "{'테디': '테디는 사업 계획을 수립한 후, 투자자를 찾기 위해 노력하며 여러 투자자 미팅을 통해 자신들의 비전을 공유하고 사업 모델을 설명하는 데 중요한 역할을 합니다.',\n",
       " '셜리': '셜리는 테디와 함께 투자자를 찾기 위해 노력하며, 여러 투자자 미팅에서 자신들의 비전과 사업 모델을 설명하는 역할을 맡았습니다.'}"
      ]
     },
     "execution_count": 33,
     "metadata": {},
     "output_type": "execute_result"
    }
   ],
   "source": [
    "memory.entity_store.store"
   ]
  },
  {
   "cell_type": "code",
   "execution_count": 15,
   "metadata": {},
   "outputs": [],
   "source": [
    "from langchain.chains import ConversationChain\n",
    "from langchain.memory import ConversationEntityMemory\n",
    "from langchain.memory.prompt import ENTITY_MEMORY_CONVERSATION_TEMPLATE\n",
    "from pydantic import BaseModel\n",
    "from typing import List, Dict, Any"
   ]
  },
  {
   "cell_type": "code",
   "execution_count": 16,
   "metadata": {},
   "outputs": [],
   "source": [
    "conversation = ConversationChain(\n",
    "    llm=llm,\n",
    "    verbose=True,\n",
    "    prompt=ENTITY_MEMORY_CONVERSATION_TEMPLATE,\n",
    "    memory=ConversationEntityMemory(llm=llm),\n",
    ")"
   ]
  },
  {
   "cell_type": "code",
   "execution_count": 17,
   "metadata": {},
   "outputs": [
    {
     "name": "stdout",
     "output_type": "stream",
     "text": [
      "\n",
      "\n",
      "\u001b[1m> Entering new ConversationChain chain...\u001b[0m\n",
      "Prompt after formatting:\n",
      "\u001b[32;1m\u001b[1;3mYou are an assistant to a human, powered by a large language model trained by OpenAI.\n",
      "\n",
      "You are designed to be able to assist with a wide range of tasks, from answering simple questions to providing in-depth explanations and discussions on a wide range of topics. As a language model, you are able to generate human-like text based on the input you receive, allowing you to engage in natural-sounding conversations and provide responses that are coherent and relevant to the topic at hand.\n",
      "\n",
      "You are constantly learning and improving, and your capabilities are constantly evolving. You are able to process and understand large amounts of text, and can use this knowledge to provide accurate and informative responses to a wide range of questions. You have access to some personalized information provided by the human in the Context section below. Additionally, you are able to generate your own text based on the input you receive, allowing you to engage in discussions and provide explanations and descriptions on a wide range of topics.\n",
      "\n",
      "Overall, you are a powerful tool that can help with a wide range of tasks and provide valuable insights and information on a wide range of topics. Whether the human needs help with a specific question or just wants to have a conversation about a particular topic, you are here to assist.\n",
      "\n",
      "Context:\n",
      "{'테디와': '', '셜리': '', '회사': '', '테디': '', '개발자': '', '디자이너': ''}\n",
      "\n",
      "Current conversation:\n",
      "\n",
      "Last line:\n",
      "Human: 테디와 셜리는 한 회사에서 일하는 동료입니다. 테디는 개발자이고 셜리는 디자이너입니다. 그들은최근 회사에서 일하는 것을 그만두고 자신들의 회사를 차릴 계획을 세우고 있습니다.\n",
      "You:\u001b[0m\n",
      "\n",
      "\u001b[1m> Finished chain.\u001b[0m\n"
     ]
    },
    {
     "data": {
      "text/plain": [
       "'그들이 자신들의 회사를 차릴 계획을 세우고 있다는 것은 흥미로운 일입니다. 자신들의 능력과 경험을 바탕으로 성공적인 비즈니스를 시작할 수 있을 것입니다. 회사를 차릴 때 고려해야 할 몇 가지 중요한 요소가 있습니다. 첫째, 비즈니스 아이디어를 개발하고 구체화해야 합니다. 어떤 제품이나 서비스를 제공할 것인지, 그것이 시장에서 어떤 가치를 창출할 수 있는지 고려해야 합니다. 둘째, 자금 조달 방법을 결정해야 합니다. 자체 자금을 사용할 것인지, 투자자를 찾을 것인지, 대출을 받을 것인지 등을 고려해야 합니다. 셋째, 비즈니스 계획을 작성해야 합니다. 비즈니스 계획은 회사의 목표, 전략, 재무 계획 등을 포함해야 합니다. 넷째, 법적인 측면을 고려해야 합니다. 회사를 차릴 때는 법적인 요구사항을 준수해야 하며, 필요한 라이선스나 등록 절차를 따라야 합니다. 마지막으로, 팀을 구성해야 합니다. 테디와 셜리는 이미 동료로서의 경험이 있으므로, 서로의 강점을 활용하여 효과적인 팀을 구성할 수 있을 것입니다. 이러한 요소들을 고려하면서 자신들의 회사를 차릴 계획을 세우면, 성공적인 창업을 이뤄낼 수 있을 것입니다.'"
      ]
     },
     "execution_count": 17,
     "metadata": {},
     "output_type": "execute_result"
    }
   ],
   "source": [
    "conversation.predict(\n",
    "    input=\"테디와 셜리는 한 회사에서 일하는 동료입니다. 테디는 개발자이고 셜리는 디자이너입니다. 그들은최근 회사에서 일하는 것을 그만두고 자신들의 회사를 차릴 계획을 세우고 있습니다.\"\n",
    ")"
   ]
  },
  {
   "cell_type": "code",
   "execution_count": 18,
   "metadata": {},
   "outputs": [
    {
     "data": {
      "text/plain": [
       "{'테디와': '테디와는 한 회사에서 일하는 동료이며, 개발자입니다. 그는 최근 회사에서 일하는 것을 그만두고 자신들의 회사를 차릴 계획을 세우고 있습니다.',\n",
       " '셜리': '셜리는 한 회사에서 일하는 디자이너이며, 테디와 함께 자신들의 회사를 차릴 계획을 세우고 있습니다.',\n",
       " '회사': '테디와 셜리는 한 회사에서 일하는 동료로, 테디는 개발자이고 셜리는 디자이너입니다. 그들은 최근 회사에서 일하는 것을 그만두고 자신들의 회사를 차릴 계획을 세우고 있습니다. 회사를 차릴 때 고려해야 할 요소들은 비즈니스 아이디어 개발, 자금 조달 방법 결정, 비즈니스 계획 작성, 법적인 측면 고려, 그리고 팀 구성입니다.',\n",
       " '테디': '테디는 한 회사에서 개발자로 일하고 있으며, 최근에 자신들의 회사를 차릴 계획을 세우고 있습니다.',\n",
       " '개발자': '개발자는 테디의 직업이며, 그는 자신들의 회사를 차릴 계획을 세우고 있습니다.',\n",
       " '디자이너': '셜리는 디자이너로서 테디와 함께 자신들의 회사를 차릴 계획을 세우고 있습니다.'}"
      ]
     },
     "execution_count": 18,
     "metadata": {},
     "output_type": "execute_result"
    }
   ],
   "source": [
    "conversation.memory.entity_store.store"
   ]
  },
  {
   "cell_type": "code",
   "execution_count": 19,
   "metadata": {},
   "outputs": [
    {
     "name": "stdout",
     "output_type": "stream",
     "text": [
      "\n",
      "\n",
      "\u001b[1m> Entering new ConversationChain chain...\u001b[0m\n",
      "Prompt after formatting:\n",
      "\u001b[32;1m\u001b[1;3mYou are an assistant to a human, powered by a large language model trained by OpenAI.\n",
      "\n",
      "You are designed to be able to assist with a wide range of tasks, from answering simple questions to providing in-depth explanations and discussions on a wide range of topics. As a language model, you are able to generate human-like text based on the input you receive, allowing you to engage in natural-sounding conversations and provide responses that are coherent and relevant to the topic at hand.\n",
      "\n",
      "You are constantly learning and improving, and your capabilities are constantly evolving. You are able to process and understand large amounts of text, and can use this knowledge to provide accurate and informative responses to a wide range of questions. You have access to some personalized information provided by the human in the Context section below. Additionally, you are able to generate your own text based on the input you receive, allowing you to engage in discussions and provide explanations and descriptions on a wide range of topics.\n",
      "\n",
      "Overall, you are a powerful tool that can help with a wide range of tasks and provide valuable insights and information on a wide range of topics. Whether the human needs help with a specific question or just wants to have a conversation about a particular topic, you are here to assist.\n",
      "\n",
      "Context:\n",
      "{'테디와 셜리': ''}\n",
      "\n",
      "Current conversation:\n",
      "Human: 테디와 셜리는 한 회사에서 일하는 동료입니다. 테디는 개발자이고 셜리는 디자이너입니다. 그들은최근 회사에서 일하는 것을 그만두고 자신들의 회사를 차릴 계획을 세우고 있습니다.\n",
      "AI: 그들이 자신들의 회사를 차릴 계획을 세우고 있다는 것은 흥미로운 일입니다. 자신들의 능력과 경험을 바탕으로 성공적인 비즈니스를 시작할 수 있을 것입니다. 회사를 차릴 때 고려해야 할 몇 가지 중요한 요소가 있습니다. 첫째, 비즈니스 아이디어를 개발하고 구체화해야 합니다. 어떤 제품이나 서비스를 제공할 것인지, 그것이 시장에서 어떤 가치를 창출할 수 있는지 고려해야 합니다. 둘째, 자금 조달 방법을 결정해야 합니다. 자체 자금을 사용할 것인지, 투자자를 찾을 것인지, 대출을 받을 것인지 등을 고려해야 합니다. 셋째, 비즈니스 계획을 작성해야 합니다. 비즈니스 계획은 회사의 목표, 전략, 재무 계획 등을 포함해야 합니다. 넷째, 법적인 측면을 고려해야 합니다. 회사를 차릴 때는 법적인 요구사항을 준수해야 하며, 필요한 라이선스나 등록 절차를 따라야 합니다. 마지막으로, 팀을 구성해야 합니다. 테디와 셜리는 이미 동료로서의 경험이 있으므로, 서로의 강점을 활용하여 효과적인 팀을 구성할 수 있을 것입니다. 이러한 요소들을 고려하면서 자신들의 회사를 차릴 계획을 세우면, 성공적인 창업을 이뤄낼 수 있을 것입니다.\n",
      "Last line:\n",
      "Human: 테디와 셜리가 준비하는 회사는 어떤 회사인가요?\n",
      "You:\u001b[0m\n",
      "\n",
      "\u001b[1m> Finished chain.\u001b[0m\n"
     ]
    },
    {
     "data": {
      "text/plain": [
       "'테디와 셜리가 준비하는 회사에 대해 구체적인 정보는 제공되지 않았으므로, 회사의 성격이나 업종에 대해 알 수 없습니다. 그러나 테디는 개발자이고 셜리는 디자이너이므로, 그들이 자신들의 전문 분야를 기반으로 한 기술 회사나 디자인 스튜디오를 차릴 수도 있습니다. 또는 그들이 다른 분야에서 창의적인 비즈니스를 시작할 수도 있습니다. 회사의 성격과 업종은 테디와 셜리가 선택한 비즈니스 아이디어와 목표에 따라 달라질 것입니다.'"
      ]
     },
     "execution_count": 19,
     "metadata": {},
     "output_type": "execute_result"
    }
   ],
   "source": [
    "conversation.predict(input=\"테디와 셜리가 준비하는 회사는 어떤 회사인가요?\")"
   ]
  },
  {
   "cell_type": "code",
   "execution_count": 20,
   "metadata": {},
   "outputs": [
    {
     "data": {
      "text/plain": [
       "{'테디와': '테디와는 한 회사에서 일하는 동료이며, 개발자입니다. 그는 최근 회사에서 일하는 것을 그만두고 자신들의 회사를 차릴 계획을 세우고 있습니다.',\n",
       " '셜리': '셜리는 한 회사에서 일하는 디자이너이며, 테디와 함께 자신들의 회사를 차릴 계획을 세우고 있습니다.',\n",
       " '회사': '테디와 셜리는 한 회사에서 일하는 동료로, 테디는 개발자이고 셜리는 디자이너입니다. 그들은 최근 회사에서 일하는 것을 그만두고 자신들의 회사를 차릴 계획을 세우고 있습니다. 회사를 차릴 때 고려해야 할 요소들은 비즈니스 아이디어 개발, 자금 조달 방법 결정, 비즈니스 계획 작성, 법적인 측면 고려, 그리고 팀 구성입니다.',\n",
       " '테디': '테디는 한 회사에서 개발자로 일하고 있으며, 최근에 자신들의 회사를 차릴 계획을 세우고 있습니다.',\n",
       " '개발자': '개발자는 테디의 직업이며, 그는 자신들의 회사를 차릴 계획을 세우고 있습니다.',\n",
       " '디자이너': '셜리는 디자이너로서 테디와 함께 자신들의 회사를 차릴 계획을 세우고 있습니다.',\n",
       " '테디와 셜리': '테디와 셜리가 준비하는 회사에 대해 구체적인 정보는 제공되지 않았으므로, 회사의 성격이나 업종에 대해 알 수 없습니다.'}"
      ]
     },
     "execution_count": 20,
     "metadata": {},
     "output_type": "execute_result"
    }
   ],
   "source": [
    "conversation.memory.entity_store.store"
   ]
  }
 ],
 "metadata": {
  "kernelspec": {
   "display_name": "py-test",
   "language": "python",
   "name": "python3"
  },
  "language_info": {
   "codemirror_mode": {
    "name": "ipython",
    "version": 3
   },
   "file_extension": ".py",
   "mimetype": "text/x-python",
   "name": "python",
   "nbconvert_exporter": "python",
   "pygments_lexer": "ipython3",
   "version": "3.10.13"
  }
 },
 "nbformat": 4,
 "nbformat_minor": 2
}
