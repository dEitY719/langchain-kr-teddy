{
 "cells": [
  {
   "cell_type": "code",
   "execution_count": 1,
   "metadata": {},
   "outputs": [
    {
     "data": {
      "text/plain": [
       "True"
      ]
     },
     "execution_count": 1,
     "metadata": {},
     "output_type": "execute_result"
    }
   ],
   "source": [
    "# 토큰 정보로드를 위한 라이브러리\n",
    "# 설치: pip install python-dotenv\n",
    "from dotenv import load_dotenv\n",
    "\n",
    "# 토큰 정보로드\n",
    "load_dotenv()"
   ]
  },
  {
   "cell_type": "markdown",
   "metadata": {},
   "source": [
    "## ChatMessageHistory\n",
    "\n",
    "대부분의 메모리 모듈을 뒷받침하는 핵심 유틸리티 클래스 중 하나는 ChatMessageHistory 클래스입니다.\n",
    "\n",
    "이 클래스는 초경량 래퍼로, `HumanMessage`, `AIMessage`를 저장한 다음 모두 가져오는 편리한 메서드를 제공합니다.\n",
    "\n",
    "체인 외부에서 메모리를 관리하는 경우 이 클래스를 직접 사용할 수 있습니다.\n"
   ]
  },
  {
   "cell_type": "code",
   "execution_count": 5,
   "metadata": {},
   "outputs": [],
   "source": [
    "from langchain.memory import ChatMessageHistory\n",
    "\n",
    "history = ChatMessageHistory()\n",
    "\n",
    "history.add_user_message(\"안녕?!\")\n",
    "history.add_ai_message(\"반갑습니다. 무엇을 도와 드릴까요?\")"
   ]
  },
  {
   "cell_type": "code",
   "execution_count": 6,
   "metadata": {},
   "outputs": [
    {
     "name": "stdout",
     "output_type": "stream",
     "text": [
      "Human: 안녕?!\n",
      "AI: 반갑습니다. 무엇을 도와 드릴까요?\n"
     ]
    }
   ],
   "source": [
    "# 출력\n",
    "print(history)"
   ]
  },
  {
   "cell_type": "code",
   "execution_count": 7,
   "metadata": {},
   "outputs": [],
   "source": [
    "history.add_user_message(\"너는 누구니?\")\n",
    "history.add_ai_message(\"제 이름은 랭체인입니다. 무엇을 도와 드릴까요?\")"
   ]
  },
  {
   "cell_type": "code",
   "execution_count": 8,
   "metadata": {},
   "outputs": [
    {
     "name": "stdout",
     "output_type": "stream",
     "text": [
      "Human: 안녕?!\n",
      "AI: 반갑습니다. 무엇을 도와 드릴까요?\n",
      "Human: 너는 누구니?\n",
      "AI: 제 이름은 랭체인입니다. 무엇을 도와 드릴까요?\n"
     ]
    }
   ],
   "source": [
    "# 출력\n",
    "print(history)"
   ]
  },
  {
   "cell_type": "markdown",
   "metadata": {},
   "source": [
    "## 대화 내용을 기억하는 Chain 생성\n"
   ]
  },
  {
   "cell_type": "code",
   "execution_count": 9,
   "metadata": {},
   "outputs": [],
   "source": [
    "from operator import itemgetter\n",
    "\n",
    "from langchain_openai import ChatOpenAI\n",
    "from langchain.memory import ConversationBufferMemory\n",
    "from langchain.schema.runnable import (\n",
    "    RunnablePassthrough,\n",
    "    RunnableLambda,\n",
    "    RunnableParallel,\n",
    ")\n",
    "from langchain.prompts import ChatPromptTemplate, MessagesPlaceholder"
   ]
  },
  {
   "cell_type": "code",
   "execution_count": 10,
   "metadata": {},
   "outputs": [],
   "source": [
    "# 대화 히스토리 저장\n",
    "chat_history = ChatMessageHistory()\n",
    "\n",
    "# 대화내용 전달을 위한 메모리\n",
    "memory = ConversationBufferMemory(\n",
    "    return_messages=True,\n",
    "    chat_memory=chat_history,\n",
    "    memory_key=\"chat_memory\"\n",
    ")"
   ]
  },
  {
   "cell_type": "code",
   "execution_count": 11,
   "metadata": {},
   "outputs": [
    {
     "data": {
      "text/plain": [
       "{'chat_memory': []}"
      ]
     },
     "execution_count": 11,
     "metadata": {},
     "output_type": "execute_result"
    }
   ],
   "source": [
    "# chat_memory 키에 저장되어 있는 대화 목록을 확인할 수 있습니다.\n",
    "memory.load_memory_variables({})"
   ]
  },
  {
   "cell_type": "code",
   "execution_count": 9,
   "metadata": {},
   "outputs": [
    {
     "data": {
      "text/plain": [
       "{'chat_memory': []}"
      ]
     },
     "execution_count": 9,
     "metadata": {},
     "output_type": "execute_result"
    }
   ],
   "source": [
    "# 대화내용을 Chain 안에서 가져오기 위한 RunnableLambda 적용\n",
    "RunnableLambda(memory.load_memory_variables).invoke({})"
   ]
  },
  {
   "cell_type": "code",
   "execution_count": 10,
   "metadata": {},
   "outputs": [
    {
     "data": {
      "text/plain": [
       "[]"
      ]
     },
     "execution_count": 10,
     "metadata": {},
     "output_type": "execute_result"
    }
   ],
   "source": [
    "# 대화내용을 Chain 안에서 가져오기 위한 RunnableLambda 적용\n",
    "(RunnableLambda(memory.load_memory_variables) | itemgetter(\"chat_memory\")).invoke({})"
   ]
  },
  {
   "cell_type": "code",
   "execution_count": 12,
   "metadata": {},
   "outputs": [],
   "source": [
    "prompt = ChatPromptTemplate.from_messages(\n",
    "    [\n",
    "        (\"system\", \"You are a helpful chatbot\"),\n",
    "        MessagesPlaceholder(variable_name=\"chat_memory\"),\n",
    "        (\"human\", \"{question}\"),\n",
    "    ]\n",
    ")\n",
    "\n",
    "model = ChatOpenAI(model=\"gpt-3.5-turbo\")"
   ]
  },
  {
   "cell_type": "code",
   "execution_count": 13,
   "metadata": {},
   "outputs": [],
   "source": [
    "chain = (\n",
    "    RunnableParallel(\n",
    "        chat_memory=RunnableLambda(memory.load_memory_variables)\n",
    "        | itemgetter(\"chat_memory\"),\n",
    "        question=RunnablePassthrough(),\n",
    "    )\n",
    "    | prompt\n",
    "    | model\n",
    ")"
   ]
  },
  {
   "cell_type": "code",
   "execution_count": 14,
   "metadata": {},
   "outputs": [
    {
     "name": "stdout",
     "output_type": "stream",
     "text": [
      "HUMAN: 안녕하세요? 제 이름은 테디에요\n",
      "AI: 안녕하세요, 테디님! 무엇을 도와드릴까요?\n"
     ]
    }
   ],
   "source": [
    "q = \"안녕하세요? 제 이름은 테디에요\"\n",
    "response = chain.invoke(q)\n",
    "memory.save_context({\"user\": q}, {\"ai\": response.content})\n",
    "print(f\"HUMAN: {q}\")\n",
    "print(f\"AI: {response.content}\")"
   ]
  },
  {
   "cell_type": "code",
   "execution_count": 15,
   "metadata": {},
   "outputs": [
    {
     "name": "stdout",
     "output_type": "stream",
     "text": [
      "HUMAN: 제 이름이 뭔지 기억하세요?\n",
      "AI: 네, 테디님의 이름을 기억하고 있습니다! 어떻게 도와드릴까요?\n"
     ]
    }
   ],
   "source": [
    "q = \"제 이름이 뭔지 기억하세요?\"\n",
    "response = chain.invoke(q)\n",
    "memory.save_context({\"user\": q}, {\"ai\": response.content})\n",
    "print(f\"HUMAN: {q}\")\n",
    "print(f\"AI: {response.content}\")"
   ]
  },
  {
   "cell_type": "code",
   "execution_count": 16,
   "metadata": {},
   "outputs": [
    {
     "data": {
      "text/plain": [
       "[HumanMessage(content='안녕하세요? 제 이름은 테디에요'),\n",
       " AIMessage(content='안녕하세요, 테디님! 무엇을 도와드릴까요?'),\n",
       " HumanMessage(content='제 이름이 뭔지 기억하세요?'),\n",
       " AIMessage(content='네, 테디님의 이름을 기억하고 있습니다! 어떻게 도와드릴까요?')]"
      ]
     },
     "execution_count": 16,
     "metadata": {},
     "output_type": "execute_result"
    }
   ],
   "source": [
    "# 대화내용을 모두 출력하여 확인합니다.\n",
    "memory.load_memory_variables({})[\"chat_memory\"]"
   ]
  },
  {
   "cell_type": "code",
   "execution_count": null,
   "metadata": {},
   "outputs": [],
   "source": [
    "# 대화내용을 비웁니다.\n",
    "chat_history.clear()"
   ]
  },
  {
   "cell_type": "code",
   "execution_count": null,
   "metadata": {},
   "outputs": [],
   "source": [
    "# 대화내용을 모두 출력하여 확인합니다.\n",
    "memory.load_memory_variables({})[\"chat_memory\"]"
   ]
  },
  {
   "cell_type": "code",
   "execution_count": null,
   "metadata": {},
   "outputs": [],
   "source": [
    "q = \"제 이름이 뭔지 기억하세요?\"\n",
    "response = chain.invoke(q)\n",
    "memory.save_context({\"user\": q}, {\"ai\": response.content})\n",
    "print(f\"HUMAN: {q}\")\n",
    "print(f\"AI: {response.content}\")"
   ]
  },
  {
   "cell_type": "code",
   "execution_count": null,
   "metadata": {},
   "outputs": [],
   "source": [
    "chat_history.messages[-2:]"
   ]
  }
 ],
 "metadata": {
  "kernelspec": {
   "display_name": "py-test",
   "language": "python",
   "name": "python3"
  },
  "language_info": {
   "codemirror_mode": {
    "name": "ipython",
    "version": 3
   },
   "file_extension": ".py",
   "mimetype": "text/x-python",
   "name": "python",
   "nbconvert_exporter": "python",
   "pygments_lexer": "ipython3",
   "version": "3.10.13"
  }
 },
 "nbformat": 4,
 "nbformat_minor": 2
}
