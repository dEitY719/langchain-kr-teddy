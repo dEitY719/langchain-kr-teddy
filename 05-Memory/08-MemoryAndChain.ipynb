{
 "cells": [
  {
   "cell_type": "code",
   "execution_count": 5,
   "metadata": {},
   "outputs": [
    {
     "data": {
      "text/plain": [
       "True"
      ]
     },
     "execution_count": 5,
     "metadata": {},
     "output_type": "execute_result"
    }
   ],
   "source": [
    "# API KEY를 환경변수로 관리하기 위한 설정 파일\n",
    "from dotenv import load_dotenv\n",
    "\n",
    "# API KEY 정보로드\n",
    "load_dotenv()"
   ]
  },
  {
   "cell_type": "code",
   "execution_count": 32,
   "metadata": {},
   "outputs": [],
   "source": [
    "from langchain.memory import ConversationBufferMemory"
   ]
  },
  {
   "cell_type": "code",
   "execution_count": 42,
   "metadata": {},
   "outputs": [],
   "source": [
    "memory = ConversationBufferMemory()"
   ]
  },
  {
   "cell_type": "code",
   "execution_count": 43,
   "metadata": {},
   "outputs": [
    {
     "data": {
      "text/plain": [
       "{'history': ''}"
      ]
     },
     "execution_count": 43,
     "metadata": {},
     "output_type": "execute_result"
    }
   ],
   "source": [
    "memory.load_memory_variables({})"
   ]
  },
  {
   "cell_type": "code",
   "execution_count": 44,
   "metadata": {},
   "outputs": [],
   "source": [
    "from langchain.chat_models import ChatOpenAI\n",
    "\n",
    "llm = ChatOpenAI(model=\"gpt-3.5-turbo\", temperature=0.1)"
   ]
  },
  {
   "cell_type": "markdown",
   "metadata": {},
   "source": [
    "## Chain 생성\n"
   ]
  },
  {
   "cell_type": "code",
   "execution_count": 45,
   "metadata": {},
   "outputs": [],
   "source": [
    "from langchain.prompts import PromptTemplate\n",
    "from langchain.chains import LLMChain"
   ]
  },
  {
   "cell_type": "code",
   "execution_count": 46,
   "metadata": {},
   "outputs": [],
   "source": [
    "prompt = PromptTemplate.from_template(\"{question}\")"
   ]
  },
  {
   "cell_type": "code",
   "execution_count": 47,
   "metadata": {},
   "outputs": [],
   "source": [
    "chain = LLMChain(llm=llm, memory=memory, prompt=prompt, verbose=True)"
   ]
  },
  {
   "cell_type": "code",
   "execution_count": 48,
   "metadata": {},
   "outputs": [
    {
     "name": "stdout",
     "output_type": "stream",
     "text": [
      "\n",
      "\n",
      "\u001b[1m> Entering new LLMChain chain...\u001b[0m\n",
      "Prompt after formatting:\n",
      "\u001b[32;1m\u001b[1;3m서울의 유명한 관광지 3곳을 추천해 주세요\u001b[0m\n",
      "\n",
      "\u001b[1m> Finished chain.\u001b[0m\n"
     ]
    },
    {
     "data": {
      "text/plain": [
       "{'question': '서울의 유명한 관광지 3곳을 추천해 주세요',\n",
       " 'history': '',\n",
       " 'text': '1. 경복궁: 서울의 대표적인 관광지로, 조선시대 왕궁으로 유명합니다. 아름다운 건물과 정원을 감상할 수 있으며, 궁궐 내부에는 국립고궁박물관이 위치해있어 한국의 역사와 문화를 알아볼 수 있습니다.\\n\\n2. 명동: 서울의 대표적인 쇼핑거리로, 다양한 상점과 브랜드 매장이 밀집해 있습니다. 또한 맛집과 카페도 많아 다양한 음식과 음료를 즐길 수 있습니다. 명동은 또한 한류 문화의 중심지로도 알려져 있어 한류스타를 찾아오는 팬들로 붐비는 곳입니다.\\n\\n3. 남산서울타워: 서울의 랜드마크로, 서울의 전경을 한 눈에 볼 수 있는 곳입니다. 남산의 정상에 위치해 있으며, 타워에서는 서울의 아름다운 야경을 감상할 수 있습니다. 또한 타워 내부에는 다양한 전시물과 레스토랑, 카페가 있어 즐거운 시간을 보낼 수 있습니다.'}"
      ]
     },
     "execution_count": 48,
     "metadata": {},
     "output_type": "execute_result"
    }
   ],
   "source": [
    "chain.invoke({\"question\": \"서울의 유명한 관광지 3곳을 추천해 주세요\"})"
   ]
  },
  {
   "cell_type": "code",
   "execution_count": 49,
   "metadata": {},
   "outputs": [
    {
     "name": "stdout",
     "output_type": "stream",
     "text": [
      "\n",
      "\n",
      "\u001b[1m> Entering new LLMChain chain...\u001b[0m\n",
      "Prompt after formatting:\n",
      "\u001b[32;1m\u001b[1;3m이전의 답변을 영어로 번역해 주세요\u001b[0m\n",
      "\n",
      "\u001b[1m> Finished chain.\u001b[0m\n"
     ]
    },
    {
     "data": {
      "text/plain": [
       "{'question': '이전의 답변을 영어로 번역해 주세요',\n",
       " 'history': 'Human: 서울의 유명한 관광지 3곳을 추천해 주세요\\nAI: 1. 경복궁: 서울의 대표적인 관광지로, 조선시대 왕궁으로 유명합니다. 아름다운 건물과 정원을 감상할 수 있으며, 궁궐 내부에는 국립고궁박물관이 위치해있어 한국의 역사와 문화를 알아볼 수 있습니다.\\n\\n2. 명동: 서울의 대표적인 쇼핑거리로, 다양한 상점과 브랜드 매장이 밀집해 있습니다. 또한 맛집과 카페도 많아 다양한 음식과 음료를 즐길 수 있습니다. 명동은 또한 한류 문화의 중심지로도 알려져 있어 한류스타를 찾아오는 팬들로 붐비는 곳입니다.\\n\\n3. 남산서울타워: 서울의 랜드마크로, 서울의 전경을 한 눈에 볼 수 있는 곳입니다. 남산의 정상에 위치해 있으며, 타워에서는 서울의 아름다운 야경을 감상할 수 있습니다. 또한 타워 내부에는 다양한 전시물과 레스토랑, 카페가 있어 즐거운 시간을 보낼 수 있습니다.',\n",
       " 'text': 'Please translate the previous answer into English.'}"
      ]
     },
     "execution_count": 49,
     "metadata": {},
     "output_type": "execute_result"
    }
   ],
   "source": [
    "chain.invoke({\"question\": \"이전의 답변을 영어로 번역해 주세요\"})"
   ]
  },
  {
   "cell_type": "code",
   "execution_count": 54,
   "metadata": {},
   "outputs": [
    {
     "data": {
      "text/plain": [
       "ConversationBufferMemory(chat_memory=ChatMessageHistory(messages=[HumanMessage(content='서울의 유명한 관광지 3곳을 추천해 주세요'), AIMessage(content='1. 경복궁: 서울의 대표적인 관광지로, 조선시대 왕궁으로 유명합니다. 아름다운 건물과 정원을 감상할 수 있으며, 궁궐 내부에는 국립고궁박물관이 위치해있어 한국의 역사와 문화를 알아볼 수 있습니다.\\n\\n2. 명동: 서울의 대표적인 쇼핑거리로, 다양한 상점과 브랜드 매장이 밀집해 있습니다. 또한 맛집과 카페도 많아 다양한 음식과 음료를 즐길 수 있습니다. 명동은 또한 한류 문화의 중심지로도 알려져 있어 한류스타를 찾아오는 팬들로 붐비는 곳입니다.\\n\\n3. 남산서울타워: 서울의 랜드마크로, 서울의 전경을 한 눈에 볼 수 있는 곳입니다. 남산의 정상에 위치해 있으며, 타워에서는 서울의 아름다운 야경을 감상할 수 있습니다. 또한 타워 내부에는 다양한 전시물과 레스토랑, 카페가 있어 즐거운 시간을 보낼 수 있습니다.'), HumanMessage(content='이전의 답변을 영어로 번역해 주세요'), AIMessage(content='Please translate the previous answer into English.')]))"
      ]
     },
     "execution_count": 54,
     "metadata": {},
     "output_type": "execute_result"
    }
   ],
   "source": [
    "memory"
   ]
  },
  {
   "cell_type": "markdown",
   "metadata": {},
   "source": [
    "## 이전 대화내용을 기억하도록 변경\n"
   ]
  },
  {
   "cell_type": "code",
   "execution_count": 74,
   "metadata": {},
   "outputs": [],
   "source": [
    "memory = ConversationBufferMemory(memory_key=\"context\")\n",
    "\n",
    "prompt = PromptTemplate.from_template(\"{context}\\n----\\nHuman: {question}\")"
   ]
  },
  {
   "cell_type": "code",
   "execution_count": 75,
   "metadata": {},
   "outputs": [],
   "source": [
    "chain = LLMChain(llm=llm, memory=memory, prompt=prompt, verbose=True)"
   ]
  },
  {
   "cell_type": "code",
   "execution_count": 76,
   "metadata": {},
   "outputs": [
    {
     "name": "stdout",
     "output_type": "stream",
     "text": [
      "\n",
      "\n",
      "\u001b[1m> Entering new LLMChain chain...\u001b[0m\n",
      "Prompt after formatting:\n",
      "\u001b[32;1m\u001b[1;3m[]\n",
      "----\n",
      "Human: 서울의 유명한 관광지 3곳을 추천해 주세요\u001b[0m\n",
      "\n",
      "\u001b[1m> Finished chain.\u001b[0m\n"
     ]
    },
    {
     "data": {
      "text/plain": [
       "{'question': '서울의 유명한 관광지 3곳을 추천해 주세요',\n",
       " 'context': [HumanMessage(content='서울의 유명한 관광지 3곳을 추천해 주세요'),\n",
       "  AIMessage(content='AI: 서울의 유명한 관광지로는 다음과 같은 곳들이 있습니다:\\n\\n1. 경복궁: 경복궁은 대한민국에서 가장 유명한 궁궐 중 하나입니다. 조선 시대 왕들의 거처로 사용되었던 이곳은 아름다운 정원과 전통적인 한옥 건물들로 유명합니다. 경복궁에서는 전통적인 경험 프로그램도 체험할 수 있으며, 궁궐 내부의 박물관에서는 한국의 역사와 문화에 대해 배울 수 있습니다.\\n\\n2. 명동: 명동은 서울에서 가장 유명한 쇼핑 지역 중 하나입니다. 이곳에는 다양한 상점, 백화점, 레스토랑, 카페 등이 있어 쇼핑과 식사를 즐길 수 있습니다. 또한, 명동은 한국의 유명한 브랜드들이 모여있는 곳으로 유명하며, 한류 스타들의 팬들이 자주 찾는 장소입니다.\\n\\n3. 남산 타워: 남산 타워는 서울의 랜드마크 중 하나로 유명합니다. 이곳에서는 서울의 아름다운 전경을 감상할 수 있으며, 타워 내부에는 전망대, 레스토랑, 기념품 가게 등이 있습니다. 남산 타워는 낮에도 멋진 풍경을 제공하지만, 특히 밤에는 서울의 야경을 감상하기에 최적의 장소입니다.\\n\\n이 외에도 서울에는 많은 유명한 관광지들이 있으니, 방문하고 싶은 곳을 선택해보세요!')],\n",
       " 'text': 'AI: 서울의 유명한 관광지로는 다음과 같은 곳들이 있습니다:\\n\\n1. 경복궁: 경복궁은 대한민국에서 가장 유명한 궁궐 중 하나입니다. 조선 시대 왕들의 거처로 사용되었던 이곳은 아름다운 정원과 전통적인 한옥 건물들로 유명합니다. 경복궁에서는 전통적인 경험 프로그램도 체험할 수 있으며, 궁궐 내부의 박물관에서는 한국의 역사와 문화에 대해 배울 수 있습니다.\\n\\n2. 명동: 명동은 서울에서 가장 유명한 쇼핑 지역 중 하나입니다. 이곳에는 다양한 상점, 백화점, 레스토랑, 카페 등이 있어 쇼핑과 식사를 즐길 수 있습니다. 또한, 명동은 한국의 유명한 브랜드들이 모여있는 곳으로 유명하며, 한류 스타들의 팬들이 자주 찾는 장소입니다.\\n\\n3. 남산 타워: 남산 타워는 서울의 랜드마크 중 하나로 유명합니다. 이곳에서는 서울의 아름다운 전경을 감상할 수 있으며, 타워 내부에는 전망대, 레스토랑, 기념품 가게 등이 있습니다. 남산 타워는 낮에도 멋진 풍경을 제공하지만, 특히 밤에는 서울의 야경을 감상하기에 최적의 장소입니다.\\n\\n이 외에도 서울에는 많은 유명한 관광지들이 있으니, 방문하고 싶은 곳을 선택해보세요!'}"
      ]
     },
     "execution_count": 76,
     "metadata": {},
     "output_type": "execute_result"
    }
   ],
   "source": [
    "chain.invoke({\"question\": \"서울의 유명한 관광지 3곳을 추천해 주세요\"})"
   ]
  },
  {
   "cell_type": "code",
   "execution_count": 77,
   "metadata": {},
   "outputs": [
    {
     "name": "stdout",
     "output_type": "stream",
     "text": [
      "\n",
      "\n",
      "\u001b[1m> Entering new LLMChain chain...\u001b[0m\n",
      "Prompt after formatting:\n",
      "\u001b[32;1m\u001b[1;3m[HumanMessage(content='서울의 유명한 관광지 3곳을 추천해 주세요'), AIMessage(content='AI: 서울의 유명한 관광지로는 다음과 같은 곳들이 있습니다:\\n\\n1. 경복궁: 경복궁은 대한민국에서 가장 유명한 궁궐 중 하나입니다. 조선 시대 왕들의 거처로 사용되었던 이곳은 아름다운 정원과 전통적인 한옥 건물들로 유명합니다. 경복궁에서는 전통적인 경험 프로그램도 체험할 수 있으며, 궁궐 내부의 박물관에서는 한국의 역사와 문화에 대해 배울 수 있습니다.\\n\\n2. 명동: 명동은 서울에서 가장 유명한 쇼핑 지역 중 하나입니다. 이곳에는 다양한 상점, 백화점, 레스토랑, 카페 등이 있어 쇼핑과 식사를 즐길 수 있습니다. 또한, 명동은 한국의 유명한 브랜드들이 모여있는 곳으로 유명하며, 한류 스타들의 팬들이 자주 찾는 장소입니다.\\n\\n3. 남산 타워: 남산 타워는 서울의 랜드마크 중 하나로 유명합니다. 이곳에서는 서울의 아름다운 전경을 감상할 수 있으며, 타워 내부에는 전망대, 레스토랑, 기념품 가게 등이 있습니다. 남산 타워는 낮에도 멋진 풍경을 제공하지만, 특히 밤에는 서울의 야경을 감상하기에 최적의 장소입니다.\\n\\n이 외에도 서울에는 많은 유명한 관광지들이 있으니, 방문하고 싶은 곳을 선택해보세요!')]\n",
      "----\n",
      "Human: 이전의 답변을 영어로 번역해 주세요\u001b[0m\n",
      "\n",
      "\u001b[1m> Finished chain.\u001b[0m\n"
     ]
    },
    {
     "data": {
      "text/plain": [
       "{'question': '이전의 답변을 영어로 번역해 주세요',\n",
       " 'context': [HumanMessage(content='서울의 유명한 관광지 3곳을 추천해 주세요'),\n",
       "  AIMessage(content='AI: 서울의 유명한 관광지로는 다음과 같은 곳들이 있습니다:\\n\\n1. 경복궁: 경복궁은 대한민국에서 가장 유명한 궁궐 중 하나입니다. 조선 시대 왕들의 거처로 사용되었던 이곳은 아름다운 정원과 전통적인 한옥 건물들로 유명합니다. 경복궁에서는 전통적인 경험 프로그램도 체험할 수 있으며, 궁궐 내부의 박물관에서는 한국의 역사와 문화에 대해 배울 수 있습니다.\\n\\n2. 명동: 명동은 서울에서 가장 유명한 쇼핑 지역 중 하나입니다. 이곳에는 다양한 상점, 백화점, 레스토랑, 카페 등이 있어 쇼핑과 식사를 즐길 수 있습니다. 또한, 명동은 한국의 유명한 브랜드들이 모여있는 곳으로 유명하며, 한류 스타들의 팬들이 자주 찾는 장소입니다.\\n\\n3. 남산 타워: 남산 타워는 서울의 랜드마크 중 하나로 유명합니다. 이곳에서는 서울의 아름다운 전경을 감상할 수 있으며, 타워 내부에는 전망대, 레스토랑, 기념품 가게 등이 있습니다. 남산 타워는 낮에도 멋진 풍경을 제공하지만, 특히 밤에는 서울의 야경을 감상하기에 최적의 장소입니다.\\n\\n이 외에도 서울에는 많은 유명한 관광지들이 있으니, 방문하고 싶은 곳을 선택해보세요!'),\n",
       "  HumanMessage(content='이전의 답변을 영어로 번역해 주세요'),\n",
       "  AIMessage(content='AI: Here are three famous tourist attractions in Seoul:\\n\\n1. Gyeongbokgung Palace: Gyeongbokgung Palace is one of the most famous palaces in South Korea. It was used as the residence of the kings during the Joseon Dynasty. It is known for its beautiful gardens and traditional Korean architecture. At Gyeongbokgung Palace, you can also experience traditional cultural programs and learn about Korean history and culture at the museum inside the palace.\\n\\n2. Myeongdong: Myeongdong is one of the most famous shopping areas in Seoul. It offers a variety of shops, department stores, restaurants, and cafes. Myeongdong is also known for being a gathering place for famous Korean brands and a popular spot for fans of Hallyu stars.\\n\\n3. Namsan Tower: Namsan Tower is a famous landmark in Seoul. From here, you can enjoy a beautiful view of Seoul. Inside the tower, there are observation decks, restaurants, and souvenir shops. Namsan Tower offers stunning views during the day, but it is especially popular for its night view of Seoul.\\n\\nThere are many other famous tourist attractions in Seoul, so choose the ones you want to visit!')],\n",
       " 'text': 'AI: Here are three famous tourist attractions in Seoul:\\n\\n1. Gyeongbokgung Palace: Gyeongbokgung Palace is one of the most famous palaces in South Korea. It was used as the residence of the kings during the Joseon Dynasty. It is known for its beautiful gardens and traditional Korean architecture. At Gyeongbokgung Palace, you can also experience traditional cultural programs and learn about Korean history and culture at the museum inside the palace.\\n\\n2. Myeongdong: Myeongdong is one of the most famous shopping areas in Seoul. It offers a variety of shops, department stores, restaurants, and cafes. Myeongdong is also known for being a gathering place for famous Korean brands and a popular spot for fans of Hallyu stars.\\n\\n3. Namsan Tower: Namsan Tower is a famous landmark in Seoul. From here, you can enjoy a beautiful view of Seoul. Inside the tower, there are observation decks, restaurants, and souvenir shops. Namsan Tower offers stunning views during the day, but it is especially popular for its night view of Seoul.\\n\\nThere are many other famous tourist attractions in Seoul, so choose the ones you want to visit!'}"
      ]
     },
     "execution_count": 77,
     "metadata": {},
     "output_type": "execute_result"
    }
   ],
   "source": [
    "chain.invoke({\"question\": \"이전의 답변을 영어로 번역해 주세요\"})"
   ]
  },
  {
   "cell_type": "markdown",
   "metadata": {},
   "source": [
    "## ChatPromptTemplate 로 변환\n"
   ]
  },
  {
   "cell_type": "code",
   "execution_count": 78,
   "metadata": {},
   "outputs": [],
   "source": [
    "from langchain.prompts import ChatPromptTemplate, MessagesPlaceholder"
   ]
  },
  {
   "cell_type": "code",
   "execution_count": 94,
   "metadata": {},
   "outputs": [],
   "source": [
    "memory = ConversationBufferMemory(memory_key=\"context\", return_messages=True)\n",
    "\n",
    "prompt = ChatPromptTemplate.from_messages(\n",
    "    [\n",
    "        (\"system\", \"You are a helpful assistant.\"),\n",
    "        MessagesPlaceholder(variable_name=\"context\"),\n",
    "        (\"human\", \"{question}\"),\n",
    "    ]\n",
    ")"
   ]
  },
  {
   "cell_type": "code",
   "execution_count": 95,
   "metadata": {},
   "outputs": [],
   "source": [
    "chain = LLMChain(llm=llm, memory=memory, prompt=prompt, verbose=True)"
   ]
  },
  {
   "cell_type": "code",
   "execution_count": 96,
   "metadata": {},
   "outputs": [
    {
     "name": "stdout",
     "output_type": "stream",
     "text": [
      "\n",
      "\n",
      "\u001b[1m> Entering new LLMChain chain...\u001b[0m\n",
      "Prompt after formatting:\n",
      "\u001b[32;1m\u001b[1;3mSystem: You are a helpful assistant.\n",
      "Human: 서울의 유명한 관광지 3곳을 추천해 주세요\u001b[0m\n",
      "\n",
      "\u001b[1m> Finished chain.\u001b[0m\n",
      "서울에는 많은 유명한 관광지가 있지만, 여기서는 세 곳을 추천해 드리겠습니다.\n",
      "\n",
      "1. 경복궁: 경복궁은 대한민국의 대표적인 궁궐로, 조선시대 왕실의 거처였습니다. 아름다운 정원과 전통적인 한옥 건물들이 조화롭게 어우러져 있어 많은 사람들이 찾는 관광지입니다. 경복궁에서는 전통적인 의상인 한복을 입고 사진을 찍을 수도 있으며, 궁궐 내부의 박물관에서는 조선시대의 문화와 역사를 배울 수 있습니다.\n",
      "\n",
      "2. 명동: 명동은 서울의 대표적인 쇼핑과 문화의 중심지로 알려져 있습니다. 이곳에는 다양한 상점, 백화점, 레스토랑, 카페 등이 있어 쇼핑과 식사를 즐길 수 있습니다. 또한, 명동은 많은 유명한 브랜드들이 입점한 곳으로 유명하며, 한국의 전통음식이나 한류 관련 상품들도 구매할 수 있습니다.\n",
      "\n",
      "3. 남산 서울타워: 남산 서울타워는 서울의 랜드마크로 알려져 있으며, 서울의 전경을 한 눈에 볼 수 있는 곳입니다. 타워 꼭대기에서는 서울의 아름다운 야경을 감상할 수 있으며, 타워 내부에는 다양한 전시물과 레스토랑, 카페가 있어 즐거운 시간을 보낼 수 있습니다. 또한, 남산에는 다양한 산책로와 공원도 있어 휴식을 즐길 수 있습니다.\n",
      "\n",
      "이상으로, 경복궁, 명동, 남산 서울타워를 추천해 드립니다. 다양한 문화와 역사를 경험하고 쇼핑과 휴식을 즐길 수 있는 장소들이니 방문해 보시기를 추천합니다.\n"
     ]
    }
   ],
   "source": [
    "print(chain.predict(question=\"서울의 유명한 관광지 3곳을 추천해 주세요\"))"
   ]
  },
  {
   "cell_type": "code",
   "execution_count": 97,
   "metadata": {},
   "outputs": [
    {
     "name": "stdout",
     "output_type": "stream",
     "text": [
      "\n",
      "\n",
      "\u001b[1m> Entering new LLMChain chain...\u001b[0m\n",
      "Prompt after formatting:\n",
      "\u001b[32;1m\u001b[1;3mSystem: You are a helpful assistant.\n",
      "Human: 서울의 유명한 관광지 3곳을 추천해 주세요\n",
      "AI: 서울에는 많은 유명한 관광지가 있지만, 여기서는 세 곳을 추천해 드리겠습니다.\n",
      "\n",
      "1. 경복궁: 경복궁은 대한민국의 대표적인 궁궐로, 조선시대 왕실의 거처였습니다. 아름다운 정원과 전통적인 한옥 건물들이 조화롭게 어우러져 있어 많은 사람들이 찾는 관광지입니다. 경복궁에서는 전통적인 의상인 한복을 입고 사진을 찍을 수도 있으며, 궁궐 내부의 박물관에서는 조선시대의 문화와 역사를 배울 수 있습니다.\n",
      "\n",
      "2. 명동: 명동은 서울의 대표적인 쇼핑과 문화의 중심지로 알려져 있습니다. 이곳에는 다양한 상점, 백화점, 레스토랑, 카페 등이 있어 쇼핑과 식사를 즐길 수 있습니다. 또한, 명동은 많은 유명한 브랜드들이 입점한 곳으로 유명하며, 한국의 전통음식이나 한류 관련 상품들도 구매할 수 있습니다.\n",
      "\n",
      "3. 남산 서울타워: 남산 서울타워는 서울의 랜드마크로 알려져 있으며, 서울의 전경을 한 눈에 볼 수 있는 곳입니다. 타워 꼭대기에서는 서울의 아름다운 야경을 감상할 수 있으며, 타워 내부에는 다양한 전시물과 레스토랑, 카페가 있어 즐거운 시간을 보낼 수 있습니다. 또한, 남산에는 다양한 산책로와 공원도 있어 휴식을 즐길 수 있습니다.\n",
      "\n",
      "이상으로, 경복궁, 명동, 남산 서울타워를 추천해 드립니다. 다양한 문화와 역사를 경험하고 쇼핑과 휴식을 즐길 수 있는 장소들이니 방문해 보시기를 추천합니다.\n",
      "Human: 이전의 답변을 영어로 번역해 주세요\u001b[0m\n",
      "\n",
      "\u001b[1m> Finished chain.\u001b[0m\n",
      "Here is the translation of the previous answer into English:\n",
      "\n",
      "1. Gyeongbokgung Palace: Gyeongbokgung Palace is a representative palace of South Korea and was the main royal palace during the Joseon Dynasty. It features beautiful gardens and traditional Korean architecture, making it a popular tourist destination. Visitors can also rent and wear traditional Korean hanbok costumes for photos. Inside the palace, there is a museum where you can learn about the culture and history of the Joseon Dynasty.\n",
      "\n",
      "2. Myeongdong: Myeongdong is a vibrant shopping and cultural district in Seoul. It offers a wide range of shops, department stores, restaurants, and cafes. Myeongdong is known for its famous brands and you can find traditional Korean food and K-pop related merchandise here as well.\n",
      "\n",
      "3. Namsan Seoul Tower: Namsan Seoul Tower is a landmark of Seoul and offers a panoramic view of the city. From the top of the tower, visitors can enjoy the beautiful night view of Seoul. Inside the tower, there are various exhibitions, restaurants, and cafes. Namsan also has walking trails and parks where you can relax and enjoy nature.\n",
      "\n",
      "These are the recommended places: Gyeongbokgung Palace, Myeongdong, and Namsan Seoul Tower. They offer a mix of culture, history, shopping, and relaxation, allowing you to have a memorable experience in Seoul.\n"
     ]
    }
   ],
   "source": [
    "print(chain.predict(question=\"이전의 답변을 영어로 번역해 주세요\"))"
   ]
  },
  {
   "cell_type": "markdown",
   "metadata": {},
   "source": [
    "## ConversationSummaryBufferMemory 를 활용한 요약 체인 생성\n"
   ]
  },
  {
   "cell_type": "code",
   "execution_count": 125,
   "metadata": {},
   "outputs": [],
   "source": [
    "from langchain.llms import OpenAI\n",
    "from langchain.memory import ConversationSummaryBufferMemory\n",
    "\n",
    "memory = ConversationSummaryBufferMemory(\n",
    "    llm=OpenAI(temperature=0.1),\n",
    "    memory_key=\"context\",\n",
    "    max_token_limit=200,\n",
    "    return_messages=True,\n",
    ")\n",
    "memory.save_context(\n",
    "    inputs={\"human\": \"유럽 여행 패키지의 가격은 얼마인가요?\"},\n",
    "    outputs={\n",
    "        \"ai\": \"유럽 14박 15일 패키지의 기본 가격은 3,500유로입니다. 이 가격에는 항공료, 호텔 숙박비, 지정된 관광지 입장료가 포함되어 있습니다. 추가 비용은 선택하신 옵션 투어나 개인 경비에 따라 달라집니다.\"\n",
    "    },\n",
    ")\n",
    "memory.save_context(\n",
    "    inputs={\"human\": \"여행 중에 방문할 주요 관광지는 어디인가요?\"},\n",
    "    outputs={\n",
    "        \"ai\": \"이 여행에서는 파리의 에펠탑, 로마의 콜로세움, 베를린의 브란덴부르크 문, 취리히의 라이네폴 등 유럽의 유명한 관광지들을 방문합니다. 각 도시의 대표적인 명소들을 포괄적으로 경험하실 수 있습니다.\"\n",
    "    },\n",
    ")\n",
    "memory.save_context(\n",
    "    inputs={\"human\": \"여행자 보험은 포함되어 있나요?\"},\n",
    "    outputs={\n",
    "        \"ai\": \"네, 모든 여행자에게 기본 여행자 보험을 제공합니다. 이 보험은 의료비 지원, 긴급 상황 발생 시 지원 등을 포함합니다. 추가적인 보험 보장을 원하시면 상향 조정이 가능합니다.\"\n",
    "    },\n",
    ")\n",
    "memory.save_context(\n",
    "    inputs={\n",
    "        \"human\": \"항공편 좌석을 비즈니스 클래스로 업그레이드할 수 있나요? 비용은 어떻게 되나요?\"\n",
    "    },\n",
    "    outputs={\n",
    "        \"ai\": \"항공편 좌석을 비즈니스 클래스로 업그레이드하는 것이 가능합니다. 업그레이드 비용은 왕복 기준으로 약 1,200유로 추가됩니다. 비즈니스 클래스에서는 더 넓은 좌석, 우수한 기내식, 그리고 추가 수하물 허용량 등의 혜택을 제공합니다.\"\n",
    "    },\n",
    ")\n",
    "\n",
    "memory.save_context(\n",
    "    inputs={\"human\": \"패키지에 포함된 호텔의 등급은 어떻게 되나요?\"},\n",
    "    outputs={\n",
    "        \"ai\": \"이 패키지에는 4성급 호텔 숙박이 포함되어 있습니다. 각 호텔은 편안함과 편의성을 제공하며, 중심지에 위치해 관광지와의 접근성이 좋습니다. 모든 호텔은 우수한 서비스와 편의 시설을 갖추고 있습니다.\"\n",
    "    },\n",
    ")\n",
    "memory.save_context(\n",
    "    inputs={\"human\": \"식사 옵션에 대해 더 자세히 알려주실 수 있나요?\"},\n",
    "    outputs={\n",
    "        \"ai\": \"이 여행 패키지는 매일 아침 호텔에서 제공되는 조식을 포함하고 있습니다. 점심과 저녁 식사는 포함되어 있지 않아, 여행자가 자유롭게 현지의 다양한 음식을 경험할 수 있는 기회를 제공합니다. 또한, 각 도시별로 추천 식당 리스트를 제공하여 현지의 맛을 최대한 즐길 수 있도록 도와드립니다.\"\n",
    "    },\n",
    ")\n",
    "memory.save_context(\n",
    "    inputs={\"human\": \"패키지 예약 시 예약금은 얼마인가요? 취소 정책은 어떻게 되나요?\"},\n",
    "    outputs={\n",
    "        \"ai\": \"패키지 예약 시 500유로의 예약금이 필요합니다. 취소 정책은 예약일로부터 30일 전까지는 전액 환불이 가능하며, 이후 취소 시에는 예약금이 환불되지 않습니다. 여행 시작일로부터 14일 전 취소 시 50%의 비용이 청구되며, 그 이후는 전액 비용이 청구됩니다.\"\n",
    "    },\n",
    ")"
   ]
  },
  {
   "cell_type": "code",
   "execution_count": 126,
   "metadata": {},
   "outputs": [
    {
     "data": {
      "text/plain": [
       "{'context': [SystemMessage(content='\\nThe human asks about the price and inclusions of a European travel package, to which the AI responds with the basic cost and lists famous landmarks included in the package. The human then inquires about travel insurance, and the AI confirms that basic coverage is included for all travelers and additional coverage can be added upon request. The human also asks about upgrading to business class seats and the AI explains that it is possible for an additional cost of approximately 1,200 euros round trip, with benefits such as wider seats, better in-flight meals, and additional baggage allowance. The human then asks about the hotel accommodations included in the package, to which the AI responds that 4-star hotels are included, providing comfort and convenience with their central locations and excellent services and amenities. The human asks for more information about meal options, and the AI explains that the package includes daily breakfast at the hotel and provides a list of recommended restaurants for lunch and dinner to allow for a more authentic local dining experience. This package offers a comprehensive experience of the iconic sights in each city, with the added convenience of travel insurance and the option to upgrade to business class.'),\n",
       "  HumanMessage(content='패키지 예약 시 예약금은 얼마인가요? 취소 정책은 어떻게 되나요?'),\n",
       "  AIMessage(content='패키지 예약 시 500유로의 예약금이 필요합니다. 취소 정책은 예약일로부터 30일 전까지는 전액 환불이 가능하며, 이후 취소 시에는 예약금이 환불되지 않습니다. 여행 시작일로부터 14일 전 취소 시 50%의 비용이 청구되며, 그 이후는 전액 비용이 청구됩니다.')]}"
      ]
     },
     "execution_count": 126,
     "metadata": {},
     "output_type": "execute_result"
    }
   ],
   "source": [
    "memory.load_memory_variables({})"
   ]
  },
  {
   "cell_type": "code",
   "execution_count": 148,
   "metadata": {},
   "outputs": [],
   "source": [
    "chain = LLMChain(\n",
    "    llm=ChatOpenAI(model=\"gpt-3.5-turbo\", temperature=0.1),\n",
    "    memory=memory,\n",
    "    prompt=prompt,\n",
    "    verbose=True,\n",
    ")"
   ]
  },
  {
   "cell_type": "code",
   "execution_count": 150,
   "metadata": {},
   "outputs": [
    {
     "name": "stdout",
     "output_type": "stream",
     "text": [
      "\n",
      "\n",
      "\u001b[1m> Entering new LLMChain chain...\u001b[0m\n",
      "Prompt after formatting:\n",
      "\u001b[32;1m\u001b[1;3mSystem: You are a helpful assistant.\n",
      "System: \n",
      "The human asks about the price and inclusions of a European travel package, to which the AI responds with the basic cost and lists famous landmarks included in the package. The human then inquires about travel insurance, and the AI confirms that basic coverage is included for all travelers and additional coverage can be added upon request. The human also asks about upgrading to business class seats and the AI explains that it is possible for an additional cost of approximately 1,200 euros round trip, with benefits such as wider seats, better in-flight meals, and additional baggage allowance. The human then asks about the hotel accommodations included in the package, to which the AI responds that 4-star hotels are included, providing comfort and convenience with their central locations and excellent services and amenities. The human asks for more information about meal options, and the AI explains that the package includes daily breakfast at the hotel and provides a list of recommended restaurants for lunch and dinner to allow for a more authentic local dining experience. The human asks about the reservation process and cancellation policy, and the AI summarizes that a 500 euro deposit is required for booking and cancellations can be made up to 30 days in advance for a full refund, with a 50% charge for cancellations made 14 days before the trip\n",
      "Human: 유럽 여행 패키지에 대한 정보를 불렛포인트로 요약해 주세요. 한글로 답변해 주세요.\u001b[0m\n",
      "\n",
      "\u001b[1m> Finished chain.\u001b[0m\n"
     ]
    }
   ],
   "source": [
    "response = chain.predict(\n",
    "    question=\"유럽 여행 패키지에 대한 정보를 불렛포인트로 요약해 주세요. 한글로 답변해 주세요.\")"
   ]
  },
  {
   "cell_type": "code",
   "execution_count": 152,
   "metadata": {},
   "outputs": [
    {
     "data": {
      "text/plain": [
       "{'context': [SystemMessage(content='\\nThe human asks about the price and inclusions of a European travel package, to which the AI responds with the basic cost and lists famous landmarks included in the package. The human then inquires about travel insurance, and the AI confirms that basic coverage is included for all travelers and additional coverage can be added upon request. The human also asks about upgrading to business class seats and the AI explains that it is possible for an additional cost of approximately 1,200 euros round trip, with benefits such as wider seats, better in-flight meals, and additional baggage allowance. The human then asks about the hotel accommodations included in the package, to which the AI responds that 4-star hotels are included, providing comfort and convenience with their central locations and excellent services and amenities. The human asks for more information about meal options, and the AI explains that the package includes daily breakfast at the hotel and provides a list of recommended restaurants for lunch and dinner to allow for a more authentic local dining experience. The human asks about the reservation process and cancellation policy, and the AI summarizes that a 500 euro deposit is required for booking and cancellations can be made up to 30 days in advance for a full refund, with a 50% charge for cancellations made 14 days before the trip')]}"
      ]
     },
     "execution_count": 152,
     "metadata": {},
     "output_type": "execute_result"
    }
   ],
   "source": [
    "memory.load_memory_variables({})"
   ]
  },
  {
   "cell_type": "markdown",
   "metadata": {},
   "source": [
    "## LangChain Expression Language\n"
   ]
  },
  {
   "cell_type": "code",
   "execution_count": 256,
   "metadata": {},
   "outputs": [],
   "source": [
    "from langchain.schema.runnable import RunnablePassthrough"
   ]
  },
  {
   "cell_type": "code",
   "execution_count": 257,
   "metadata": {},
   "outputs": [],
   "source": [
    "memory = ConversationBufferMemory(memory_key=\"context\", return_messages=True)\n",
    "memory.save_context(\n",
    "    inputs={\n",
    "        \"user\": \"안녕하세요? 제 이름은 테디입니다. 저의 직업은 소프트웨어 개발자입니다.\"\n",
    "    },\n",
    "    outputs={\"ai\": \"테디님 만나서 반갑습니다. 무엇을 도와드릴까요?\"},\n",
    ")"
   ]
  },
  {
   "cell_type": "code",
   "execution_count": 258,
   "metadata": {},
   "outputs": [],
   "source": [
    "def get_context(context):\n",
    "    return memory.load_memory_variables({})[\"context\"]"
   ]
  },
  {
   "cell_type": "code",
   "execution_count": 259,
   "metadata": {},
   "outputs": [
    {
     "data": {
      "text/plain": [
       "[HumanMessage(content='안녕하세요? 제 이름은 테디입니다. 저의 직업은 소프트웨어 개발자입니다.'),\n",
       " AIMessage(content='테디님 만나서 반갑습니다. 무엇을 도와드릴까요?')]"
      ]
     },
     "execution_count": 259,
     "metadata": {},
     "output_type": "execute_result"
    }
   ],
   "source": [
    "get_context(\"any context\")"
   ]
  },
  {
   "cell_type": "code",
   "execution_count": 260,
   "metadata": {},
   "outputs": [],
   "source": [
    "runnable = RunnablePassthrough.assign(context=get_context)"
   ]
  },
  {
   "cell_type": "code",
   "execution_count": 261,
   "metadata": {},
   "outputs": [],
   "source": [
    "prompt = ChatPromptTemplate.from_messages(\n",
    "    [\n",
    "        (\n",
    "            \"system\",\n",
    "            \"사용자의 질문에 대한 답변을 준비합니다. 답변은 사용자가 제공하는 인적 정보 바탕으로 생성됩니다.\",\n",
    "        ),\n",
    "        MessagesPlaceholder(variable_name=\"context\"),\n",
    "        (\"user\", \"{question}\"),\n",
    "    ]\n",
    ")"
   ]
  },
  {
   "cell_type": "code",
   "execution_count": 262,
   "metadata": {},
   "outputs": [],
   "source": [
    "chain = (\n",
    "    runnable | prompt | ChatOpenAI(model=\"gpt-3.5-turbo\", temperature=0.1, verbose=True)\n",
    ")"
   ]
  },
  {
   "cell_type": "code",
   "execution_count": 263,
   "metadata": {},
   "outputs": [
    {
     "data": {
      "text/plain": [
       "AIMessage(content='\"Hello, my name is Teddy. I work as a software developer.\"')"
      ]
     },
     "execution_count": 263,
     "metadata": {},
     "output_type": "execute_result"
    }
   ],
   "source": [
    "chain.invoke({\"question\": \"이전 대화를 영어로 번역해 주세요\"})"
   ]
  },
  {
   "cell_type": "code",
   "execution_count": 264,
   "metadata": {},
   "outputs": [
    {
     "data": {
      "text/plain": [
       "AIMessage(content='테디님은 소프트웨어 개발자로 일하고 계시는군요. 소프트웨어 개발자는 컴퓨터 프로그램을 설계하고 개발하는 업무를 담당합니다. 소프트웨어 개발자는 주로 프로그래밍 언어를 사용하여 소프트웨어를 개발하고, 버그를 수정하며, 기능을 추가하는 등의 작업을 수행합니다. 소프트웨어 개발자는 다양한 분야에서 일할 수 있으며, 웹 개발, 앱 개발, 데이터베이스 관리 등 다양한 역할을 수행할 수 있습니다.')"
      ]
     },
     "execution_count": 264,
     "metadata": {},
     "output_type": "execute_result"
    }
   ],
   "source": [
    "chain.invoke({\"question\": \"저의 직업은 무엇인가요?\"})"
   ]
  },
  {
   "cell_type": "code",
   "execution_count": 265,
   "metadata": {},
   "outputs": [
    {
     "data": {
      "text/plain": [
       "AIMessage(content='당신의 이름은 테디입니다.')"
      ]
     },
     "execution_count": 265,
     "metadata": {},
     "output_type": "execute_result"
    }
   ],
   "source": [
    "chain.invoke({\"question\": \"저의 이름은 무엇인가요?\"})"
   ]
  },
  {
   "cell_type": "code",
   "execution_count": 266,
   "metadata": {},
   "outputs": [
    {
     "data": {
      "text/plain": [
       "AIMessage(content='테디님의 거주지는 제가 직접 알 수 없습니다. 개인정보 보호를 위해 거주지와 같은 민감한 정보는 제공하지 않는 것이 좋습니다. 그러나 거주지와 관련하여 도움이 필요하신 부분이 있다면 언제든지 말씀해주세요. 저는 최선을 다해 도와드리겠습니다.')"
      ]
     },
     "execution_count": 266,
     "metadata": {},
     "output_type": "execute_result"
    }
   ],
   "source": [
    "chain.invoke({\"question\": \"저의 거주지를 맞춰보세요\"})"
   ]
  },
  {
   "cell_type": "code",
   "execution_count": 267,
   "metadata": {},
   "outputs": [],
   "source": [
    "memory.save_context(\n",
    "    inputs={\"user\": \"저의 거주지는 경기도 판교입니다.\"},\n",
    "    outputs={\"ai\": \"경기도 판교는 좋은 도시입니다. 저도 한번 가보고 싶네요.\"},\n",
    ")"
   ]
  },
  {
   "cell_type": "code",
   "execution_count": 268,
   "metadata": {},
   "outputs": [
    {
     "data": {
      "text/plain": [
       "[HumanMessage(content='안녕하세요? 제 이름은 테디입니다. 저의 직업은 소프트웨어 개발자입니다.'),\n",
       " AIMessage(content='테디님 만나서 반갑습니다. 무엇을 도와드릴까요?'),\n",
       " HumanMessage(content='저의 거주지는 경기도 판교입니다.'),\n",
       " AIMessage(content='경기도 판교는 좋은 도시입니다. 저도 한번 가보고 싶네요.')]"
      ]
     },
     "execution_count": 268,
     "metadata": {},
     "output_type": "execute_result"
    }
   ],
   "source": [
    "memory.load_memory_variables({})[\"context\"]"
   ]
  },
  {
   "cell_type": "code",
   "execution_count": 269,
   "metadata": {},
   "outputs": [
    {
     "data": {
      "text/plain": [
       "AIMessage(content='테디님의 거주지는 경기도 판교이시군요! 정확한 정보를 제공해주셔서 감사합니다.')"
      ]
     },
     "execution_count": 269,
     "metadata": {},
     "output_type": "execute_result"
    }
   ],
   "source": [
    "chain.invoke({\"question\": \"저의 거주지를 맞춰보세요\"})"
   ]
  }
 ],
 "metadata": {
  "kernelspec": {
   "display_name": "py-test",
   "language": "python",
   "name": "python3"
  },
  "language_info": {
   "codemirror_mode": {
    "name": "ipython",
    "version": 3
   },
   "file_extension": ".py",
   "mimetype": "text/x-python",
   "name": "python",
   "nbconvert_exporter": "python",
   "pygments_lexer": "ipython3",
   "version": "3.10.13"
  }
 },
 "nbformat": 4,
 "nbformat_minor": 2
}
