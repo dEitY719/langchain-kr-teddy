{
 "cells": [
  {
   "cell_type": "markdown",
   "metadata": {},
   "source": [
    "## 캐싱(Caching)\n",
    "\n",
    "LangChain은 LLM을 위한 선택적 캐싱 레이어를 제공합니다.\n",
    "\n",
    "이는 두 가지 이유로 유용합니다.\n",
    "\n",
    "- 동일한 완료를 여러 번 요청하는 경우 LLM 공급자에 대한 **API 호출 횟수를 줄여 비용을 절감**할 수 있습니다.\n",
    "- LLM 제공업체에 대한 **API 호출 횟수를 줄여 애플리케이션의 속도를 높일 수** 있습니다."
   ]
  },
  {
   "cell_type": "code",
   "execution_count": 1,
   "metadata": {},
   "outputs": [
    {
     "data": {
      "text/plain": [
       "True"
      ]
     },
     "execution_count": 1,
     "metadata": {},
     "output_type": "execute_result"
    }
   ],
   "source": [
    "# API KEY를 환경변수로 관리하기 위한 설정 파일\n",
    "from dotenv import load_dotenv\n",
    "\n",
    "# API KEY 정보로드\n",
    "load_dotenv()"
   ]
  },
  {
   "cell_type": "code",
   "execution_count": 2,
   "metadata": {},
   "outputs": [
    {
     "name": "stdout",
     "output_type": "stream",
     "text": [
      "LangSmith 추적을 시작합니다.\n",
      "[프로젝트명]\n",
      "project_name='CH04-Models-02-Cache-Gemini'\n",
      "LANGSMITH_PROJECT: CH04-Models-02-Cache-Gemini\n"
     ]
    }
   ],
   "source": [
    "# LangSmith 추적을 설정합니다. https://smith.langchain.com\n",
    "# !pip install langchain-teddynote\n",
    "from langchain_teddynote import logging\n",
    "\n",
    "# 프로젝트 이름을 입력합니다.\n",
    "logging.langsmith(\"CH04-Models-02-Cache-Gemini\")"
   ]
  },
  {
   "cell_type": "markdown",
   "metadata": {},
   "source": [
    "모델과 프롬프트를 생성합니다\n"
   ]
  },
  {
   "cell_type": "code",
   "execution_count": 3,
   "metadata": {},
   "outputs": [],
   "source": [
    "from langchain_core.prompts import PromptTemplate\n",
    "from common.gemini_llm_factory import GeminiLLMFactory\n",
    "\n",
    "# 모델을 생성합니다.\n",
    "llm_factory = GeminiLLMFactory()\n",
    "llm = llm_factory.get_llm()\n",
    "\n",
    "# 프롬프트를 생성합니다.\n",
    "prompt = PromptTemplate.from_template(\"{country} 에 대해서 200자 내외로 요약해줘\")\n",
    "\n",
    "# 체인을 생성합니다.\n",
    "chain = prompt | llm"
   ]
  },
  {
   "cell_type": "code",
   "execution_count": 4,
   "metadata": {},
   "outputs": [
    {
     "name": "stdout",
     "output_type": "stream",
     "text": [
      "한국은 한반도 남부에 위치한 역동적인 국가입니다. 오랜 역사와 전통을 지녔으며, 한국전쟁의 폐허를 딛고 '한강의 기적'을 이루어 세계적인 경제 대국으로 성장했습니다.\n",
      "\n",
      "IT 강국이자 혁신 기술을 선도하며, K-팝, K-드라마 등 한류 문화를 통해 전 세계에 영향력을 확대하고 있습니다. 빠르게 변화하며 미래를 선도하는 역동적인 대한민국의 모습은 많은 이들에게 영감을 주고 있습니다.\n",
      "CPU times: user 49.3 ms, sys: 17 ms, total: 66.3 ms\n",
      "Wall time: 7.1 s\n"
     ]
    }
   ],
   "source": [
    "%%time\n",
    "response = chain.invoke({\"country\": \"한국\"})\n",
    "print(response.content)"
   ]
  },
  {
   "cell_type": "markdown",
   "metadata": {},
   "source": [
    "## InMemoryCache\n",
    "\n",
    "인메모리 캐시를 사용하여 동일 질문에 대한 답변을 저장하고, 캐시에 저장된 답변을 반환합니다."
   ]
  },
  {
   "cell_type": "code",
   "execution_count": 5,
   "metadata": {},
   "outputs": [
    {
     "name": "stdout",
     "output_type": "stream",
     "text": [
      "한국은 동아시아에 위치한 역동적인 국가입니다. 오랜 역사와 전통을 지니고 있으며, 6.25 전쟁 이후 눈부신 경제 성장을 이루어 '한강의 기적'을 일구었습니다.\n",
      "\n",
      "현재는 IT 기술 강국이자 세계적인 문화 콘텐츠(K-팝, 드라마 등)를 선도하는 나라로 자리매김했습니다. 전통과 현대가 조화롭게 공존하며, 끊임없이 변화하고 발전하는 매력적인 나라입니다.\n",
      "CPU times: user 413 ms, sys: 22.5 ms, total: 435 ms\n",
      "Wall time: 6.32 s\n"
     ]
    }
   ],
   "source": [
    "%%time\n",
    "from langchain.globals import set_llm_cache\n",
    "from langchain.cache import InMemoryCache\n",
    "\n",
    "# 인메모리 캐시를 사용합니다.\n",
    "set_llm_cache(InMemoryCache())\n",
    "\n",
    "# 체인을 실행합니다.\n",
    "response = chain.invoke({\"country\": \"한국\"})\n",
    "print(response.content)"
   ]
  },
  {
   "cell_type": "code",
   "execution_count": 6,
   "metadata": {},
   "outputs": [
    {
     "name": "stdout",
     "output_type": "stream",
     "text": [
      "한국은 동아시아에 위치한 역동적인 국가입니다. 오랜 역사와 전통을 지니고 있으며, 6.25 전쟁 이후 눈부신 경제 성장을 이루어 '한강의 기적'을 일구었습니다.\n",
      "\n",
      "현재는 IT 기술 강국이자 세계적인 문화 콘텐츠(K-팝, 드라마 등)를 선도하는 나라로 자리매김했습니다. 전통과 현대가 조화롭게 공존하며, 끊임없이 변화하고 발전하는 매력적인 나라입니다.\n",
      "CPU times: user 2.75 ms, sys: 90 μs, total: 2.84 ms\n",
      "Wall time: 2.61 ms\n"
     ]
    }
   ],
   "source": [
    "%%time\n",
    "# 체인을 실행합니다.\n",
    "response = chain.invoke({\"country\": \"한국\"})\n",
    "print(response.content)"
   ]
  },
  {
   "cell_type": "markdown",
   "metadata": {},
   "source": [
    "## SQLite Cache\n"
   ]
  },
  {
   "cell_type": "code",
   "execution_count": 7,
   "metadata": {},
   "outputs": [],
   "source": [
    "from langchain_community.cache import SQLiteCache\n",
    "from langchain_core.globals import set_llm_cache\n",
    "import os\n",
    "\n",
    "# 캐시 디렉토리를 생성합니다.\n",
    "if not os.path.exists(\"cache\"):\n",
    "    os.makedirs(\"cache\")\n",
    "\n",
    "# SQLiteCache를 사용합니다.\n",
    "set_llm_cache(SQLiteCache(database_path=\"cache/llm_cache.db\"))"
   ]
  },
  {
   "cell_type": "code",
   "execution_count": 8,
   "metadata": {},
   "outputs": [
    {
     "name": "stdout",
     "output_type": "stream",
     "text": [
      "한국은 동아시아에 위치한 반도 국가로, 남북으로 나뉘어 있습니다. 대한민국(남한)은 짧은 역사에도 불구하고 '한강의 기적'을 통해 경제 대국으로 성장했습니다.\n",
      "\n",
      "IT 강국이자 세계적인 문화 콘텐츠(K-POP, 드라마 등 한류)를 선도하며 전 세계에 영향력을 미치고 있습니다. 역동적인 민주주의와 전통이 현대와 조화롭게 어우러진 독특한 매력을 지닌 나라입니다.\n",
      "CPU times: user 35.7 ms, sys: 2.68 ms, total: 38.4 ms\n",
      "Wall time: 6.93 s\n"
     ]
    }
   ],
   "source": [
    "%%time\n",
    "# 체인을 실행합니다.\n",
    "response = chain.invoke({\"country\": \"한국\"})\n",
    "print(response.content)"
   ]
  }
 ],
 "metadata": {
  "kernelspec": {
   "display_name": ".venv",
   "language": "python",
   "name": "python3"
  },
  "language_info": {
   "codemirror_mode": {
    "name": "ipython",
    "version": 3
   },
   "file_extension": ".py",
   "mimetype": "text/x-python",
   "name": "python",
   "nbconvert_exporter": "python",
   "pygments_lexer": "ipython3",
   "version": "3.11.13"
  }
 },
 "nbformat": 4,
 "nbformat_minor": 2
}
