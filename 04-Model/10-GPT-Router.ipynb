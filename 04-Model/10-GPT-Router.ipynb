{
 "cells": [
  {
   "cell_type": "markdown",
   "id": "0f0625ce",
   "metadata": {},
   "source": [
    "# GPTRouter\n",
    "\n",
    "GPTRouter는 30개 이상의 LLM, 비전, 이미지 모델에 대한 범용 API를 제공하는 오픈 소스 LLM API 게이트웨이입니다.\n",
    "\n",
    "이 게이트웨이는 가동 시간과 지연 시간을 기반으로 스마트 폴백, 자동 재시도 및 스트리밍 기능을 제공합니다.\n",
    "\n",
    "이 노트북에서는 Langchain과 GPTRouter I/O 라이브러리를 사용하는 방법에 대해 다룹니다.\n",
    "\n",
    "- `GPT_ROUTER_API_KEY` 환경 변수를 설정하거나\n",
    "- `gpt_router_api_key` 키워드 인자를 사용하세요.\n"
   ]
  },
  {
   "cell_type": "markdown",
   "id": "dcffd621",
   "metadata": {},
   "source": [
    "GPTRouter 라이브러리를 설치하거나 업그레이드합니다.\n",
    "\n",
    "- %pip 매직 명령어를 사용하여 GPTRouter 라이브러리를 설치 또는 업그레이드합니다.\n",
    "- --upgrade 옵션을 통해 이미 설치된 경우에도 최신 버전으로 업그레이드합니다.\n",
    "- --quiet 옵션을 사용하여 설치 과정에서 불필요한 출력을 최소화합니다.\n"
   ]
  },
  {
   "cell_type": "code",
   "execution_count": null,
   "id": "51bbeca5",
   "metadata": {},
   "outputs": [],
   "source": [
    "%pip install --upgrade --quiet  GPTRouter"
   ]
  },
  {
   "cell_type": "markdown",
   "id": "1611117b",
   "metadata": {},
   "source": [
    "- `GPTRouter` 클래스를 `langchain_community.chat_models` 모듈에서 가져옵니다.\n",
    "- `GPTRouterModel` 클래스를 `langchain_community.chat_models.gpt_router` 모듈에서 가져옵니다.\n",
    "- `HumanMessage` 클래스를 `langchain_core.messages` 모듈에서 가져옵니다.\n",
    "\n",
    "`GPTRouter`와 `GPTRouterModel`은 LangChain 커뮤니티에서 제공하는 챗봇 모델 관련 클래스로 추정되며, `HumanMessage`는 LangChain 코어 라이브러리에서 제공하는 사용자 입력 메시지를 나타내는 클래스입니다.\n"
   ]
  },
  {
   "cell_type": "code",
   "execution_count": null,
   "id": "9b093a36",
   "metadata": {},
   "outputs": [],
   "source": [
    "from langchain_community.chat_models import GPTRouter\n",
    "from langchain_community.chat_models.gpt_router import GPTRouterModel\n",
    "from langchain_core.messages import HumanMessage\n",
    "\n",
    "# 사용자 메시지 생성\n",
    "human_message = HumanMessage(content=\"안녕하세요! 오늘 날씨가 어떤가요?\")\n",
    "\n",
    "# GPTRouter 모델 초기화\n",
    "model = GPTRouterModel()\n",
    "\n",
    "# GPTRouter를 사용하여 사용자 메시지에 대한 응답 생성\n",
    "response = model(human_message)\n",
    "\n",
    "# 생성된 응답 출력\n",
    "print(response.content)"
   ]
  },
  {
   "cell_type": "markdown",
   "id": "b4bb62be",
   "metadata": {},
   "source": [
    "`anthropic_claude` 변수에 `GPTRouterModel` 클래스의 인스턴스를 할당합니다.\n",
    "\n",
    "- `GPTRouterModel` 클래스의 생성자에 `name` 매개변수로 \"claude-instant-1.2\"를, `provider_name` 매개변수로 \"anthropic\"을 전달합니다.\n",
    "- 이를 통해 Anthropic의 Claude 모델을 사용하는 `GPTRouterModel` 인스턴스가 생성됩니다.\n"
   ]
  },
  {
   "cell_type": "code",
   "execution_count": null,
   "id": "fa16a6e1",
   "metadata": {},
   "outputs": [],
   "source": [
    "anthropic_claude = GPTRouterModel(\n",
    "    name=\"claude-instant-1.2\",  # 모델의 이름을 \"claude-instant-1.2\"로 설정합니다.\n",
    "    provider_name=\"anthropic\",  # 모델 제공자의 이름을 \"anthropic\"으로 설정합니다.\n",
    ")"
   ]
  },
  {
   "cell_type": "markdown",
   "id": "f027a46c",
   "metadata": {},
   "source": [
    "`GPTRouter` 클래스를 사용하여 `anthropic_claude` 모델을 우선순위 리스트에 포함하는 챗봇을 초기화합니다.\n",
    "\n",
    "- `models_priority_list` 매개변수를 통해 사용할 모델의 우선순위를 지정합니다.\n",
    "- 이 예시에서는 `anthropic_claude` 모델이 유일한 모델로 사용됩니다.\n",
    "- `chat` 변수에 `GPTRouter` 인스턴스가 할당됩니다.\n"
   ]
  },
  {
   "cell_type": "code",
   "execution_count": null,
   "id": "c6c046ce",
   "metadata": {},
   "outputs": [],
   "source": [
    "# GPTRouter를 사용하여 anthropic_claude 모델을 우선순위로 지정합니다.\n",
    "chat = GPTRouter(models_priority_list=[anthropic_claude])"
   ]
  },
  {
   "cell_type": "code",
   "execution_count": null,
   "id": "a9354520",
   "metadata": {},
   "outputs": [],
   "source": [
    "messages = [\n",
    "    # 영어 문장을 프랑스어로 번역하는 사용자 메시지를 생성합니다.\n",
    "    HumanMessage(\n",
    "        content=\"Translate this sentence from English to French. I love programming.\"\n",
    "    )\n",
    "]\n",
    "# 주어진 메시지 리스트를 기반으로 챗봇과 대화를 진행합니다.\n",
    "chat(messages)"
   ]
  },
  {
   "cell_type": "markdown",
   "id": "f2c84b36",
   "metadata": {},
   "source": [
    "`GPTRouter`는 비동기 및 스트리밍 기능도 지원합니다.\n"
   ]
  },
  {
   "cell_type": "markdown",
   "id": "929cd805",
   "metadata": {},
   "source": [
    "- `CallbackManager`와 `StreamingStdOutCallbackHandler`를 `langchain.callbacks` 패키지에서 가져옵니다.\n",
    "- `CallbackManager`는 다양한 콜백 핸들러를 관리하고 이벤트를 처리하는 역할을 합니다.\n",
    "- `StreamingStdOutCallbackHandler`는 표준 출력(stdout)으로 스트리밍하는 콜백 핸들러입니다.\n",
    "- 이 콜백 핸들러는 LangChain의 에이전트, 체인, 언어 모델 등의 실행 과정에서 발생하는 이벤트를 실시간으로 출력할 수 있습니다.\n"
   ]
  },
  {
   "cell_type": "code",
   "execution_count": null,
   "id": "91d00e8c",
   "metadata": {},
   "outputs": [],
   "source": [
    "from langchain.callbacks.manager import CallbackManager\n",
    "from langchain.callbacks.streaming_stdout import StreamingStdOutCallbackHandler"
   ]
  },
  {
   "cell_type": "markdown",
   "id": "0f7767dd",
   "metadata": {},
   "source": [
    "`chat.agenerate([messages])` 함수는 비동기적으로 챗봇 에이전트와 대화를 생성합니다.\n",
    "\n",
    "- `messages` 매개변수는 사용자와 에이전트 간의 이전 대화 메시지 목록을 포함하는 리스트입니다.\n",
    "- 함수는 내부적으로 언어 모델과 상호 작용하여 주어진 메시지 기록을 기반으로 에이전트의 응답을 생성합니다.\n",
    "- 생성된 응답은 비동기적으로 반환되며, 이를 통해 사용자는 에이전트와의 대화를 이어갈 수 있습니다.\n"
   ]
  },
  {
   "cell_type": "code",
   "execution_count": null,
   "id": "a84ee79e",
   "metadata": {},
   "outputs": [],
   "source": [
    "await chat.agenerate(\n",
    "    [messages]\n",
    ")  # 주어진 메시지 목록을 사용하여 챗봇 응답을 비동기적으로 생성합니다."
   ]
  },
  {
   "cell_type": "markdown",
   "id": "25cd3178",
   "metadata": {},
   "source": [
    "GPTRouter를 사용하여 대화형 AI 모델을 구현합니다.\n",
    "\n",
    "- `GPTRouter` 클래스를 초기화할 때 다음 매개변수를 설정합니다:\n",
    "  - `models_priority_list`: 사용할 AI 모델의 우선순위 목록입니다. 여기서는 `anthropic_claude` 모델을 사용합니다.\n",
    "  - `streaming`: 스트리밍 모드를 활성화합니다.\n",
    "  - `verbose`: 자세한 로깅을 활성화합니다.\n",
    "  - `callback_manager`: 콜백 핸들러를 관리하는 `CallbackManager`를 설정합니다. 여기서는 `StreamingStdOutCallbackHandler`를 사용하여 출력을 스트리밍합니다.\n",
    "- `chat` 객체를 호출하여 `messages`를 입력으로 전달하고 대화를 시작합니다.\n",
    "\n",
    "이 코드는 지정된 AI 모델(`anthropic_claude`)을 사용하여 대화형 AI 시스템을 구현하며, 실시간으로 출력을 스트리밍하고 자세한 로깅을 제공합니다.\n"
   ]
  },
  {
   "cell_type": "code",
   "execution_count": null,
   "id": "176caaed",
   "metadata": {},
   "outputs": [],
   "source": [
    "chat = GPTRouter(\n",
    "    # 우선순위가 높은 모델 리스트를 설정합니다.\n",
    "    models_priority_list=[anthropic_claude],\n",
    "    # 스트리밍 모드를 활성화합니다.\n",
    "    streaming=True,\n",
    "    # 자세한 로그를 출력하도록 설정합니다.\n",
    "    verbose=True,\n",
    "    # 콜백 매니저를 설정하고, 스트리밍 출력 콜백 핸들러를 등록합니다.\n",
    "    callback_manager=CallbackManager([StreamingStdOutCallbackHandler()]),\n",
    ")\n",
    "# 설정된 GPTRouter를 사용하여 메시지를 처리합니다.\n",
    "chat(messages)"
   ]
  }
 ],
 "metadata": {
  "language_info": {
   "name": "python"
  }
 },
 "nbformat": 4,
 "nbformat_minor": 5
}
