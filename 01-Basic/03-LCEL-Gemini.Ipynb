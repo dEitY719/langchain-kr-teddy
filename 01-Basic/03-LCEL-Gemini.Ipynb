{
 "cells": [
  {
   "cell_type": "markdown",
   "metadata": {},
   "source": [
    "## 기본 예시: 프롬프트 + 모델 + 출력 파서\n",
    "\n",
    "가장 기본적이고 일반적인 사용 사례는 prompt 템플릿과 모델을 함께 연결하는 것입니다. 이것이 어떻게 작동하는지 보기 위해, 각 나라별 수도를 물어보는 Chain을 생성해 보겠습니다.\n"
   ]
  },
  {
   "cell_type": "code",
   "execution_count": 1,
   "metadata": {},
   "outputs": [
    {
     "data": {
      "text/plain": [
       "True"
      ]
     },
     "execution_count": 1,
     "metadata": {},
     "output_type": "execute_result"
    }
   ],
   "source": [
    "# API KEY를 환경변수로 관리하기 위한 설정 파일\n",
    "from dotenv import load_dotenv\n",
    "\n",
    "# API KEY 정보로드\n",
    "load_dotenv()"
   ]
  },
  {
   "cell_type": "code",
   "execution_count": 2,
   "metadata": {},
   "outputs": [
    {
     "name": "stdout",
     "output_type": "stream",
     "text": [
      "LangSmith 추적을 시작합니다.\n",
      "[프로젝트명]\n",
      "project_name='CH01-Basic-03-LCEL'\n",
      "LANGSMITH_PROJECT: CH01-Basic-03-LCEL\n"
     ]
    }
   ],
   "source": [
    "# LangSmith 추적을 설정합니다. https://smith.langchain.com\n",
    "# !pip install -qU langchain-teddynote\n",
    "from langchain_teddynote import logging\n",
    "\n",
    "# 프로젝트 이름을 입력합니다.\n",
    "logging.langsmith(\"CH01-Basic-03-LCEL\")"
   ]
  },
  {
   "cell_type": "markdown",
   "metadata": {},
   "source": [
    "## 프롬프트 템플릿의 활용\n",
    "\n",
    "`PromptTemplate`\n",
    "\n",
    "- 사용자의 입력 변수를 사용하여 완전한 프롬프트 문자열을 만드는 데 사용되는 템플릿입니다\n",
    "- 사용법\n",
    "  - `template`: 템플릿 문자열입니다. 이 문자열 내에서 중괄호 `{}`는 변수를 나타냅니다.\n",
    "  - `input_variables`: 중괄호 안에 들어갈 변수의 이름을 리스트로 정의합니다.\n",
    "\n",
    "`input_variables`\n",
    "\n",
    "- input_variables는 PromptTemplate에서 사용되는 변수의 이름을 정의하는 리스트입니다."
   ]
  },
  {
   "cell_type": "code",
   "execution_count": 3,
   "metadata": {},
   "outputs": [],
   "source": [
    "from langchain_teddynote.messages import stream_response  # 스트리밍 출력\n",
    "from langchain_core.prompts import PromptTemplate"
   ]
  },
  {
   "cell_type": "markdown",
   "metadata": {},
   "source": [
    "`from_template()` 메소드를 사용하여 PromptTemplate 객체 생성\n"
   ]
  },
  {
   "cell_type": "code",
   "execution_count": 4,
   "metadata": {},
   "outputs": [
    {
     "data": {
      "text/plain": [
       "PromptTemplate(input_variables=['country'], input_types={}, partial_variables={}, template='{country}의 수도는 어디인가요?')"
      ]
     },
     "execution_count": 4,
     "metadata": {},
     "output_type": "execute_result"
    }
   ],
   "source": [
    "# template 정의\n",
    "template = \"{country}의 수도는 어디인가요?\"\n",
    "\n",
    "# from_template 메소드를 이용하여 PromptTemplate 객체 생성\n",
    "prompt_template = PromptTemplate.from_template(template)\n",
    "prompt_template"
   ]
  },
  {
   "cell_type": "code",
   "execution_count": 5,
   "metadata": {},
   "outputs": [
    {
     "data": {
      "text/plain": [
       "'대한민국의 수도는 어디인가요?'"
      ]
     },
     "execution_count": 5,
     "metadata": {},
     "output_type": "execute_result"
    }
   ],
   "source": [
    "# prompt 생성\n",
    "prompt = prompt_template.format(country=\"대한민국\")\n",
    "prompt"
   ]
  },
  {
   "cell_type": "code",
   "execution_count": 6,
   "metadata": {},
   "outputs": [
    {
     "data": {
      "text/plain": [
       "'미국의 수도는 어디인가요?'"
      ]
     },
     "execution_count": 6,
     "metadata": {},
     "output_type": "execute_result"
    }
   ],
   "source": [
    "# prompt 생성\n",
    "prompt = prompt_template.format(country=\"미국\")\n",
    "prompt"
   ]
  },
  {
   "cell_type": "code",
   "execution_count": 8,
   "metadata": {},
   "outputs": [],
   "source": [
    "# from langchain_openai import ChatOpenAI\n",
    "\n",
    "# model = ChatOpenAI(\n",
    "#     model=\"gpt-4.1-nano\",\n",
    "#     temperature=0.1,\n",
    "# )\n",
    "from langchain_google_genai import ChatGoogleGenerativeAI\n",
    "from pydantic import SecretStr\n",
    "import os\n",
    "\n",
    "\n",
    "# 키 로드\n",
    "api_key = os.getenv(\"GEMINI_API_KEY\")\n",
    "\n",
    "# LLM 생성\n",
    "# 모델 종류: https://ai.google.dev/gemini-api/docs/models?hl=ko\n",
    "# gemini-2.5-pro\n",
    "# gemini-2.5-flash\n",
    "# gemini-2.5-flash-lite\n",
    "model = ChatGoogleGenerativeAI(\n",
    "    model=\"gemini-2.5-pro\",\n",
    "    google_api_key=SecretStr(str(api_key)),\n",
    "    temperature=0.5,\n",
    ")"
   ]
  },
  {
   "cell_type": "markdown",
   "metadata": {},
   "source": [
    "## Chain 생성\n",
    "\n",
    "### LCEL(LangChain Expression Language)\n",
    "\n",
    "![lcel.png](./images/lcel.png)\n",
    "\n",
    "여기서 우리는 LCEL을 사용하여 다양한 구성 요소를 단일 체인으로 결합합니다\n",
    "\n",
    "```\n",
    "chain = prompt | model | output_parser\n",
    "```\n",
    "\n",
    "`|` 기호는 [unix 파이프 연산자](<https://en.wikipedia.org/wiki/Pipeline_(Unix)>)와 유사하며, 서로 다른 구성 요소를 연결하고 한 구성 요소의 출력을 다음 구성 요소의 입력으로 전달합니다.\n",
    "\n",
    "이 체인에서 사용자 입력은 프롬프트 템플릿으로 전달되고, 그런 다음 프롬프트 템플릿 출력은 모델로 전달됩니다. 각 구성 요소를 개별적으로 살펴보면 무슨 일이 일어나고 있는지 이해할 수 있습니다.\n"
   ]
  },
  {
   "cell_type": "code",
   "execution_count": 9,
   "metadata": {},
   "outputs": [],
   "source": [
    "# prompt 를 PromptTemplate 객체로 생성합니다.\n",
    "prompt = PromptTemplate.from_template(\"{topic} 에 대해 쉽게 설명해주세요.\")\n",
    "\n",
    "model = ChatGoogleGenerativeAI(\n",
    "    model=\"gemini-2.5-pro\",\n",
    "    google_api_key=SecretStr(str(api_key)),\n",
    "    temperature=0.5,\n",
    ")\n",
    "\n",
    "chain = prompt | model"
   ]
  },
  {
   "cell_type": "markdown",
   "metadata": {},
   "source": [
    "### invoke() 호출\n",
    "\n",
    "- python 딕셔너리 형태로 입력값을 전달합니다.(키: 값)\n",
    "- invoke() 함수 호출 시, 입력값을 전달합니다."
   ]
  },
  {
   "cell_type": "code",
   "execution_count": 10,
   "metadata": {},
   "outputs": [],
   "source": [
    "# input 딕셔너리에 주제를 '인공지능 모델의 학습 원리'으로 설정합니다.\n",
    "input = {\"topic\": \"인공지능 모델의 학습 원리\"}"
   ]
  },
  {
   "cell_type": "code",
   "execution_count": 11,
   "metadata": {},
   "outputs": [
    {
     "data": {
      "text/plain": [
       "AIMessage(content='물론입니다! 인공지능(AI) 모델의 학습 원리를 아주 쉽게, 비유를 통해 설명해 드릴게요.\\n\\n**인공지능을 \\'아주 똑똑하지만, 처음에는 아무것도 모르는 학생\\'**이라고 생각해보세요. 이 학생을 가르치는 과정이 바로 AI 모델의 \\'학습\\'입니다.\\n\\n### 학습에 필요한 4가지 핵심 요소\\n\\n이 학생을 가르치려면 4가지가 필요합니다.\\n\\n1.  **학생 (AI 모델):** 지식을 담을 수 있는 텅 빈 뇌. 처음에는 아무것도 모르는 백지상태입니다.\\n2.  **교과서와 문제집 (학습 데이터):** 학생이 공부할 자료입니다. 예를 들어 \\'고양이\\'와 \\'개\\'를 구분하는 학생을 가르친다면, 수백만 장의 고양이 사진과 개 사진이 바로 교과서가 됩니다. 각 사진에는 \\'이건 고양이\\', \\'이건 개\\'라는 정답(레이블)이 달려 있습니다.\\n3.  **풀어야 할 문제 (목표):** 학생의 목표는 \\'사진을 보고 고양이인지 개인지 맞히는 것\\'입니다.\\n4.  **선생님의 가르침과 오답노트 (학습 알고리즘):** 학생이 문제를 틀렸을 때, 왜 틀렸는지 알려주고 정답에 가까워지도록 방향을 알려주는 규칙과 과정입니다.\\n\\n---\\n\\n### AI의 학습 과정 (5단계)\\n\\n이제 이 학생이 어떻게 공부하는지 단계별로 살펴보겠습니다.\\n\\n#### **1단계: 일단 추측하기 (찍기)**\\n학생(AI)에게 고양이 사진 한 장을 보여줍니다. 학생은 아직 배운 게 없으니 그냥 찍습니다.\\n> **학생(AI):** \"음... 이건 **개**인 것 같아요!\"\\n\\n#### **2단계: 정답과 비교하기**\\n우리는 학생에게 정답이 적힌 교과서(데이터)를 보여줍니다.\\n> **우리:** \"땡! 정답은 **고양이**야.\"\\n\\n#### **3단계: 얼마나 틀렸는지 확인하기 (오차 계산)**\\n학생은 자신이 얼마나 터무니없는 답을 했는지 깨닫습니다. \\'개\\'라고 확신했는데 \\'고양이\\'였으니, \\'엄청나게 많이 틀렸다\\'고 생각합니다.\\n\\n#### **4. 단계: 정답에 가까워지도록 스스로 수정하기 (핵심!)**\\n이 부분이 가장 중요합니다. 학생은 그냥 \"아, 틀렸네\" 하고 넘어가는 게 아니라, **왜 틀렸는지 스스로 복기**합니다.\\n\\n> **학생(AI)의 생각:** \"아, 내가 본 사진에는 **뾰족한 귀**와 **긴 수염**이 있었네. 이런 특징들이 보이면 \\'개\\'가 아니라 \\'고양이\\'일 확률이 더 높구나! 다음부터는 이 특징들에 더 주목(가중치 부여)해야겠다.\"\\n\\n이렇게 AI는 어떤 특징이 정답에 더 큰 영향을 미치는지 스스로 판단하고, 내부의 판단 기준(가중치)을 아주 조금씩 수정합니다.\\n\\n#### **5단계: 무한 반복하기**\\n이제 다른 고양이 사진, 다른 개 사진을 계속해서 보여줍니다. 학생은 1~4단계를 **수백만, 수억 번 반복**합니다.\\n\\n*   **강아지 사진을 보고 \\'고양이\\'라고 틀리면?** -> \"아, 축 처진 귀와 긴 주둥이는 \\'개\\'의 특징이구나!\" 하고 판단 기준을 또 수정합니다.\\n*   **고양이 사진을 보고 \\'고양이\\'라고 맞히면?** -> \"역시 뾰족한 귀와 동그란 눈은 고양이의 특징이 맞았어!\" 라며 자신의 판단 기준에 대한 확신을 높입니다.\\n\\n이 과정을 엄청나게 많이 반복하고 나면, 학생(AI)의 머릿속에는 \\'고양이\\'와 \\'개\\'를 구분하는 매우 정교하고 복잡한 자신만의 규칙(패턴)이 생깁니다. 이제 새로운 사진을 봐도 99% 이상의 정확도로 고양이와 개를 구분할 수 있는 \\'전문가\\'가 되는 것입니다.\\n\\n---\\n\\n### 핵심 요약\\n\\n*   **AI 학습은 \\'패턴 찾기\\'입니다.** 데이터 속에 숨어있는 규칙이나 패턴을 스스로 발견하는 과정입니다.\\n*   **대규모 데이터가 필수입니다.** 학생이 다양한 유형의 문제를 풀어봐야 실력이 늘듯, AI도 방대한 양의 데이터가 있어야 똑똑해집니다.\\n*   **\\'실수\\'를 통해 배웁니다.** AI는 자신의 예측이 얼마나 틀렸는지를 계산하고, 그 오차를 줄이는 방향으로 계속해서 스스로를 업데이트하며 성장합니다.\\n*   **결국 수학입니다.** AI가 \\'판단 기준을 수정\\'하는 과정은 사실 복잡한 미분과 행렬 연산 같은 수학 계산을 통해 이루어집니다. 하지만 원리는 \\'오답노트를 쓰며 틀린 부분을 고쳐나가는\\' 과정과 똑같습니다.\\n\\n이것이 바로 ChatGPT나 그림을 그려주는 AI 등 모든 인공지능 모델이 학습하는 가장 기본적인 원리입니다.', additional_kwargs={}, response_metadata={'prompt_feedback': {'block_reason': 0, 'safety_ratings': []}, 'finish_reason': 'STOP', 'model_name': 'gemini-2.5-pro', 'safety_ratings': []}, id='run--642412a7-1dfc-4c80-87f8-dc1572f08c9c-0', usage_metadata={'input_tokens': 16, 'output_tokens': 1116, 'total_tokens': 2848, 'input_token_details': {'cache_read': 0}, 'output_token_details': {'reasoning': 1716}})"
      ]
     },
     "execution_count": 11,
     "metadata": {},
     "output_type": "execute_result"
    }
   ],
   "source": [
    "# prompt 객체와 model 객체를 파이프(|) 연산자로 연결하고 invoke 메서드를 사용하여 input을 전달합니다.\n",
    "# 이를 통해 AI 모델이 생성한 메시지를 반환합니다.\n",
    "chain.invoke(input)"
   ]
  },
  {
   "cell_type": "markdown",
   "metadata": {},
   "source": [
    "아래는 스트리밍을 출력하는 예시 입니다."
   ]
  },
  {
   "cell_type": "code",
   "execution_count": 12,
   "metadata": {},
   "outputs": [
    {
     "name": "stdout",
     "output_type": "stream",
     "text": [
      "네, 인공지능 모델의 학습 원리를 **'시험공부 하는 학생'**에 비유해서 아주 쉽게 설명해 드릴게요.\n",
      "\n",
      "---\n",
      "\n",
      "### **인공지능은 어떻게 똑똑해질까요? (feat. 열공하는 학생)**\n",
      "\n",
      "여기 '인공지능(AI)'이라는 학생이 한 명 있다고 상상해 보세요. 이 학생의 목표는 '강아지와 고양이 사진을 완벽하게 구분하는 시험'에 합격하는 것입니다.\n",
      "\n",
      "#### **1단계: 방대한 양의 문제집 풀기 (데이터 학습)**\n",
      "\n",
      "*   **학생:** 시험을 잘 보려면 먼저 문제집을 풀어봐야겠죠? 선생님은 학생에게 **수백만 장의 '강아지 사진'과 '고양이 사진'이 담긴 문제집(학습 데이터)**을 줍니다. 각 사진에는 '이건 강아지야', '이건 고양이야'라고 **정답(레이블)**이 적혀 있습니다.\n",
      "*   **AI:** 이 문제집을 처음부터 끝까지 훑어보며 강아지는 보통 어떤 특징(귀 모양, 코, 수염 등)을 가졌고, 고양이는 어떤 특징을 가졌는지 어렴풋이 감을 잡기 시작합니다.\n",
      "\n",
      "#### **2단계: 모의고사 보기 (예측)**\n",
      "\n",
      "*   **학생:** 이제 어느 정도 공부했으니, 정답이 가려진 사진으로 **모의고사(예측)**를 봅니다. 학생은 사진을 보고 \"음... 이건 70% 확률로 강아지 같아!\"라고 답을 제출합니다.\n",
      "*   **AI:** 학습한 데이터를 바탕으로 새로운 사진을 보고 나름의 판단을 내립니다.\n",
      "\n",
      "#### **3단계: 채점하고 오답노트 작성하기 (손실 함수)**\n",
      "\n",
      "*   **학생:** 선생님이 학생의 답을 **채점**합니다. 정답은 '고양이'였는데 '강아지'라고 답했으니 \"땡! 틀렸어!\"라고 알려줍니다. 심지어 \"정답과 아주 멀리 떨어진, 완전히 틀린 답을 냈구나\"라며 **얼마나 심하게 틀렸는지(오차/손실)** 점수로 알려줍니다.\n",
      "*   **AI:** 이 채점 과정을 **'손실 함수(Loss Function)'**라고 부릅니다. AI가 내놓은 예측이 실제 정답과 얼마나 다른지를 숫자로 계산하는 과정이죠. 오차(손실)가 클수록 더 많이 틀렸다는 뜻입니다.\n",
      "\n",
      "#### **4단계: 오답 원인을 분석하고 공부 방법 바꾸기 (옵티마이저)**\n",
      "\n",
      "*   **학생:** 학생은 틀린 문제를 보며 고민합니다. \"아, 내가 고양이의 뾰족한 귀를 강아지 귀로 착각했구나. 다음부터는 귀 모양을 더 유심히 봐야겠다.\" 이렇게 **오답의 원인을 거꾸로 추적해서 자신의 판단 기준을 수정**합니다.\n",
      "*   **AI:** 이 과정을 **'역전파(Backpropagation)'**와 **'옵티마이저(Optimizer)'**라고 합니다. AI는 자신이 틀린 원인(큰 오차)을 거슬러 올라가, 어떤 판단 기준(내부의 수많은 연결 가중치) 때문에 그런 실수를 했는지 파악하고, 그 기준을 **정답에 더 가까워지는 방향으로 아주 조금씩 수정**합니다.\n",
      "\n",
      "---\n",
      "\n",
      "### **핵심 정리: 무한 반복**\n",
      "\n",
      "인공지능의 학습은 바로 이 **`[문제 풀기 → 채점 → 오답노트 → 공부법 수정]`** 과정을 **수백만, 수억 번 미친 듯이 반복**하는 것입니다.\n",
      "\n",
      "이 과정을 무수히 반복하면 어떻게 될까요?\n",
      "\n",
      "*   처음에는 고양이와 강아지를 맨날 헷갈리던 'AI 학생'이,\n",
      "*   점차 고양이의 뾰족한 귀, 세로로 긴 눈동자, 날렵한 수염 같은 미세한 특징과 강아지의 특징을 구분하는 능력이 생깁니다.\n",
      "*   나중에는 처음 보는 품종의 강아지나 희귀한 고양이 사진을 봐도 거의 100%에 가깝게 맞출 수 있는 **'구분 전문가'**가 되는 것이죠.\n",
      "\n",
      "**ChatGPT 같은 언어 모델**도 마찬가지입니다. '다음 단어 맞추기'라는 시험을 수십억 번 풀면서 문맥을 파악하고, 자연스러운 문장을 만드는 법을 터득하게 된 것입니다.\n",
      "\n",
      "**결론적으로 인공지능의 학습 원리는, 방대한 데이터를 통해 끊임없이 예측하고, 틀린 부분을 교정하며 정답에 가까워지는 패턴을 스스로 찾아가는 '대규모의 반복 훈련'이라고 할 수 있습니다.**"
     ]
    }
   ],
   "source": [
    "# 스트리밍 출력을 위한 요청\n",
    "answer = chain.stream(input)\n",
    "# 스트리밍 출력\n",
    "stream_response(answer)"
   ]
  },
  {
   "cell_type": "markdown",
   "metadata": {},
   "source": [
    "### 출력파서(Output Parser)\n"
   ]
  },
  {
   "cell_type": "code",
   "execution_count": 13,
   "metadata": {},
   "outputs": [],
   "source": [
    "from langchain_core.output_parsers import StrOutputParser\n",
    "\n",
    "output_parser = StrOutputParser()"
   ]
  },
  {
   "cell_type": "markdown",
   "metadata": {},
   "source": [
    "Chain 에 출력파서를 추가합니다."
   ]
  },
  {
   "cell_type": "code",
   "execution_count": 14,
   "metadata": {},
   "outputs": [],
   "source": [
    "# 프롬프트, 모델, 출력 파서를 연결하여 처리 체인을 구성합니다.\n",
    "chain = prompt | model | output_parser"
   ]
  },
  {
   "cell_type": "code",
   "execution_count": 15,
   "metadata": {},
   "outputs": [
    {
     "data": {
      "text/plain": [
       "'네, 인공지능 모델의 학습 원리를 아주 쉽게, **\\'눈치 빠른 수험생\\'**에 비유해서 설명해 드릴게요.\\n\\n### 인공지능은 \\'눈치 빠른 수험생\\'과 같아요\\n\\n여기 엄청나게 많은 문제와 정답이 담긴 문제집을 풀어야 하는 수험생(인공지능 모델)이 있다고 상상해보세요. 이 수험생의 목표는 처음 보는 수능 시험(새로운 데이터)도 잘 푸는 것입니다.\\n\\n학습 과정은 다음과 같은 4단계로 이루어집니다.\\n\\n---\\n\\n#### 1단계: 일단 풀어보기 (추측, Prediction)\\n\\n수험생은 아직 아무것도 모르기 때문에, 일단 문제를 보고 감으로 답을 찍습니다.\\n\\n*   **수험생:** 고양이 사진을 보고 \"음... 이건 개인가?\" 하고 추측합니다. (아직 귀 모양, 수염 같은 특징을 전혀 모르는 상태)\\n*   **인공지능:** 모델은 수많은 숫자(가중치, 파라미터)로 이루어진 텅 빈 상태입니다. 고양이 사진 데이터를 입력받고, 이 숫자들을 이용해 일단 아무 결과나 내놓습니다. (예: \"개일 확률 60%, 고양이일 확률 40%\")\\n\\n#### 2단계: 채점하기 (오차 계산, Loss)\\n\\n문제를 푼 뒤에는 정답지와 비교해서 채점을 합니다. 얼마나 틀렸는지 확인하는 과정이죠.\\n\\n*   **수험생:** 정답지를 보니 \\'고양이\\'라고 되어 있습니다. \"아, \\'개\\'라고 생각했는데 틀렸네. 많이 틀렸군.\" 하고 깨닫습니다.\\n*   **인공지능:** 모델이 내놓은 답(\"개 60%, 고양이 40%\")과 실제 정답(\"고양이 100%\")을 비교합니다. 이 둘의 차이를 **\\'오차(Loss)\\'** 또는 **\\'손실\\'**이라고 부릅니다. 정답과 멀수록 오차 점수는 커집니다.\\n\\n#### 3단계: 오답 노트 작성 및 공부법 찾기 (개선, Optimization)\\n\\n수험생은 틀린 문제를 그냥 넘어가지 않습니다. 왜 틀렸는지 분석하고, 다음에는 맞힐 수 있도록 공부 방향을 바꿉니다.\\n\\n*   **수험생:** \"아, 뾰족한 귀와 긴 수염이 있으면 고양이일 확률이 높구나. 다음부터는 이 부분을 유심히 봐야겠다.\" 라고 생각하며 자신의 \\'판단 기준\\'을 수정합니다.\\n*   **인공지능:** **\\'옵티마이저(Optimizer)\\'**라는 똑똑한 선생님이 등장합니다. 이 선생님은 계산된 \\'오차\\'를 줄이는 방향으로 모델의 수많은 숫자(가중치)들을 아주 조금씩 수정합니다. \"이 숫자를 높이고 저 숫자를 낮추면, 다음엔 정답에 더 가까워질 거야!\" 라고 알려주는 것과 같습니다.\\n\\n#### 4단계: 무한 반복 (Iteration)\\n\\n수험생은 한두 문제만 풀고 시험장에 가지 않습니다. 수만, 수십만 개의 문제를 풀고, 채점하고, 오답 노트를 쓰는 과정을 **끊임없이 반복**합니다.\\n\\n*   **수험생:** 고양이, 개, 토끼, 코끼리 사진 등 수많은 문제를 풀면서 점점 동물들을 구별하는 \\'눈\\'과 \\'노하우\\'가 생깁니다.\\n*   **인공지능:** 수백만 장의 사진 데이터로 1~3단계를 수없이 반복합니다. 이 과정을 통해 모델 내부의 수많은 숫자들은 \\'고양이의 특징\\', \\'개의 특징\\'을 가장 잘 구분할 수 있는 최적의 값으로 점차 맞춰집니다.\\n\\n---\\n\\n### 학습의 결과\\n\\n이렇게 수많은 문제집을 푼 \\'눈치 빠른 수험생\\'은 어떻게 될까요?\\n\\n나중에는 처음 보는 고양이 사진(수능 문제)을 봐도 \"아, 이건 뾰족한 귀, 동그란 눈, 긴 수염을 보니 99% 확률로 고양이네!\" 라고 아주 정확하게 맞힐 수 있게 됩니다.\\n\\n인공지능 모델도 마찬가지입니다. 수많은 데이터로 학습을 마친 모델은, 생전 처음 보는 데이터를 받아도 학습 과정에서 스스로 터득한 \\'패턴\\'과 \\'규칙\\'을 이용해 매우 정확한 예측을 할 수 있게 되는 것입니다.\\n\\n### 핵심 요약\\n\\n1.  **추측 (Predict):** 일단 답을 찍어본다.\\n2.  **비교 (Loss):** 정답과 비교해 얼마나 틀렸는지 확인한다.\\n3.  **수정 (Optimize):** 틀린 이유를 분석해 판단 기준을 약간 바꾼다.\\n4.  **반복 (Iterate):** 위 과정을 수백만 번 반복하며 \\'정답을 맞히는 눈\\'을 기른다.\\n\\n이것이 바로 인공지능이 데이터를 통해 \\'학습\\'하는 가장 기본적인 원리입니다.'"
      ]
     },
     "execution_count": 15,
     "metadata": {},
     "output_type": "execute_result"
    }
   ],
   "source": [
    "# chain 객체의 invoke 메서드를 사용하여 input을 전달합니다.\n",
    "input = {\"topic\": \"인공지능 모델의 학습 원리\"}\n",
    "chain.invoke(input)"
   ]
  },
  {
   "cell_type": "code",
   "execution_count": 16,
   "metadata": {},
   "outputs": [
    {
     "name": "stdout",
     "output_type": "stream",
     "text": [
      "물론이죠! 인공지능 모델의 학습 원리를 **'처음으로 동물을 배우는 아이'**에 비유해서 아주 쉽게 설명해 드릴게요.\n",
      "\n",
      "---\n",
      "\n",
      "### **인공지능(AI) = 똑똑해지고 싶은 어린 아이**\n",
      "\n",
      "여기 한 아이가 있습니다. 이 아이는 아직 '고양이'와 '강아지'를 구분하지 못해요. 우리는 이 아이가 동물을 잘 구분하도록 가르쳐야 합니다. 이 아이가 바로 **'인공지능 모델'**입니다.\n",
      "\n",
      "---\n",
      "\n",
      "### **학습의 4단계**\n",
      "\n",
      "#### **1단계: 교재 준비하기 (데이터)**\n",
      "\n",
      "아이를 가르치려면 먼저 '교재'가 필요하겠죠?\n",
      "수많은 고양이 사진과 강아지 사진이 담긴 사진첩을 준비합니다. 중요한 것은 각 사진마다 **\"이건 고양이야\", \"이건 강아지야\"** 라고 정답(레이블)을 알려주는 것입니다.\n",
      "\n",
      "*   **아이** = 인공지능 모델\n",
      "*   **동물 사진첩** = 학습 데이터 (Training Data)\n",
      "*   **\"이건 고양이야\" 라는 정답** = 레이블 (Label)\n",
      "\n",
      "#### **2단계: 일단 찍어보기 (예측)**\n",
      "\n",
      "이제 아이에게 고양이 사진 한 장을 보여줍니다. 아이는 아직 잘 모르기 때문에 그냥 찍어봅니다.\n",
      "\n",
      "> **아이:** \"음... 뾰족한 귀가 있으니까... **강아지!**\"\n",
      "\n",
      "이것이 인공지능의 **'첫 번째 예측(Prediction)'**입니다. 처음에는 거의 엉터리입니다.\n",
      "\n",
      "#### **3단계: 오답노트 작성하기 (오차 계산)**\n",
      "\n",
      "부모님(개발자)은 아이에게 정답을 알려줍니다.\n",
      "\n",
      "> **부모님:** \"땡! 이건 **고양이**란다. 네가 '강아지'라고 생각했으니 틀렸네.\"\n",
      "\n",
      "아이는 자신이 얼마나 틀렸는지 깨닫습니다. '고양이'를 '강아지'라고 했으니, 꽤 많이 틀린 셈이죠.\n",
      "인공지능의 세계에서는 이 '틀린 정도'를 **'오차(Error)' 또는 '손실(Loss)'**이라고 부릅니다. 오차가 클수록 많이 틀렸다는 뜻입니다.\n",
      "\n",
      "#### **4단계: 스스로 고쳐나가기 (최적화)**\n",
      "\n",
      "이제 가장 중요한 단계입니다. 아이는 왜 틀렸는지 스스로 생각해 봅니다.\n",
      "\n",
      "> **아이 (속마음):** \"아... 뾰족한 귀만 보고 강아지라고 했는데, 날카로운 눈매랑 수염도 봐야 하는구나. 다음부터는 뾰족한 귀뿐만 아니라 눈매랑 수염도 잘 살펴봐야겠다.\"\n",
      "\n",
      "아이는 자신의 '판단 기준'을 스스로 수정합니다. 인공지능도 똑같습니다.\n",
      "자신이 틀린 원인을 수학적인 방법(역전파, Backpropagation)으로 거슬러 올라가 분석하고, **자신의 판단 회로(가중치, Weight)를 아주 조금씩 수정**합니다. '뾰족한 귀'에 쏠려있던 중요도를 낮추고, '날카로운 눈매'와 '수염'의 중요도를 높이는 식이죠.\n",
      "\n",
      "---\n",
      "\n",
      "### **달인이 될 때까지 무한 반복**\n",
      "\n",
      "이 **2, 3, 4단계(찍어보기 → 틀린 정도 확인 → 기준 수정하기)**를 사진첩에 있는 수십만, 수백만 장의 사진으로 계속 반복합니다.\n",
      "\n",
      "*   고양이 사진을 보고 \"고양이!\" → 정답! (오차가 작으니 기준을 살짝만 다듬음)\n",
      "*   강아지 사진을 보고 \"고양이!\" → 오답! (오차가 크니 기준을 많이 수정함)\n",
      "*   또 다른 고양이 사진을 보고 \"고양이!\" → 정답!\n",
      "*   ...\n",
      "\n",
      "이 과정을 수없이 반복하면, 아이(인공지능 모델)는 점차 고양이와 강아지의 핵심적인 특징을 스스로 터득하게 됩니다. 나중에는 처음 보는 고양이 사진을 보여줘도 99% 이상의 정확도로 \"고양이!\"라고 맞출 수 있는 **'동물 박사'**가 되는 것이죠.\n",
      "\n",
      "### **핵심 요약**\n",
      "\n",
      "인공지능의 학습이란,\n",
      "**방대한 양의 정답 있는 문제(데이터)를 풀면서, 틀릴 때마다(오차) 스스로 '왜 틀렸을까?'를 분석하고 '판단 기준(가중치)'을 아주 조금씩 수정해나가는 과정을 무한히 반복하여, 결국 문제 해결 능력을 갖추게 되는 것**입니다.\n",
      "\n",
      "이 원리는 이미지 인식, 언어 번역, 챗봇 등 모든 인공지능 분야에 동일하게 적용된답니다."
     ]
    }
   ],
   "source": [
    "# 스트리밍 출력을 위한 요청\n",
    "answer = chain.stream(input)\n",
    "# 스트리밍 출력\n",
    "stream_response(answer)"
   ]
  },
  {
   "cell_type": "markdown",
   "metadata": {},
   "source": [
    "### 템플릿을 변경하여 적용\n",
    "\n",
    "- 아래의 프롬프트 내용을 얼마든지 **변경** 하여 테스트 해볼 수 있습니다.\n",
    "- `model_name` 역시 변경하여 테스트가 가능합니다."
   ]
  },
  {
   "cell_type": "code",
   "execution_count": 18,
   "metadata": {},
   "outputs": [],
   "source": [
    "template = \"\"\"\n",
    "당신은 영어를 가르치는 10년차 영어 선생님입니다. 주어진 상황에 맞는 영어 회화를 작성해 주세요.\n",
    "양식은 [FORMAT]을 참고하여 작성해 주세요.\n",
    "\n",
    "#상황:\n",
    "{question}\n",
    "\n",
    "#FORMAT:\n",
    "- 영어 회화:\n",
    "- 한글 해석:\n",
    "\"\"\"\n",
    "\n",
    "# 프롬프트 템플릿을 이용하여 프롬프트를 생성합니다.\n",
    "prompt = PromptTemplate.from_template(template)\n",
    "\n",
    "# ChatOpenAI 챗모델을 초기화합니다.\n",
    "model = ChatGoogleGenerativeAI(\n",
    "    model=\"gemini-2.5-flash\",\n",
    "    google_api_key=SecretStr(str(api_key)),\n",
    "    temperature=0.5,\n",
    ")\n",
    "\n",
    "# 문자열 출력 파서를 초기화합니다.\n",
    "output_parser = StrOutputParser()"
   ]
  },
  {
   "cell_type": "code",
   "execution_count": 19,
   "metadata": {},
   "outputs": [],
   "source": [
    "# 체인을 구성합니다.\n",
    "chain = prompt | model | output_parser"
   ]
  },
  {
   "cell_type": "code",
   "execution_count": 20,
   "metadata": {},
   "outputs": [
    {
     "name": "stdout",
     "output_type": "stream",
     "text": [
      "안녕하세요! 10년차 영어 선생님입니다. 식당에서 음식을 주문하는 상황은 정말 자주 겪게 되는 상황이죠. 자연스럽고 공손하게 주문할 수 있도록 대화를 구성해 봤어요.\n",
      "\n",
      "---\n",
      "\n",
      "**#상황: 식당에 가서 음식을 주문하고 싶어요**\n",
      "\n",
      "**[FORMAT]**\n",
      "\n",
      "- 영어 회화:\n",
      "  **You (손님):** Excuse me, we're ready to order whenever you are.\n",
      "  **Waiter/Waitress (직원):** Wonderful! What can I get for you today?\n",
      "  **You (손님):** I'd like the Grilled Salmon, please. And could I get that with steamed vegetables instead of mashed potatoes?\n",
      "  **Waiter/Waitress (직원):** Certainly. So that's one Grilled Salmon with steamed vegetables, and an iced tea. Anything else for you?\n",
      "  **You (손님):** Yes, I'll also have a glass of iced tea.\n",
      "  **You (손님):** No, that will be all for now, thank you.\n",
      "  **Waiter/Waitress (직원):** Alright, your order will be out shortly!\n",
      "\n",
      "- 한글 해석:\n",
      "  **You (손님):** 실례합니다, 저희는 주문할 준비가 됐어요.\n",
      "  **Waiter/Waitress (직원):** 좋아요! 오늘 무엇을 도와드릴까요? (무엇을 주문하시겠어요?)\n",
      "  **You (손님):** 저는 구운 연어를 부탁드려요. 그리고 으깬 감자 대신 찐 야채로 주실 수 있을까요?\n",
      "  **Waiter/Waitress (직원):** 물론이죠. 그럼 구운 연어 하나에 찐 야채, 그리고 아이스티 하나요. 더 필요한 건 없으신가요?\n",
      "  **You (손님):** 네, 아이스티 한 잔도 부탁드려요.\n",
      "  **You (손님):** 아니요, 지금은 그게 다예요, 감사합니다.\n",
      "  **Waiter/Waitress (직원):** 알겠습니다, 주문하신 음식은 곧 나올 거예요!\n",
      "\n",
      "---\n",
      "\n",
      "**[추가 팁!]**\n",
      "\n",
      "*   **메뉴를 잘 모를 때:** \"What do you recommend?\" (어떤 것을 추천하시나요?) 또는 \"What's the most popular dish?\" (가장 인기 있는 요리가 뭔가요?) 라고 물어볼 수 있어요.\n",
      "*   **알레르기가 있을 때:** \"I have an allergy to [ingredient]. Does this dish contain [ingredient]?\" (저는 [재료]에 알레르기가 있어요. 이 요리에 [재료]가 들어가나요?) 라고 미리 알려주는 것이 중요해요.\n",
      "*   **주문 확인 시:** 직원이 주문을 다시 말해줄 때 잘 듣고 틀린 부분이 있다면 \"Actually, I ordered [correct item].\" (사실은 [정확한 메뉴]를 주문했어요.) 라고 정정할 수 있습니다.\n",
      "\n",
      "이 회화가 식당에서 자신감 있게 주문하는 데 도움이 되기를 바랍니다!\n"
     ]
    }
   ],
   "source": [
    "# 완성된 Chain을 실행하여 답변을 얻습니다.\n",
    "print(chain.invoke({\"question\": \"저는 식당에 가서 음식을 주문하고 싶어요\"}))"
   ]
  },
  {
   "cell_type": "code",
   "execution_count": 21,
   "metadata": {},
   "outputs": [
    {
     "name": "stdout",
     "output_type": "stream",
     "text": [
      "안녕하세요! 10년차 영어 선생님입니다. 식당에서 음식을 주문할 때 사용할 수 있는 유용한 표현들을 담은 대화입니다.\n",
      "\n",
      "---\n",
      "\n",
      "**#상황: 식당에서 음식을 주문하기**\n",
      "\n",
      "**등장인물:**\n",
      "*   **손님 (Customer)**: 당신\n",
      "*   **종업원 (Server)**: 식당 종업원\n",
      "\n",
      "---\n",
      "\n",
      "- 영어 회화: **Server:** Good evening! Welcome to [Restaurant Name]. How many in your party?\n",
      "- 한글 해석: **종업원:** 안녕하세요! [식당 이름]에 오신 것을 환영합니다. 몇 분이세요?\n",
      "\n",
      "- 영어 회화: **Customer:** Good evening! Just one, please.\n",
      "- 한글 해석: **손님:** 안녕하세요! 한 명입니다.\n",
      "\n",
      "- 영어 회화: **Server:** Right this way. Here’s your menu. Can I get you something to drink while you look it over?\n",
      "- 한글 해석: **종업원:** 이쪽으로 오세요. 메뉴 여기 있습니다. 메뉴를 보시는 동안 음료 먼저 드릴까요?\n",
      "\n",
      "- 영어 회화: **Customer:** Yes, please. I'll have a glass of water, please.\n",
      "- 한글 해석: **손님:** 네, 부탁드립니다. 물 한 잔 주세요.\n",
      "\n",
      "- 영어 회화: **Server:** Certainly. Are you ready to order, or do you need a few more minutes?\n",
      "- 한글 해석: **종업원:** 알겠습니다. 주문하시겠어요, 아니면 시간이 좀 더 필요하세요?\n",
      "\n",
      "- 영어 회화: **Customer:** I'm ready to order, thank you. What do you recommend today?\n",
      "- 한글 해석: **손님:** 주문할게요, 감사합니다. 오늘 어떤 걸 추천하시나요?\n",
      "\n",
      "- 영어 회화: **Server:** Our special today is the grilled salmon with asparagus, or the chef's pasta is always a popular choice.\n",
      "- 한글 해석: **종업원:** 오늘의 특선 요리는 아스파라거스를 곁들인 구운 연어이고요, 셰프의 파스타도 항상 인기 있는 메뉴입니다.\n",
      "\n",
      "- 영어 회화: **Customer:** Hmm, the grilled salmon sounds good. Is it very spicy?\n",
      "- 한글 해석: **손님:** 음, 구운 연어가 맛있겠네요. 많이 맵나요?\n",
      "\n",
      "- 영어 회화: **Server:** Not at all. It comes with a lemon-dill sauce, very mild.\n",
      "- 한글 해석: **종업원:** 전혀 맵지 않습니다. 레몬-딜 소스와 함께 나오는데, 아주 순합니다.\n",
      "\n",
      "- 영어 회화: **Customer:** Perfect! I'll have the grilled salmon, please. And could I get a side salad instead of the rice?\n",
      "- 한글 해석: **손님:** 완벽하네요! 구운 연어로 주세요. 그리고 밥 대신 사이드 샐러드로 바꿀 수 있을까요?\n",
      "\n",
      "- 영어 회화: **Server:** Yes, absolutely. So that's one grilled salmon with a side salad. Anything else for you?\n",
      "- 한글 해석: **종업원:** 네, 물론이죠. 그럼 구운 연어 하나에 사이드 샐러드 추가 맞으시죠? 더 필요한 건 없으세요?\n",
      "\n",
      "- 영어 회화: **Customer:** That's all for now, thank you!\n",
      "- 한글 해석: **손님:** 지금은 그게 다예요, 감사합니다!\n",
      "\n",
      "- 영어 회화: **Server:** Great. Your food will be out shortly.\n",
      "- 한글 해석: **종업원:** 네. 음식은 곧 나올 겁니다.\n",
      "\n",
      "---\n",
      "\n",
      "**선생님 Tip:**\n",
      "*   **\"I'll have...\"** 또는 **\"I'd like...\"** 는 \"저는 ~을 먹겠습니다/주세요\" 라는 아주 공손하고 자연스러운 표현입니다. \"I want...\" 보다 훨씬 더 자주 사용됩니다.\n",
      "*   음식에 대해 궁금한 점이 있다면 **\"What's in this?\" (이거 뭐 들어있어요?)**, **\"Is this vegetarian/vegan?\" (이거 채식/비건인가요?)**, **\"Does this contain nuts/dairy?\" (이거 견과류/유제품 들어있나요?)** 와 같이 물어볼 수 있습니다.\n",
      "*   특별한 요청이 있다면 **\"Could I get this without [ingredient]?\" ([재료] 빼고 주실 수 있나요?)** 또는 **\"Could I get extra [item]?\" ([항목] 좀 더 주실 수 있나요?)** 라고 말해보세요.\n",
      "\n",
      "연습 많이 하시고 즐거운 식사 되세요!"
     ]
    }
   ],
   "source": [
    "# 완성된 Chain을 실행하여 답변을 얻습니다.\n",
    "# 스트리밍 출력을 위한 요청\n",
    "answer = chain.stream({\"question\": \"저는 식당에 가서 음식을 주문하고 싶어요\"})\n",
    "# 스트리밍 출력\n",
    "stream_response(answer)"
   ]
  },
  {
   "cell_type": "code",
   "execution_count": 22,
   "metadata": {},
   "outputs": [
    {
     "name": "stdout",
     "output_type": "stream",
     "text": [
      "네, 10년차 영어 선생님의 노하우를 담아 미국에서 피자 주문하는 상황의 영어 회화를 작성해 드릴게요.\n",
      "\n",
      "---\n",
      "\n",
      "# 상황: 미국에서 피자 주문\n",
      "\n",
      "## 영어 회화:\n",
      "\n",
      "**Pizza Palace Staff (P):** Thank you for calling Pizza Palace, how can I help you?\n",
      "**Customer (C):** Hi, I'd like to place an order for delivery, please.\n",
      "\n",
      "**P:** Okay, what can I get for you today?\n",
      "**C:** I'd like a large pepperoni pizza.\n",
      "\n",
      "**P:** And what kind of crust would you like? We have regular, thin, and hand-tossed.\n",
      "**C:** Hmm, I'll go with thin crust, please.\n",
      "\n",
      "**P:** Anything else with that? Maybe some wings or a drink?\n",
      "**C:** Do you have any specials going on right now?\n",
      "\n",
      "**P:** Yes, we have our \"Family Feast\" deal. It's a large 2-topping pizza, a side of breadsticks, and a 2-liter soda for $24.99.\n",
      "**C:** Oh, that sounds good! Can I get that instead? For the pizza, I'll take half pepperoni, half supreme.\n",
      "\n",
      "**P:** Sure. So that's a large, half pepperoni, half supreme pizza, with breadsticks and a 2-liter soda. Which soda would you like?\n",
      "**C:** Coke, please.\n",
      "\n",
      "**P:** Alright, and what's the delivery address?\n",
      "**C:** It's 123 Main Street, Apartment 4B.\n",
      "\n",
      "**P:** And a phone number for you?\n",
      "**C:** It's 555-123-4567.\n",
      "\n",
      "**P:** Okay, just to confirm: one large half pepperoni, half supreme pizza, with breadsticks and a 2-liter Coke, delivered to 123 Main Street, Apartment 4B. Your total will be $26.50. Will this be cash or credit?\n",
      "**C:** Credit, please. I'll pay at the door.\n",
      "\n",
      "**P:** Got it. Your order should arrive in about 30-45 minutes.\n",
      "**C:** Great, thank you!\n",
      "\n",
      "**P:** Thank *you*! Have a good one!\n",
      "**C:** You too, bye!\n",
      "\n",
      "---\n",
      "\n",
      "## 한글 해석:\n",
      "\n",
      "**피자 팰리스 직원 (P):** 피자 팰리스에 전화 주셔서 감사합니다. 무엇을 도와드릴까요?\n",
      "**고객 (C):** 안녕하세요, 배달 주문하고 싶어요.\n",
      "\n",
      "**P:** 네, 오늘 무엇을 주문하시겠어요?\n",
      "**C:** 라지 페퍼로니 피자 한 판 주세요.\n",
      "\n",
      "**P:** 어떤 종류의 도우를 원하세요? 일반, 씬, 그리고 핸드 토스 도우가 있습니다.\n",
      "**C:** 음, 씬 크러스트로 할게요.\n",
      "\n",
      "**P:** 다른 건 필요 없으세요? 혹시 윙이나 음료수는요?\n",
      "**C:** 지금 진행 중인 특별 할인이 있나요?\n",
      "\n",
      "**P:** 네, \"패밀리 피스트\" 할인이 있습니다. 라지 사이즈 토핑 2가지 피자, 브레드스틱 한 개, 그리고 2리터 탄산음료가 24.99달러입니다.\n",
      "**C:** 오, 그거 좋네요! 그걸로 바꿀 수 있을까요? 피자는 반은 페퍼로니, 반은 수프림으로 할게요.\n",
      "\n",
      "**P:** 알겠습니다. 그럼 라지 사이즈, 반은 페퍼로니, 반은 수프림 피자에 브레드스틱과 2리터 탄산음료군요. 어떤 탄산음료로 드릴까요?\n",
      "**C:** 콜라로 부탁해요.\n",
      "\n",
      "**P:** 네, 배달 주소는 어떻게 되시나요?\n",
      "**C:** 123 메인 스트리트, 4B 아파트입니다.\n",
      "\n",
      "**P:** 전화번호는요?\n",
      "**C:** 555-123-4567입니다.\n",
      "\n",
      "**P:** 확인하겠습니다. 라지 사이즈 반 페퍼로니, 반 수프림 피자 한 판에 브레드스틱, 2리터 콜라, 123 메인 스트리트 4B 아파트로 배달입니다. 총 금액은 26.50달러입니다. 현금으로 하시겠어요, 신용카드로 하시겠어요?\n",
      "**C:** 신용카드요. 문 앞에서 결제할게요.\n",
      "\n",
      "**P:** 알겠습니다. 주문하신 음식은 약 30~45분 후에 도착할 겁니다.\n",
      "**C:** 좋아요, 감사합니다!\n",
      "\n",
      "**P:** *저희가* 감사합니다! 좋은 하루 되세요!\n",
      "**C:** 당신도요, 안녕히 계세요!\n",
      "\n",
      "---"
     ]
    }
   ],
   "source": [
    "# 이번에는 question 을 '미국에서 피자 주문'으로 설정하여 실행합니다.\n",
    "# 스트리밍 출력을 위한 요청\n",
    "answer = chain.stream({\"question\": \"미국에서 피자 주문\"})\n",
    "# 스트리밍 출력\n",
    "stream_response(answer)"
   ]
  }
 ],
 "metadata": {
  "kernelspec": {
   "display_name": ".venv",
   "language": "python",
   "name": "python3"
  },
  "language_info": {
   "codemirror_mode": {
    "name": "ipython",
    "version": 3
   },
   "file_extension": ".py",
   "mimetype": "text/x-python",
   "name": "python",
   "nbconvert_exporter": "python",
   "pygments_lexer": "ipython3",
   "version": "3.11.13"
  }
 },
 "nbformat": 4,
 "nbformat_minor": 2
}
