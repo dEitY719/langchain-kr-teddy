{
 "cells": [
  {
   "cell_type": "code",
   "execution_count": 1,
   "metadata": {},
   "outputs": [
    {
     "data": {
      "text/plain": [
       "True"
      ]
     },
     "execution_count": 1,
     "metadata": {},
     "output_type": "execute_result"
    }
   ],
   "source": [
    "# API 키를 환경변수로 관리하기 위한 설정 파일\n",
    "from dotenv import load_dotenv\n",
    "\n",
    "# API 키 정보 로드\n",
    "load_dotenv()"
   ]
  },
  {
   "cell_type": "markdown",
   "metadata": {},
   "source": [
    "Chain of Density: https://arxiv.org/pdf/2309.04269.pdf\n"
   ]
  },
  {
   "cell_type": "code",
   "execution_count": 2,
   "metadata": {},
   "outputs": [
    {
     "name": "stdout",
     "output_type": "stream",
     "text": [
      "```json\n",
      "[\n",
      "    {\n",
      "        \"Missing_Entities\": \"박정현 서울대 EPM 연구원; 데이터사이언스, 머신러닝, 인공지능의 정의 및 차이점; '인공지능 국가전략' 발표; 데이터사이언스 대학원 및 인공지능 대학원 설립\",\n",
      "        \"Denser_Summary\": \"이 기사는 데이터사이언스, 머신러닝, 인공지능에 대한 개념을 설명하고, 이들 분야의 차이점에 대해 논의합니다. 박정현 서울대 EPM 연구원은 이 분야들이 실생활에 어떻게 적용되고 있는지, 그리고 이 분야에서 일하고자 하는 사람들을 위한 조언을 제공합니다. 또한, '인공지능 국가전략'의 발표와 여러 대학에서 데이터사이언스 대학원 및 인공지능 대학원을 설립하는 등의 교육적 변화에 대해서도 언급합니다. 이러한 내용을 통해 독자들은 데이터사이언스와 인공지능 분야에 대한 이해를 높일 수 있습니다.\"\n",
      "    },\n",
      "    {\n",
      "        \"Missing_Entities\": \"튜링테스트; 지도학습, 비지도 학습\",\n",
      "        \"Denser_Summary\": \"박정현 서울대 EPM 연구원은 데이터사이언스, 머신러닝, 인공지능의 정의와 차이점을 설명하며, '인공지능 국가전략' 발표와 데이터사이언스 및 인공지능 대학원 설립의 중요성을 강조합니다. 인공지능의 이해를 돕기 위해 튜링테스트를 언급하고, 머신러닝의 두 주요 유형인 지도학습과 비지도 학습에 대해 설명합니다. 이 글은 이 분야의 기초적인 개념을 명확히 하고, 관련 분야에서의 경력을 고려하는 이들에게 유용한 정보를 제공합니다.\"\n",
      "    },\n",
      "    {\n",
      "        \"Missing_Entities\": \"약한 인공지능, 강한 인공지능; 머신러닝의 이메일 스팸 필터링 예시\",\n",
      "        \"Denser_Summary\": \"박정현 서울대 EPM 연구원은 데이터사이언스, 머신러닝, 인공지능의 개념과 차이점을 설명하고, '인공지능 국가전략' 발표 및 대학원 설립의 중요성을 강조합니다. 튜링테스트를 통한 인공지능 이해, 지도학습과 비지도 학습의 머신러닝 유형 설명에 이어, 인공지능을 약한 인공지능과 강한 인공지능으로 분류하는 기준과 머신러닝을 활용한 이메일 스팸 필터링의 실제 예시를 제공합니다. 이는 독자들이 이 분야의 기술적 측면을 더 깊이 이해할 수 있게 합니다.\"\n",
      "    },\n",
      "    {\n",
      "        \"Missing_Entities\": \"데이터사이언스의 이론적, 실용적 측면; k-means, 이상값 검출, 강화학습\",\n",
      "        \"Denser_Summary\": \"박정현 서울대 EPM 연구원은 데이터사이언스, 머신러닝, 인공지능의 정의와 차이점을 설명하며, '인공지능 국가전략' 발표와 대학원 설립의 중요성을 강조합니다. 튜링테스트, 지도학습, 비지도 학습 설명에 이어, 인공지능의 약한 인공지능과 강한 인공지능 분류, 머신러닝의 이메일 스팸 필터링 예시를 제공합니다. 데이터사이언스의 이론적, 실용적 측면, k-means 클러스터링, 이상값 검출, 강화학습 등의 머신러닝 알고리즘을 추가로 소개하여 독자들의 이해를 돕습니다.\"\n",
      "    },\n",
      "    {\n",
      "        \"Missing_Entities\": \"\",\n",
      "        \"Denser_Summary\": \"박정현 서울대 EPM 연구원은 데이터사이언스, 머신러닝, 인공지능의 정의와 차이점을 설명하며, '인공지능 국가전략' 발표와 대학원 설립의 중요성을 강조합니다. 튜링테스트, 지도학습, 비지도 학습 설명에 이어, 인공지능의 약한 인공지능과 강한 인공지능 분류, 머신러닝의 이메일 스팸 필터링 예시를 제공합니다. 데이터사이언스의 이론적, 실용적 측면, k-means 클러스터링, 이상값 검출, 강화학습 등의 머신러닝 알고리즘을 추가로 소개하여 독자들의 이해를 돕습니다.\"\n",
      "    }\n",
      "]\n",
      "```박정현 서울대 EPM 연구원은 데이터사이언스, 머신러닝, 인공지능의 정의와 차이점을 설명하며, '인공지능 국가전략' 발표와 대학원 설립의 중요성을 강조합니다. 튜링테스트, 지도학습, 비지도 학습 설명에 이어, 인공지능의 약한 인공지능과 강한 인공지능 분류, 머신러닝의 이메일 스팸 필터링 예시를 제공합니다. 데이터사이언스의 이론적, 실용적 측면, k-means 클러스터링, 이상값 검출, 강화학습 등의 머신러닝 알고리즘을 추가로 소개하여 독자들의 이해를 돕습니다.\n"
     ]
    }
   ],
   "source": [
    "from langchain import hub\n",
    "from langchain_openai import ChatOpenAI\n",
    "from langchain_core.output_parsers import JsonOutputParser\n",
    "from langchain.document_loaders import WebBaseLoader\n",
    "from langchain.callbacks.base import BaseCallbackHandler\n",
    "\n",
    "\n",
    "# Load some data to summarize\n",
    "loader = WebBaseLoader(\n",
    "    \"https://www.aitimes.com/news/articleView.html?idxno=131777\")\n",
    "docs = loader.load()\n",
    "content = docs[0].page_content\n",
    "\n",
    "\n",
    "class StreamCallback(BaseCallbackHandler):\n",
    "    def on_llm_new_token(self, token, **kwargs):\n",
    "        print(token, end=\"\", flush=True)\n",
    "\n",
    "\n",
    "prompt = hub.pull(\"teddynote/chain-of-density-korean\")\n",
    "\n",
    "# Create the chain, including\n",
    "chain = (\n",
    "    prompt\n",
    "    | ChatOpenAI(\n",
    "        temperature=0,\n",
    "        model=\"gpt-4-turbo-preview\",\n",
    "        streaming=True,\n",
    "        callbacks=[StreamCallback()],\n",
    "    )\n",
    "    | JsonOutputParser()\n",
    "    | (lambda x: x[-1][\"Denser_Summary\"])\n",
    ")\n",
    "\n",
    "# Invoke the chain\n",
    "result = chain.invoke({\"ARTICLE\": content})\n",
    "print(result)"
   ]
  }
 ],
 "metadata": {
  "kernelspec": {
   "display_name": "py-test",
   "language": "python",
   "name": "python3"
  },
  "language_info": {
   "codemirror_mode": {
    "name": "ipython",
    "version": 3
   },
   "file_extension": ".py",
   "mimetype": "text/x-python",
   "name": "python",
   "nbconvert_exporter": "python",
   "pygments_lexer": "ipython3",
   "version": "3.10.13"
  }
 },
 "nbformat": 4,
 "nbformat_minor": 2
}
