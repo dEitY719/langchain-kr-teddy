{
 "cells": [
  {
   "cell_type": "code",
   "execution_count": 2,
   "metadata": {},
   "outputs": [
    {
     "data": {
      "text/plain": [
       "True"
      ]
     },
     "execution_count": 2,
     "metadata": {},
     "output_type": "execute_result"
    }
   ],
   "source": [
    "# API 키를 환경변수로 관리하기 위한 설정 파일\n",
    "from dotenv import load_dotenv\n",
    "\n",
    "# API 키 정보 로드\n",
    "load_dotenv()"
   ]
  },
  {
   "cell_type": "markdown",
   "metadata": {},
   "source": [
    "Chain of Density: https://arxiv.org/pdf/2309.04269.pdf\n"
   ]
  },
  {
   "cell_type": "code",
   "execution_count": 1,
   "metadata": {},
   "outputs": [
    {
     "name": "stdout",
     "output_type": "stream",
     "text": [
      "```json\n",
      "[\n",
      "    {\n",
      "        \"Missing_Entities\": \"\",\n",
      "        \"Denser_Summary\": \"이 기사는 데이터사이언스, 머신러닝, 인공지능에 대한 개념을 설명하고 있습니다. 이 분야들이 우리 생활에 어떻게 적용되고 있는지, 그리고 이 분야를 공부하고자 하는 사람들이 어떻게 접근해야 하는지에 대한 정보를 제공합니다. 또한, 이 기술들이 어떻게 빠르게 발전하고 있는지에 대해서도 언급하고 있습니다. 이러한 기술들이 가지고 있는 중요성과, 이 분야에서 일하고자 하는 사람들이 어떤 준비를 해야 하는지에 대한 조언도 포함되어 있습니다.\"\n",
      "    },\n",
      "    {\n",
      "        \"Missing_Entities\": \"박정현 서울대 EPM 연구원; '인공지능 국가전략' 발표; 퍼듀 대학의 윌리엄 클리블랜드 교수\",\n",
      "        \"Denser_Summary\": \"박정현 서울대 EPM 연구원이 작성한 이 기사는 데이터사이언스, 머신러닝, 인공지능의 개념과 실생활 적용 예를 설명합니다. '인공지능 국가전략' 발표와 같은 국가적 노력과 퍼듀 대학의 윌리엄 클리블랜드 교수가 예측한 '빅데이터 시대 융합 학문으로서 데이터사이언스'의 중요성을 강조합니다. 또한, 이 분야의 빠른 발전과 공부 방향에 대한 조언을 제공하며, 이 기술들의 중요성과 준비 과정에 대해 논의합니다.\"\n",
      "    },\n",
      "    {\n",
      "        \"Missing_Entities\": \"튜링테스트; 지도학습(supervised learning)과 비지도 학습(unsupervised learning)\",\n",
      "        \"Denser_Summary\": \"박정현 서울대 EPM 연구원이 작성한 기사는 데이터사이언스, 머신러닝, 인공지능의 정의와 적용을 설명하며, '인공지능 국가전략'과 퍼듀 대학의 윌리엄 클리블랜드 교수의 예측을 언급합니다. 인공지능의 이해를 위한 튜링테스트와 머신러닝의 지도학습, 비지도 학습의 구분을 소개합니다. 이 기술들의 발전 속도와 학습 방향, 중요성 및 준비 과정에 대한 조언도 포함됩니다.\"\n",
      "    },\n",
      "    {\n",
      "        \"Missing_Entities\": \"알파고; GPT-3\",\n",
      "        \"Denser_Summary\": \"박정현 서울대 EPM 연구원이 작성한 기사는 데이터사이언스, 머신러닝, 인공지능의 정의와 적용 예를 설명합니다. '인공지능 국가전략', 퍼듀 대학의 윌리엄 클리블랜드 교수의 예측, 튜링테스트, 지도학습 및 비지도 학습의 구분을 언급합니다. 알파고와 GPT-3와 같은 대형 프로젝트의 중요성을 강조하며, 이 기술들의 발전 속도와 학습 방향, 중요성 및 준비 과정에 대한 조언을 제공합니다.\"\n",
      "    },\n",
      "    {\n",
      "        \"Missing_Entities\": \"이메일 스팸 필터링; k-means\",\n",
      "        \"Denser_Summary\": \"박정현 서울대 EPM 연구원이 작성한 기사는 데이터사이언스, 머신러닝, 인공지능의 정의와 적용 예를 설명하며, '인공지능 국가전략', 퍼듀 대학의 윌리엄 클리블랜드 교수의 예측, 튜링테스트, 지도학습 및 비지도 학습의 구분을 언급합니다. 알파고와 GPT-3의 중요성을 강조하며, 이메일 스팸 필터링과 k-means 알고리즘을 예로 들어 머신러닝의 적용을 설명합니다. 기술 발전 속도와 학습 방향, 중요성 및 준비 과정에 대한 조언도 포함됩니다.\"\n",
      "    }\n",
      "]\n",
      "```박정현 서울대 EPM 연구원이 작성한 기사는 데이터사이언스, 머신러닝, 인공지능의 정의와 적용 예를 설명하며, '인공지능 국가전략', 퍼듀 대학의 윌리엄 클리블랜드 교수의 예측, 튜링테스트, 지도학습 및 비지도 학습의 구분을 언급합니다. 알파고와 GPT-3의 중요성을 강조하며, 이메일 스팸 필터링과 k-means 알고리즘을 예로 들어 머신러닝의 적용을 설명합니다. 기술 발전 속도와 학습 방향, 중요성 및 준비 과정에 대한 조언도 포함됩니다.\n"
     ]
    }
   ],
   "source": [
    "from langchain import hub\n",
    "from langchain_openai import ChatOpenAI\n",
    "from langchain_core.output_parsers import JsonOutputParser\n",
    "from langchain.document_loaders import WebBaseLoader\n",
    "from langchain.callbacks.base import BaseCallbackHandler\n",
    "\n",
    "\n",
    "# Load some data to summarize\n",
    "loader = WebBaseLoader(\"https://www.aitimes.com/news/articleView.html?idxno=131777\")\n",
    "docs = loader.load()\n",
    "content = docs[0].page_content\n",
    "\n",
    "\n",
    "class StreamCallback(BaseCallbackHandler):\n",
    "    def on_llm_new_token(self, token, **kwargs):\n",
    "        print(token, end=\"\", flush=True)\n",
    "\n",
    "\n",
    "prompt = hub.pull(\"teddynote/chain-of-density-korean\")\n",
    "\n",
    "# Create the chain, including\n",
    "chain = (\n",
    "    prompt\n",
    "    | ChatOpenAI(\n",
    "        temperature=0,\n",
    "        model=\"gpt-4-turbo-preview\",\n",
    "        streaming=True,\n",
    "        callbacks=[StreamCallback()],\n",
    "    )\n",
    "    | JsonOutputParser()\n",
    "    | (lambda x: x[-1][\"Denser_Summary\"])\n",
    ")\n",
    "\n",
    "# Invoke the chain\n",
    "result = chain.invoke({\"ARTICLE\": content})\n",
    "print(result)"
   ]
  }
 ],
 "metadata": {
  "kernelspec": {
   "display_name": "py-test",
   "language": "python",
   "name": "python3"
  },
  "language_info": {
   "codemirror_mode": {
    "name": "ipython",
    "version": 3
   },
   "file_extension": ".py",
   "mimetype": "text/x-python",
   "name": "python",
   "nbconvert_exporter": "python",
   "pygments_lexer": "ipython3",
   "version": "3.10.13"
  }
 },
 "nbformat": 4,
 "nbformat_minor": 2
}
