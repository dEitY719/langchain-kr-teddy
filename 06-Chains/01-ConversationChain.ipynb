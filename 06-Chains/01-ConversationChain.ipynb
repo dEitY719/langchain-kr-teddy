{
 "cells": [
  {
   "cell_type": "code",
   "execution_count": 2,
   "id": "37222b9a",
   "metadata": {},
   "outputs": [
    {
     "data": {
      "text/plain": [
       "True"
      ]
     },
     "execution_count": 2,
     "metadata": {},
     "output_type": "execute_result"
    }
   ],
   "source": [
    "# API 키를 환경변수로 관리하기 위한 설정 파일\n",
    "from dotenv import load_dotenv\n",
    "\n",
    "# API 키 정보 로드\n",
    "load_dotenv()"
   ]
  },
  {
   "cell_type": "markdown",
   "id": "96e5bd52",
   "metadata": {},
   "source": [
    "## ConversationChain\n"
   ]
  },
  {
   "cell_type": "markdown",
   "id": "381e14ed",
   "metadata": {},
   "source": [
    "`ChatOpenAI` 클래스를 사용하여 대화형 AI 모델의 인스턴스를 생성하고, 이를 통해 사용자와의 대화를 처리할 수 있습니다.\n",
    "\n",
    "`ConversationChain`, `ChatOpenAI`, `ConversationBufferMemory` 모듈은 대화 관리 및 메모리 관리에 필요한 기능을 제공합니다.\n"
   ]
  },
  {
   "cell_type": "code",
   "execution_count": 3,
   "id": "05e15c28",
   "metadata": {},
   "outputs": [],
   "source": [
    "from langchain.chains import ConversationChain\n",
    "from langchain_openai import ChatOpenAI\n",
    "from langchain.memory import ConversationBufferMemory"
   ]
  },
  {
   "cell_type": "markdown",
   "id": "515349ee",
   "metadata": {},
   "source": [
    "`ConversationChain` 클래스의 인스턴스를 생성하여 대화 관리를 수행합니다. 이때, `llm`은 저수준 언어 모델을, `verbose`는 상세한 로깅 여부를 (여기서는 비활성화), 그리고 `memory`는 대화 내용을 저장할 메모리 버퍼를 각각 지정합니다.\n"
   ]
  },
  {
   "cell_type": "code",
   "execution_count": 8,
   "id": "a951b721",
   "metadata": {},
   "outputs": [],
   "source": [
    "# ChatOpenAI 객체를 생성합니다.\n",
    "llm = ChatOpenAI()\n",
    "\n",
    "# ConversationChain 인스턴스를 생성합니다.\n",
    "# llm: 모델을 지정합니다.\n",
    "# verbose: 상세한 로깅을 비활성화합니다.\n",
    "# memory: 대화 내용을 저장하는 메모리 버퍼를 지정합니다.\n",
    "conversation = ConversationChain(\n",
    "    llm=llm, verbose=False, memory=ConversationBufferMemory()\n",
    ")"
   ]
  },
  {
   "cell_type": "markdown",
   "id": "b277ba68",
   "metadata": {},
   "source": [
    "이 함수는 문자열 입력을 받아 대화 모델을 통해 예측 결과를 반환합니다.\n",
    "\n",
    "`conversation.predict` 함수는 주어진 입력에 대한 모델의 반응을 예측하는 데 사용됩니다.\n"
   ]
  },
  {
   "cell_type": "code",
   "execution_count": 9,
   "id": "439f34f0",
   "metadata": {},
   "outputs": [
    {
     "data": {
      "text/plain": [
       "'양자역학은 물리학의 한 분야로, 아주 작은 입자들의 동작과 상호작용을 설명하는 이론입니다. 양자역학은 20세기 초에 개발되었으며, 알버트 아인슈타인, 니어보어, 막스 플랑크 등의 과학자들에 의해 큰 발전이 이루어졌습니다. 양자역학은 확률적인 성격을 가지고 있어, 정확한 예측을 할 수 없는 경우도 있습니다. 양자역학은 양자 상태, 파동-입자 이중성, 편평한 공간에서의 운동 등을 다루며, 양자역학의 기본 원리는 슈뢰딩거의 고양이와 같은 흥미로운 사례로 유명합니다. 양자역학은 현대 물리학의 중요한 이론 중 하나이며, 많은 응용 분야에서 사용되고 있습니다. 그래서 양자역학에 대한 연구는 아직도 활발히 이루어지고 있습니다.'"
      ]
     },
     "execution_count": 9,
     "metadata": {},
     "output_type": "execute_result"
    }
   ],
   "source": [
    "conversation.predict(input=\"양자역학에 대해 설명해줘.\")"
   ]
  },
  {
   "cell_type": "code",
   "execution_count": 13,
   "id": "8944b2d8",
   "metadata": {},
   "outputs": [
    {
     "name": "stdout",
     "output_type": "stream",
     "text": [
      "- 양자역학은 물리학의 한 분야로 아주 작은 입자들의 동작과 상호작용을 설명하는 이론입니다. 👩‍🔬\n",
      "- 양자역학은 20세기 초에 개발되었으며, 알버트 아인슈타인, 니어보어, 막스 플랑크 등의 과학자들에 의해 큰 발전이 이루어졌습니다. 🚀\n",
      "- 양자역학은 확률적인 성격을 가지고 있어 정확한 예측을 할 수 없는 경우도 있습니다. 🎲\n",
      "- 양자역학은 양자 상태, 파동-입자 이중성, 편평한 공간에서의 운동 등을 다루며, 양자역학의 기본 원리는 슈뢰딩거의 고양이와 같은 흥미로운 사례로 유명합니다. 🐱\n",
      "- 양자역학은 현대 물리학의 중요한 이론 중 하나이며, 많은 응용 분야에서 사용되고 있습니다. 💡\n",
      "- 양자역학에 대한 연구는 아직도 활발히 이루어지고 있습니다. 🔬\n"
     ]
    }
   ],
   "source": [
    "print(conversation.predict(input=\"불렛포인트 형식으로 작성해줘. emoji 추가해줘.\"))"
   ]
  },
  {
   "cell_type": "markdown",
   "id": "71b9fc9b",
   "metadata": {},
   "source": [
    "## streaming: 실시간 출력\n"
   ]
  },
  {
   "cell_type": "markdown",
   "id": "065f00fa",
   "metadata": {},
   "source": [
    "스트리밍 방식으로 대화형 AI 모델을 구현합니다.\n",
    "\n",
    "`MyCustomHandler` 클래스는 `BaseCallbackHandler`를 상속받아, 새로운 토큰이 생성될 때마다 이를 출력하는 기능을 정의합니다.\n",
    "\n",
    "`ChatOpenAI` 의 스트리밍 모드를 활성화하고, 사용자 정의 핸들러인 `MyCustomHandler` 인스턴스를 콜백으로 설정합니다.\n",
    "\n",
    "- [참고 문서](https://python.langchain.com/docs/modules/callbacks/custom_callbacks)\n"
   ]
  },
  {
   "cell_type": "code",
   "execution_count": 14,
   "id": "c9de6eae",
   "metadata": {},
   "outputs": [],
   "source": [
    "from langchain.callbacks.base import BaseCallbackHandler\n",
    "from langchain_openai import ChatOpenAI\n",
    "\n",
    "\n",
    "class MyCustomHandler(BaseCallbackHandler):\n",
    "    def on_llm_new_token(self, token: str, **kwargs) -> None:\n",
    "        print(f\"{token}\", end=\"\", flush=True)\n",
    "\n",
    "\n",
    "# 스트리밍을 활성화하기 위해, ChatModel 생성자에 `streaming=True`를 전달합니다.\n",
    "# 추가적으로, 사용자 정의 핸들러 리스트를 전달합니다.\n",
    "stream_llm = ChatOpenAI(streaming=True, callbacks=[MyCustomHandler()])\n",
    "\n",
    "conversation = ConversationChain(\n",
    "    llm=stream_llm,\n",
    "    verbose=False,\n",
    "    memory=ConversationBufferMemory(),\n",
    ")"
   ]
  },
  {
   "cell_type": "markdown",
   "id": "3e8e28da",
   "metadata": {},
   "source": [
    "`conversation.predict` 메소드는 주어진 입력에 대한 예측 결과를 반환합니다. 이 예시에서는 '양자역학에 대해 설명해줘'라는 문자열을 입력으로 사용하며, 해당 입력에 대한 예측 결과를 `output` 변수에 저장합니다. 이 과정은 AI 기반 대화 시스템에서 특정 주제에 대한 설명을 요청하는 방법을 보여줍니다.\n"
   ]
  },
  {
   "cell_type": "code",
   "execution_count": 15,
   "id": "4ea00c48",
   "metadata": {},
   "outputs": [
    {
     "name": "stdout",
     "output_type": "stream",
     "text": [
      "양자역학은 물리학의 한 분야로서 원자와 원자의 조합체인 분자의 동작과 상호작용을 기술하는 이론입니다. 이론은 양자역학의 수학적인 기초인 행렬 연산과 확률론을 사용하여 전자, 원자핵, 입자들의 특성을 설명합니다.\n",
      "\n",
      "양자역학은 많은 현상을 설명하는데 사용되며, 예를 들어 원자의 구조, 분자의 형성, 광전효과, 냉각 원리, 물질의 전기 전도성, 원자의 스펙트럼 등을 이론적으로 예측하고 설명할 수 있습니다.\n",
      "\n",
      "양자역학은 확률적인 성질을 갖고 있어, 일반적으로 정확한 위치와 운동량을 동시에 알 수 없습니다. 대신, 우리는 확률적인 방식으로 입자의 위치와 운동량을 예측할 수 있습니다. 이런 이유로 양자역학은 일상적인 경험과는 달리 매우 이상한 현상을 제시하기도 합니다.\n",
      "\n",
      "양자역학은 물리학적인 현상을 설명하는데 매우 성공해 왔으며, 현대 과학과 기술의 많은 분야에 응용되고 있습니다. 그러나 양자역학은 여전히 많은 미스터리와 이해하기 어려운 개념들을 포함하고 있어, 아직도 연구가 계속되고 있습니다."
     ]
    }
   ],
   "source": [
    "output = conversation.predict(input=\"양자역학에 대해 설명해줘\")"
   ]
  },
  {
   "cell_type": "markdown",
   "id": "28c445e8",
   "metadata": {},
   "source": [
    "이 함수는 `conversation.predict`를 사용하여 주어진 입력(`input`)을 분석하고, 그 결과를 불렛포인트 형식으로 요약하여 반환합니다. 여기서 `input` 파라미터는 요약하고자 하는 텍스트를 나타냅니다. 이 방식은 텍스트 기반 AI 모델을 활용하여 주어진 내용을 요약하는 데 유용하게 사용될 수 있습니다.\n"
   ]
  },
  {
   "cell_type": "code",
   "execution_count": 17,
   "id": "c13cdf92",
   "metadata": {},
   "outputs": [
    {
     "name": "stdout",
     "output_type": "stream",
     "text": [
      "- 양자역학은 원자와 분자의 동작과 상호작용을 설명하는 이론이다. 🔬\n",
      "- 양자역학은 확률론과 행렬 연산을 사용하여 전자, 원자핵, 입자들의 특성을 설명한다. 📊\n",
      "- 양자역학은 많은 현상을 예측하고 설명하는데 사용된다. 🌌\n",
      "- 양자역학은 정확한 위치와 운동량을 동시에 알 수 없으며, 확률적인 방식으로 입자의 위치와 운동량을 예측한다. 🎲\n",
      "- 양자역학은 이상한 현상을 제시하기도 하며, 여전히 많은 미스터리와 이해하기 어려운 개념들을 포함하고 있다. 🌠"
     ]
    }
   ],
   "source": [
    "output = conversation.predict(\n",
    "    input=\"이전의 내용을 불렛포인트로 요약해줘. emoji 추가해줘.\"\n",
    ")"
   ]
  },
  {
   "cell_type": "markdown",
   "id": "e124c812",
   "metadata": {},
   "source": [
    "### Prompt 튜닝\n"
   ]
  },
  {
   "cell_type": "markdown",
   "id": "d4561153",
   "metadata": {},
   "source": [
    "이 코드는 `langchain.prompts`에서 `PromptTemplate` 클래스를 가져와 사용합니다. `PromptTemplate`는 템플릿 기반의 프롬프트를 생성하는 데 사용되며, 여기서는 엑셀 전문가와의 대화를 시뮬레이션하는 템플릿을 정의합니다. 템플릿에는 대화 내용(`context`)과 사용자의 질문(`question`)이 포함되어 있으며, 이 두 변수는 `PromptTemplate` 생성자에 `input_variables`로 전달됩니다. 이를 통해, 주어진 대화 내용과 질문에 기반한 엑셀 전문가의 답변을 생성하는 프롬프트가 만들어집니다.\n"
   ]
  },
  {
   "cell_type": "code",
   "execution_count": 18,
   "id": "3f4cd2f3",
   "metadata": {},
   "outputs": [],
   "source": [
    "from langchain.prompts import PromptTemplate\n",
    "\n",
    "template = \"\"\"\n",
    "당신은 10년차 엑셀 전문가 입니다. 아래 대화내용을 보고 질문에 대한 적절한 답변을 해주세요\n",
    "\n",
    "#대화내용\n",
    "{chat_history}\n",
    "----\n",
    "사용자: {question}\n",
    "엑셀전문가:\"\"\"\n",
    "\n",
    "prompt = PromptTemplate.from_template(template)"
   ]
  },
  {
   "cell_type": "markdown",
   "id": "64ae9021",
   "metadata": {},
   "source": [
    "이 함수는 `ConversationChain` 클래스의 인스턴스를 생성합니다. 여기서 `llm`은 언어 모델을, `prompt`는 대화의 시작점을, `memory`는 대화의 맥락을 저장하는 메모리 버퍼를, `input_key`는 사용자 입력을 받는 키를, 그리고 `verbose`는 상세한 로깅을 활성화할지 여부를 지정합니다. 특히, `memory`는 `ConversationBufferMemory` 클래스를 사용하여 `memory_key`를 통해 어떤 정보를 기억할지 결정합니다.\n"
   ]
  },
  {
   "cell_type": "code",
   "execution_count": 20,
   "id": "52d5a0a6",
   "metadata": {},
   "outputs": [],
   "source": [
    "conversation = ConversationChain(\n",
    "    llm=stream_llm,\n",
    "    prompt=prompt,\n",
    "    memory=ConversationBufferMemory(memory_key=\"chat_history\"),\n",
    "    input_key=\"question\",\n",
    ")"
   ]
  },
  {
   "cell_type": "markdown",
   "id": "8e845d0d",
   "metadata": {},
   "source": [
    "이 함수는 `conversation.predict`를 호출하여, 사용자가 제공한 질문에 대한 예측된 답변을 반환합니다. 여기서, `question` 매개변수는 질문의 내용을 문자열로 받습니다. 예시에서는 \"엑셀에서 VLOOKUP 함수는 무엇인가요? 간단하게 설명해주세요\"라는 질문을 처리하고 있습니다.\n"
   ]
  },
  {
   "cell_type": "code",
   "execution_count": 23,
   "id": "390927af",
   "metadata": {},
   "outputs": [
    {
     "name": "stdout",
     "output_type": "stream",
     "text": [
      "VLOOKUP 함수는 엑셀에서 사용되는 함수 중 하나로, 특정 조건에 해당하는 값을 다른 범위에서 찾아내는 기능을 제공합니다. 이 함수는 주로 데이터베이스와 비슷한 역할을 수행하며, 특정 열에서 특정 값을 찾은 후 해당 값과 관련된 정보를 다른 열에서 가져올 때 사용됩니다. VLOOKUP 함수는 특정 값을 기준으로 다른 범위에서 값을 찾아내는 것이기 때문에 \"수직 검색\" 함수라고도 불립니다. 이 함수를 사용하여 예를 들어, 고객의 주문 번호에 해당하는 상품명을 찾거나, 학생의 학번에 해당하는 성적을 찾을 수 있습니다."
     ]
    }
   ],
   "source": [
    "answer = conversation.predict(\n",
    "    question=\"엑셀에서 VLOOKUP 함수는 무엇인가요? 간단하게 설명해주세요\"\n",
    ")"
   ]
  },
  {
   "cell_type": "markdown",
   "id": "8ea08e13",
   "metadata": {},
   "source": [
    "`conversation.predict` 함수는 주어진 질문에 대한 예측을 수행합니다. 이 함수는 `question` 매개변수를 통해 질문을 입력받으며, 이 예제에서는 \"예제를 보여주세요\"라는 질문에 대한 예측 결과를 반환합니다.\n"
   ]
  },
  {
   "cell_type": "code",
   "execution_count": 24,
   "id": "fc17d454",
   "metadata": {},
   "outputs": [
    {
     "name": "stdout",
     "output_type": "stream",
     "text": [
      "고객 주문 정보가 있는 테이블과 상품 정보가 있는 테이블이 있다고 가정해봅시다. 고객 주문 정보 테이블에는 주문 번호와 상품 코드가 있고, 상품 정보 테이블에는 상품 코드와 상품명이 있습니다. 고객 주문 정보 테이블에서 주문 번호에 해당하는 상품명을 찾고 싶다면, VLOOKUP 함수를 사용할 수 있습니다. 아래는 VLOOKUP 함수를 사용한 예제입니다.\n",
      "\n",
      "1. 주문 번호를 입력할 셀을 선택합니다.\n",
      "2. 함수 입력 창에 다음과 같이 입력합니다: =VLOOKUP(주문번호, 상품정보테이블, 2, FALSE)\n",
      "   - 주문번호: 찾을 값인 주문 번호가 있는 셀\n",
      "   - 상품정보테이블: 상품 정보가 있는 범위 (상품 코드와 상품명이 있는 범위)\n",
      "   - 2: 찾은 값을 가져올 범위에서 상품명이 있는 열의 위치\n",
      "   - FALSE: 정확히 일치하는 값을 찾기 위해 사용되는 매개변수\n",
      "3. 엔터를 눌러 함수를 실행하면 해당 주문 번호에 해당하는 상품명이 표시됩니다.\n",
      "\n",
      "이렇게 VLOOKUP 함수를 사용하면 다른 범위에서 특정 값을 찾아내어 관련 정보를 가져올 수 있습니다."
     ]
    }
   ],
   "source": [
    "answer = conversation.predict(question=\"예제를 보여주세요\")"
   ]
  },
  {
   "cell_type": "markdown",
   "id": "c01d6309",
   "metadata": {},
   "source": [
    "## Human Prefix & AI Prefix 변경\n",
    "\n",
    "다음 방법은 대화 요약에서 휴먼 접두사를 변경하는 것입니다.\n",
    "\n",
    "기본적으로 이 접두사는 \"사람\"으로 설정되어 있지만 원하는 대로 변경할 수 있습니다.\n",
    "\n",
    "이 접두사를 변경하는 경우 체인에서 사용되는 프롬프트도 이 이름 변경을 반영하도록 변경해야 한다는 점에 유의하세요.\n"
   ]
  },
  {
   "cell_type": "markdown",
   "id": "e337854c",
   "metadata": {},
   "source": [
    "이 함수는 사용자로부터 엑셀 관련 질문(`question`)과 그 질문의 맥락(`context`)을 입력받아, 10년차 엑셀 전문가로서의 답변을 준비하는 템플릿을 생성합니다. `PromptTemplate` 클래스는 입력 변수(`input_variables`)와 템플릿(`template`)을 인자로 받아 인스턴스를 생성합니다. 이 인스턴스는 엑셀 관련 질문에 대한 답변을 생성하는 데 사용될 수 있습니다.\n"
   ]
  },
  {
   "cell_type": "code",
   "execution_count": 25,
   "id": "8ef32a10",
   "metadata": {},
   "outputs": [],
   "source": [
    "template = \"\"\"\n",
    "당신은 10년차 엑셀 전문가 입니다. 아래 대화내용을 보고 질문에 대한 적절한 답변을 해주세요\n",
    "\n",
    "#대화내용\n",
    "{context}\n",
    "----\n",
    "🌱고객: {question}\n",
    "🤖전문가:\"\"\"\n",
    "\n",
    "prompt = PromptTemplate.from_template(template)"
   ]
  },
  {
   "cell_type": "markdown",
   "id": "2fc7005c",
   "metadata": {},
   "source": [
    "`ConversationBufferMemory` 클래스는 대화의 맥락을 관리하는 데 사용됩니다. 이 클래스의 인스턴스를 생성할 때, `memory_key`는 대화의 맥락을 저장하는 키로 사용되며, `human_prefix`와 `ai_prefix`는 각각 사람과 AI가 말하는 부분에 붙는 접두사로 설정됩니다. 이를 통해 대화 내용을 더 명확하게 구분할 수 있습니다.\n"
   ]
  },
  {
   "cell_type": "code",
   "execution_count": 26,
   "id": "c27ce3bb",
   "metadata": {},
   "outputs": [],
   "source": [
    "memory = ConversationBufferMemory(\n",
    "    memory_key=\"context\",  # 대화의 맥락을 저장하는 키\n",
    "    human_prefix=\"🌱고객\",  # 사람이 말하는 부분에 붙는 접두사\n",
    "    ai_prefix=\"🤖전문가\",  # AI가 말하는 부분에 붙는 접두사\n",
    ")"
   ]
  },
  {
   "cell_type": "markdown",
   "id": "7ce9aebd",
   "metadata": {},
   "source": [
    "이 함수는 `ConversationChain` 클래스의 인스턴스를 생성합니다. 여기서 `llm`은 언어 모델을, `prompt`는 사용자 입력을, `memory`는 대화의 이전 상태를 저장하는 데 사용됩니다. `input_key`는 입력 데이터의 키를 지정하며, `verbose`는 로깅의 상세도를 조절합니다. 이 구성을 통해 대화형 AI 시스템에서의 연속적인 대화 관리가 가능해집니다.\n"
   ]
  },
  {
   "cell_type": "code",
   "execution_count": 27,
   "id": "fcb185e2",
   "metadata": {},
   "outputs": [],
   "source": [
    "conversation = ConversationChain(\n",
    "    llm=stream_llm,\n",
    "    prompt=prompt,\n",
    "    memory=memory,\n",
    "    input_key=\"question\",\n",
    "    verbose=False,\n",
    ")"
   ]
  },
  {
   "cell_type": "markdown",
   "id": "224611e1",
   "metadata": {},
   "source": [
    "이 함수는 `conversation.predict`을 사용하여 특정 질문에 대한 대화형 응답을 실행합니다.\n",
    "\n",
    "여기서는 \"엑셀에서 VLOOKUP 함수는 무엇인가요? 간단하게 설명해주세요\"라는 질문을 전달하고 있습니다.\n",
    "\n",
    "`VLOOKUP` 함수에 대한 설명을 요청하는 간단한 예시로, 대화형 AI 또는 챗봇 프로그래밍에서 사용될 수 있습니다.\n"
   ]
  },
  {
   "cell_type": "code",
   "execution_count": 32,
   "id": "da574b36",
   "metadata": {},
   "outputs": [
    {
     "name": "stdout",
     "output_type": "stream",
     "text": [
      "VLOOKUP 함수는 엑셀에서 사용되는 함수로, 특정 값을 검색하여 해당 값에 대응하는 다른 테이블의 값을 가져오는 기능을 제공합니다. 이 함수는 주로 대량의 데이터에서 원하는 정보를 빠르게 찾는데 사용되며, 특정한 열에서 값을 찾아내고, 찾고자 하는 값을 지정하고, 찾을 범위를 지정한 후, 해당 범위에서 찾은 값을 가져올 열의 위치를 지정합니다. 이를 통해 엑셀에서 데이터를 조작하고 분석하는데 유용하게 사용할 수 있습니다. 예를 들어, 주문번호를 입력하면 해당 주문번호에 대한 상세정보를 빠르게 확인할 수 있습니다."
     ]
    }
   ],
   "source": [
    "answer = conversation.predict(\n",
    "    question=\"엑셀에서 VLOOKUP 함수는 무엇인가요? 간단하게 설명해주세요\"\n",
    ")"
   ]
  },
  {
   "cell_type": "code",
   "execution_count": 33,
   "id": "34072357",
   "metadata": {},
   "outputs": [
    {
     "name": "stdout",
     "output_type": "stream",
     "text": [
      "물론입니다! 예를 들어, 아래와 같은 테이블이 있다고 가정해봅시다.\n",
      "\n",
      "A열: 학생 이름\n",
      "B열: 성적\n",
      "\n",
      "|    A     |    B   |\n",
      "|----------|--------|\n",
      "|   John   |   90   |\n",
      "|   Mary   |   85   |\n",
      "|   Tom    |   95   |\n",
      "\n",
      "이제 VLOOKUP 함수를 사용하여 학생 이름을 입력하면 해당 학생의 성적을 가져올 수 있습니다. 예를 들어, D1셀에 학생 이름 'Mary'를 입력하고, D2셀에 다음과 같은 VLOOKUP 함수를 입력해보세요.\n",
      "\n",
      "=VLOOKUP(D1, A1:B3, 2, FALSE)\n",
      "\n",
      "이렇게 하면 D2셀에는 'Mary'에 대응하는 성적 '85'가 표시될 것입니다. 이와 같이 VLOOKUP 함수를 사용하면 쉽게 원하는 정보를 찾아낼 수 있습니다."
     ]
    }
   ],
   "source": [
    "answer = conversation.predict(question=\"쉬운 예제를 보여줄 수 있나요?\")"
   ]
  },
  {
   "cell_type": "markdown",
   "id": "dea62636",
   "metadata": {},
   "source": [
    "`memory.load_memory_variables`를 호출하여 메모리에 저장된 변수들을 로드합니다.(전체 대화내용 출력)\n",
    "\n",
    "호출 시, 빈 딕셔너리 `{}`를 인자로 전달하며, 결과적으로 `'context'` 키에 해당하는 값을 출력합니다.\n",
    "\n",
    "이 과정은 특정 메모리 상태를 확인하거나 디버깅할 때 유용하게 사용될 수 있습니다.\n"
   ]
  },
  {
   "cell_type": "code",
   "execution_count": 34,
   "id": "dfe24eef",
   "metadata": {},
   "outputs": [
    {
     "name": "stdout",
     "output_type": "stream",
     "text": [
      "🌱고객: 엑셀에서 VLOOKUP 함수는 무엇인가요? 간단하게 설명해주세요\n",
      "🤖전문가: VLOOKUP 함수는 엑셀에서 사용되는 함수 중 하나로, 특정한 값을 검색하고 해당 값에 대응하는 다른 테이블의 값을 가져오는 기능을 제공합니다. 이 함수는 주로 대량의 데이터에서 원하는 정보를 빠르게 찾을 때 사용됩니다. VLOOKUP 함수는 주로 특정한 열에서 값을 찾아내는데 사용되며, 찾고자 하는 값을 지정하고 찾을 범위를 지정한 후, 해당 범위에서 찾은 값을 가져올 열의 위치를 지정합니다. 이를 통해 엑셀에서 데이터를 조작하고 분석하는데 유용하게 사용할 수 있습니다. 예를 들어, 주문번호를 입력하면 해당 주문번호에 대한 상세정보를 빠르게 확인할 수 있습니다.\n",
      "🌱고객: 엑셀에서 VLOOKUP 함수는 무엇인가요? 간단하게 설명해주세요\n",
      "🤖전문가: VLOOKUP 함수는 엑셀에서 사용되는 함수 중 하나로, 원하는 값을 찾고 해당 값에 대응하는 다른 테이블의 값을 가져오는 기능을 제공합니다. 이 함수는 대량의 데이터에서 원하는 정보를 빠르게 찾을 때 사용됩니다. VLOOKUP 함수는 주로 특정한 열에서 값을 찾아내는데 사용되며, 찾고자 하는 값을 지정하고 찾을 범위를 지정한 후, 해당 범위에서 찾은 값을 가져올 열의 위치를 지정합니다. 이를 통해 엑셀에서 데이터를 조작하고 분석하는데 유용하게 사용될 수 있습니다. 예를 들어, 제품 코드를 입력하면 해당 제품 코드에 대한 가격을 빠르게 확인할 수 있습니다.\n",
      "🌱고객: 엑셀에서 VLOOKUP 함수는 무엇인가요? 간단하게 설명해주세요\n",
      "🤖전문가: VLOOKUP 함수는 엑셀에서 사용되는 함수 중 하나로, 특정한 값을 검색하고 해당 값에 대응하는 다른 테이블의 값을 가져오는 기능을 제공합니다. 이 함수는 주로 대량의 데이터에서 원하는 정보를 빠르게 찾을 때 사용됩니다. VLOOKUP 함수는 주로 특정한 열에서 값을 찾아내는데 사용되며, 찾고자 하는 값을 지정하고 찾을 범위를 지정한 후, 해당 범위에서 찾은 값을 가져올 열의 위치를 지정합니다. 이를 통해 엑셀에서 데이터를 조작하고 분석하는데 유용하게 사용할 수 있습니다. 예를 들어, 주문번호를 입력하면 해당 주문번호에 대한 상세정보를 빠르게 확인할 수 있습니다.\n",
      "🌱고객: 쉬운 예제를 보여줄 수 있나요?\n",
      "🤖전문가: 물론입니다! 예를 들어, 아래와 같은 테이블이 있다고 가정해봅시다.\n",
      "\n",
      "A열: 제품 코드\n",
      "B열: 제품명\n",
      "C열: 가격\n",
      "\n",
      "|    A    |    B    |   C   |\n",
      "|---------|---------|-------|\n",
      "|   001   |  사과  |  1000 |\n",
      "|   002   |  바나나 |  2000 |\n",
      "|   003   |  오렌지 |  1500 |\n",
      "\n",
      "이제 VLOOKUP 함수를 사용하여 제품 코드를 입력하면 해당 제품 코드에 대한 가격을 가져올 수 있습니다. 예를 들어, D1셀에 제품 코드 '002'를 입력하고, D2셀에 다음과 같은 VLOOKUP 함수를 입력해보세요.\n",
      "\n",
      "=VLOOKUP(D1, A1:C3, 3, FALSE)\n",
      "\n",
      "이렇게 하면 D2셀에는 '002'에 대응하는 가격 '2000'이 표시될 것입니다. 이와 같이 VLOOKUP 함수를 사용하면 쉽게 원하는 정보를 찾아낼 수 있습니다.\n",
      "🌱고객: 엑셀에서 VLOOKUP 함수는 무엇인가요? 간단하게 설명해주세요\n",
      "🤖전문가: VLOOKUP 함수는 엑셀에서 사용되는 함수로, 특정 값을 검색하여 해당 값에 대응하는 다른 테이블의 값을 가져오는 기능을 제공합니다. 이 함수는 주로 대량의 데이터에서 원하는 정보를 빠르게 찾는데 사용되며, 특정한 열에서 값을 찾아내고, 찾고자 하는 값을 지정하고, 찾을 범위를 지정한 후, 해당 범위에서 찾은 값을 가져올 열의 위치를 지정합니다. 이를 통해 엑셀에서 데이터를 조작하고 분석하는데 유용하게 사용할 수 있습니다. 예를 들어, 주문번호를 입력하면 해당 주문번호에 대한 상세정보를 빠르게 확인할 수 있습니다.\n",
      "🌱고객: 쉬운 예제를 보여줄 수 있나요?\n",
      "🤖전문가: 물론입니다! 예를 들어, 아래와 같은 테이블이 있다고 가정해봅시다.\n",
      "\n",
      "A열: 학생 이름\n",
      "B열: 성적\n",
      "\n",
      "|    A     |    B   |\n",
      "|----------|--------|\n",
      "|   John   |   90   |\n",
      "|   Mary   |   85   |\n",
      "|   Tom    |   95   |\n",
      "\n",
      "이제 VLOOKUP 함수를 사용하여 학생 이름을 입력하면 해당 학생의 성적을 가져올 수 있습니다. 예를 들어, D1셀에 학생 이름 'Mary'를 입력하고, D2셀에 다음과 같은 VLOOKUP 함수를 입력해보세요.\n",
      "\n",
      "=VLOOKUP(D1, A1:B3, 2, FALSE)\n",
      "\n",
      "이렇게 하면 D2셀에는 'Mary'에 대응하는 성적 '85'가 표시될 것입니다. 이와 같이 VLOOKUP 함수를 사용하면 쉽게 원하는 정보를 찾아낼 수 있습니다.\n"
     ]
    }
   ],
   "source": [
    "print(\n",
    "    memory.load_memory_variables({})[\"context\"]\n",
    ")  # 빈 딕셔너리를 인자로 받아 메모리 변수를 로드하고, 'context' 키에 해당하는 값을 출력합니다."
   ]
  }
 ],
 "metadata": {
  "kernelspec": {
   "display_name": "py-test",
   "language": "python",
   "name": "python3"
  },
  "language_info": {
   "codemirror_mode": {
    "name": "ipython",
    "version": 3
   },
   "file_extension": ".py",
   "mimetype": "text/x-python",
   "name": "python",
   "nbconvert_exporter": "python",
   "pygments_lexer": "ipython3",
   "version": "3.10.13"
  }
 },
 "nbformat": 4,
 "nbformat_minor": 5
}
