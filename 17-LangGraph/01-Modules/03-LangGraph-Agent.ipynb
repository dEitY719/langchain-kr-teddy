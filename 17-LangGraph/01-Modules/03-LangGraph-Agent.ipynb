{
 "cells": [
  {
   "cell_type": "markdown",
   "id": "eec680f5",
   "metadata": {},
   "source": [
    "# LangGraph 활용 Agent 구축\n",
    "\n",
    "이번 튜토리얼에서는 웹 검색 도구를 통해 챗봇에 웹 검색 기능수행하는 Agent 을 추가합니다.\n",
    "\n",
    "LLM 에 도구를 바인딩하여 LLM 에 입력된 요청에 따라 필요시 웹 검색 도구(Tool)를 호출하는 Agent 을 구축합니다.\n",
    "\n",
    "뿐만아니라, 조건부 엣지를 통해 도구 호출 여부에 따라 다른 노드로 라우팅하는 방법도 함께 배워봅니다."
   ]
  },
  {
   "cell_type": "code",
   "execution_count": 1,
   "id": "de9d9d8d",
   "metadata": {},
   "outputs": [
    {
     "data": {
      "text/plain": [
       "True"
      ]
     },
     "execution_count": 1,
     "metadata": {},
     "output_type": "execute_result"
    }
   ],
   "source": [
    "# API 키를 환경변수로 관리하기 위한 설정 파일\n",
    "from dotenv import load_dotenv\n",
    "\n",
    "# API 키 정보 로드\n",
    "load_dotenv()"
   ]
  },
  {
   "cell_type": "code",
   "execution_count": 2,
   "id": "6b5c6228",
   "metadata": {},
   "outputs": [
    {
     "name": "stdout",
     "output_type": "stream",
     "text": [
      "LangSmith 추적을 시작합니다.\n",
      "[프로젝트명]\n",
      "CH17-LangGraph-Modules\n"
     ]
    }
   ],
   "source": [
    "# LangSmith 추적을 설정합니다. https://smith.langchain.com\n",
    "# !pip install -qU langchain-teddynote\n",
    "from langchain_teddynote import logging\n",
    "\n",
    "# 프로젝트 이름을 입력합니다.\n",
    "logging.langsmith(\"CH17-LangGraph-Modules\")"
   ]
  },
  {
   "cell_type": "markdown",
   "id": "9d5376bf",
   "metadata": {},
   "source": [
    "## 도구(Tool) 사용하기\n",
    "\n",
    "**참고**\n",
    "\n",
    "- [도구(Tools)](https://wikidocs.net/262582)\n",
    "\n",
    "챗봇이 \"기억\"에서 답변할 수 없는 질문을 처리하기 위해 웹 검색 도구를 통합할 것입니다. 이 도구를 사용하여 관련 정보를 찾아 더 나은 응답을 제공할 수 있습니다.\n",
    "\n",
    "### 검색 API 도구\n",
    "\n",
    "Tavily 검색 API를 활용하여 검색 기능을 구현하는 도구입니다. 이 도구는 두 가지 주요 클래스를 제공합니다: `TavilySearchResults`와 `TavilyAnswer`.\n",
    "\n",
    "**API 키 발급 주소**\n",
    "- https://app.tavily.com/\n",
    "\n",
    "발급한 API 키를 환경변수에 설정합니다.\n",
    "\n",
    "`.env` 파일에 아래와 같이 설정합니다.\n",
    "\n",
    "```\n",
    "TAVILY_API_KEY=tvly-abcdefghijklmnopqrstuvwxyz\n",
    "```\n",
    "\n",
    "### TavilySearchResults\n",
    "\n",
    "**설명**\n",
    "- Tavily 검색 API를 쿼리하고 JSON 형식의 결과를 반환합니다.\n",
    "- 포괄적이고 정확하며 신뢰할 수 있는 결과에 최적화된 검색 엔진입니다.\n",
    "- 현재 이벤트에 대한 질문에 답변할 때 유용합니다."
   ]
  },
  {
   "cell_type": "markdown",
   "id": "81cbcea8",
   "metadata": {},
   "source": [
    "다음으로 웹 검색 도구인 `TavilySearchResults`를 생성합니다."
   ]
  },
  {
   "cell_type": "code",
   "execution_count": 4,
   "id": "163da255",
   "metadata": {},
   "outputs": [],
   "source": [
    "# !pip install -U langchain-teddynote"
   ]
  },
  {
   "cell_type": "code",
   "execution_count": 3,
   "id": "c04fccdb",
   "metadata": {},
   "outputs": [
    {
     "name": "stdout",
     "output_type": "stream",
     "text": [
      "[\"<document><title>랭체인 LangChain Expression Language(LCEL)과 runnable</title><url>https://elyire.github.io/posts/LCEL과-runnable-블로그/</url><content>[2] 테디노트, CH01-04. LCEL 고급, 랭체인LangChain 노트-LangChain 한국어 튜토리얼🇰🇷 [3] 테디노트, CH01-05. Runnable, 랭체인LangChain 노트-LangChain 한국어 튜토리얼🇰🇷. 본 포스팅은 LangChain 공식 문서 및 LangChain 한국어 튜토리얼 등을 참고하여 작성되었습니다. Appendix</content><raw>interActIon_\\nPrompt First\\n랭체인 LangChain Expression Language(LCEL)과 runnable\\nLangChain Expression Language(LCEL)과 runnable(러너블) 요소\\nLangChain(랭체인)은 GPT나 Claude와 같은 LLM(Large Language Model) 기반 애플리케이션 개발을 위한 프레임워크다. 이름에 붙어 있는 ‘Chain’이라는 단어에서 유추할 수 있듯이 이 프레임워크에서는 LLM 애플리케이션 개발에 필요한 구성 요소들을 다양하게 연결 혹은 엮을 수 있는 도구들을 제공한다.\\n최근 LangChain이 대대적으로 업데이트되면서 LangChain Expression Language(LCEL)라는 개념이 도입되었는데, 간단히 말해 이는 LLM 애플리케이션 구성 요소들을 쉽고 유연하게 조합할 수 있도록 해 주는 표현식 체계라고 할 수 있다.\\n예를 들어 GPT-3.5 모델을 이용하여 LLM 애플리케이션을 구현할 때 반드시 필요한 기본 구성요소를 꼽자면 1) LLM 자체(GPT-3.5 모델)와 2) LLM의 출력을 가이드하기 위한 프롬프트를 들 수 있다. LCEL을 이용하면 이 시스템을 다음과 같이 간단히 chain으로 표현할 수 있다.\\n이 표현식에서 파이프 기호(|)는 두 구성 요소가 연결되어 있다는 것을 의미한다. 첫번째 요소의 출력이 두번째 요소의 입력으로 들어가는 식으로 연결된다. 이렇게 파이프로 연결될 수 있는 구성요소를 runnable이라고 부른다. 쉽게 말해 runnable은 입력을 받아 출력을 생성할 수 있는 ‘실행가능’한 요소라고 할 수 있다.\\nrunnable은 Runnable 프로토콜을 따라 구현되어 있어야 하며, 기본적으로 invoke, batch, stream 등과 같은 메서드들을 정의하고 있어야 한다. 예를 들어, invoke 메서드는 입력을 받아 해당 구성 요소를 실행하고 출력을 반환하는 역할을 한다 (runnable로 구성된 chain 역시 runnable이며 이러한 메서드들을 적용할 수 있다).\\n파이프 기호(|)를 이용한 표현방식은 runnable 구성 요소들의 chaining을 직관적으로 파악할 수 있도록 해 준다. 때문에 이는 LangChain의 기본 아이디어에 매우 잘 부합하는 설계 원칙이라고 볼 수 있다.\\nPrompt as a runnable\\n재미있는 것은 일반적으로 텍스트 덩어리인 Prompt를 LCEL에서는 runnable 구성요소(component)로 취급한다는 것이다. 즉, 기존 LangChain의 prompt template 개념을 이용함으로써, 텍스트 덩어리인 prompt를 입력과 출력이 있는 요소로 변신시켜 chain의 구성요소인 runnable로 활용할 수 있게 한 것이다.\\n다음의 예시 코드를 살펴보자. template는 기본적으로 문자열이지만 {topic}과 {question}이라는 두 변수를 갖는 템플릿의 형태를 갖는다. PromptTemplate.from_template()를 사용하여 template로부터 prompt를 생성하면, prompt는 PromptTemplate의 인스턴스가 된다. prompt를 출력해보면 PromptTemplate 객체의 정보를 확인할 수 있는데, input_variables에는 템플릿에서 사용된 변수들(['question', 'topic'])이 나열되고, template에는 원래의 템플릿 문자열이 그대로 들어 있다.\\n이렇게 생성된 prompt 인스턴스는 runnable이 된다. 즉, 다음과 같이 invoke 메서드를 통해 입력을 지정하여 이 prompt라는 runnable을 ‘실행’하면 템플릿의 {topic}과 {question} 자리에 각각 “스포츠”와 “2002년 월드컵 개최국은 어디인가요?”가 들어간 최종 프롬프트가 PromptValue의 인스턴스 형태로 출력되어 나온다.\\nprompt를 ‘실행’함으로써 얻은 출력은 LLM의 입력으로 전달되어 응답 생성을 지시하는 프롬프트 역할을 하게 된다. 이를 통해 이 chain은 최종적으로 우리가 원하는 LLM의 응답을 얻을 수 있게 해준다. 전체 코드는 다음과 같다.\\nRetriever as a runnable\\nLCEL에서는 RAG(Retrieval Augmented Generation, 검색증강생성)에 사용되는 Retriever 또한 runnable 요소이며, 이 점을 활용하면 LangChain을 이용한 RAG 구현 중간 단계에서 retriever가 입력 쿼리와 관련된 문서들을 잘 검색하여 가져오는지를 체크해 볼 수 있다. Retriever는 입력으로 사용자 쿼리인 단일 문자열을 받고, 검색해 온 Document 리스트를 출력한다.\\n하나의 쿼리에 대해서 retrieval을 테스트할 때에는 invoke 메서드를, 여러 개의 쿼리에 대해서는 batch 메서드를 사용하면 된다. retriever 객체를 생성하는 예시 코드는 Appendix를 참고하자.\\nConcluding Remarks\\n이번 포스팅에서는 LangChain 프레임워크의 LCEL과 runnable의 기초적인 개념에 대해 알아보았다. LCEL에 대한 좀 더 자세한 설명[1], runnable 요소와 이들의 입/출력 타입[2] , 다양한 형태의 chain 구성과 병렬 처리 등을 가능하게 해주는 Runnable 클래스들[3]에 대해서는 각각 랭체인LangChain 노트-LangChain 한국어 튜토리얼🇰🇷을 참고하면 되겠다. 특히 사용자 정의 함수를 runnable로 만들어줌으로써 chain 구성에 있어 유연성과 확장성을 부여할 수 있는 RunnableLambda 등을 적재적소에 활용한다면 LLM 애플리케이션 개발의 지평을 넓히는데 도움이 될 것이다.\\nReferences\\n[1] 테디노트, CH01-03. LangChain Expression Language(LCEL), 랭체인LangChain 노트-LangChain 한국어 튜토리얼🇰🇷\\n[2] 테디노트, CH01-04. LCEL 고급, 랭체인LangChain 노트-LangChain 한국어 튜토리얼🇰🇷\\n[3] 테디노트, CH01-05. Runnable, 랭체인LangChain 노트-LangChain 한국어 튜토리얼🇰🇷\\n본 포스팅은 LangChain 공식 문서 및 LangChain 한국어 튜토리얼 등을 참고하여 작성되었습니다.\\nAppendix\\nRecently Updated\\nTrending Tags\\nContents\\nFurther Reading\\n본 포스팅에 사용된 코드는 (주)인공지능팩토리 대표이사이자 마이크로소프트 지역 디렉터(Microsoft Regional Director)이신 김태영님의 “[랭체인러닝데이] 문서로더부터 벡터스토어까지 (랭체인없이) 쌩 파이썬으로 만들어보기” 유튜브 강의 영상을 바탕으로 작성되었습니다. 해당 코드에 대한 모든 권리는 김태영님께 있음을 밝힙니다. 강의 영...\\nYouTube의 LangChain 채널에서는 RAG from Scratch 시리즈가 연재되고 있습니다. 본 포스팅은 LangChain의 X 계정의 소개글을 바탕으로 RAG from Scratch 각 파트가 어떤 내용을 다루고 있는지에 대한 정보를 제공합니다. X 계정의 소개글을 그대로 직역하지 않고, 독자가 이해하기 쉽도록 원문을 의역하고 필요하다면 ...\\nPart 10 Routing 이번 영상에서는 쿼리 라우팅(Query Routing)에 초점을 맞춰 보겠습니다. 🔧 문제(Problem): 데이터 검색 시스템을 구축할 때, 우리는 종종 벡터 데이터베이스, SQL 데이터베이스 등 다양한 데이터 저장소와 검색에 사용할 프롬프트를 사용자 질의에 따라 선택해야 하는 문제에 직면합니다. 이는 모든 유형의 ...\\n구분기호(Delimiter)를 활용한 프롬프트 작성 기법(Prompt Formatting) - 정확한 지시사항 전달의 핵심\\n프롬프트 체인(Prompt Chain)을 이용한 검색이후(Post-Retrieval) 프로세스 구현(for RAG)\\n© 2024 Samuel Yang. Some rights reserved.\\nUsing the Chirpy theme for Jekyll.\\nTrending Tags\\nA new version of content is available.</raw></document>\", \"<document><title>랭체인(langchain) + PDF 문서요약, Map-Reduce (7) - 테디노트</title><url>https://teddylee777.github.io/langchain/langchain-tutorial-07/</url><content>🔥알림🔥 ① 테디노트 유튜브 - 구경하러 가기! ② LangChain 한국어 튜토리얼 바로가기 👀 ③ 랭체인 노트 무료 전자책(wikidocs) 바로가기 🙌 ④ RAG 비법노트 LangChain 강의오픈 바로가기 🙌 ⑤ 서울대 PyTorch 딥러닝 강의 바로가기 🙌. 랭체인(langchain) + PDF 문서요약, Map-Reduce (7)</content><raw>🔥알림🔥\\n① 테디노트 유튜브 -\\n구경하러 가기!\\n② LangChain 한국어 튜토리얼\\n바로가기 👀\\n③ 랭체인 노트 무료 전자책(wikidocs)\\n바로가기 🙌\\n랭체인(langchain) + PDF 문서요약, Map-Reduce (7)\\n2023년 10월 06일\\n11 분 소요\\n이번 포스팅에서는 랭체인(LangChain) 을 활용하여 PDF 문서를 로드하고, 문서의 내용을 요약 하는 방법에 대해 알아보겠습니다.\\n이번 튜토리얼에서는 langchain 의 PyPDFLoader 를 활용한 PDF 문서의 텍스트 데이터를 불러오는 방법에 대해 다룹니다.\\n또한, 긴 PDF 문서를 쪼개서 요약 및 통합하는 Map-Reduce 방식의 요약 방식에 대해 깊게 다루도록 하겠습니다. Map-Reduce 방식은 LLM의 제한적인 토큰 사이즈를 입력으로 받는 구조적 문제를 해결하는 방법론이기 때문에 비단 요약 뿐만아니라 그 밖에 확장된 테스크에도 적용이 가능합니다.\\n✔️ (이전글) LangChain 튜토리얼\\n🌱 환경설정\\n🔥 PDF 기반 문서요약\\n✔️ 문서요약 방식\\nPDF 의 문서를 요약하는 방식에는 문서의 크기에 따라 2가지 방식으로 나누어 볼 수 있습니다.\\nStuff: 전체 문서의 내용을 모두 프롬프트의 입력으로 대입합니다. 전체 문서의 내용이 LLM 모델의 최대토큰 허용 크기보다 작은 경우, 이 방식을 선택할 수 있습니다.\\nMap-Reduce: 전체 문서의 내용을 쪼개서 여러의 부분 세트로 나눈 뒤, 나눈 내용을 프롬프트의 입력을 나누어 대입합니다. 예를 들어, PDF 문서가 100장으로 구성이 되어 있고, 100장 분량의 내용을 프롬프트의 입력으로 한 번에 넣을 수 없으므로, 20장씩 5개의 세트로 나눈 뒤 5번의 프롬프트 입력 후 결과로 나온 5개의 요약본을 통합하는 작업을 진행합니다.\\nStuff 방식은 코드가 간결하지만, 현실적으로 잘 사용하게 되지 않습니다. 일반적인 PDF 문서의 전체 길이가 LLM 모델의 최대토큰 허용 크기보다 큰 경우가 대다수의 경우이기 때문입니다. 따라서, 이번 튜토리얼에서는 Map-Reduce 방식에 대해 자세히 다루며, Stuff 방식은 여기 에서 참고하실 수 있습니다.\\n📍 흐름\\n흐름도\\n위의 흐름도를 보면서 PDF 문서를 요약하는 흐름에 대해서 정리해 보겠습니다.\\n① 문서 로드\\n먼저, langchain 의 PDF 문서의 로드를 도와주는 PDF Loader 를 활용하여 문서를 로드합니다. langchain에서는 다양한 PDF Loader 를 제공하며, 대표적인 예시로는 PyPDFLoader, PyMuPDFLoader, UnstructuredPDFLoader 등이 있습니다.\\n여기서 문서를 로드한다는 의미는 PDF 문서의 내용을 긁어와 String 형태로 가져오는 것을 의미하며 정확하게는 Document 객체안에 page_content 속성으로 로드합니다. PDF 로드시 각종 메타데이터로 함께 로드합니다.\\nPyPDFLoader 사용하여 PDF를 로드하고, 각 문서가 페이지 내용과 페이지 번호를 포함한 메타데이터를 포함하는 문서의 배열로 만듭니다.\\n② 문서 분할\\n문서의 내용이 긴 경우, 문서 전체의 내용을 프롬프트의 입력으로 넣을 수 없으므로 문서를 분할하는 작업을 선행합니다.\\n문서 분할은 토큰갯수에 따라 분할할 수 있으며, 대표적으로 많이 사용되는 모듈은 CharacterTextSplitter, RecursiveCharacterTextSplitter 등이 있습니다.\\n아래는 가장 단순한 방법인 CharacterTextSplitter 를 활용하여 문서를 분할한 예시 입니다.\\n이 방법은 문자(기본적으로 “\\\\n\\\\n”)를 기반으로 분할하며, 문자의 수(chunk_size)로 길이를 측정합니다.\\n텍스트의 분할 방식: 단일 문자 기준\\nchunk_size 의 측정 방식: 문자의 수로 측정\\n③ 분할된 각 문서에 대한 요약 실행\\n분할된 문서에 요약(summarization) 과 같은 테스크를 수행하는 것을 Map, 각 문서의 요약본을 하나로 통합하는 작업을 Reduce 라고 부릅니다. 즉, Map-Reduce 방식은 문서를 분할 - 요약 - 통합 을 수행하게 됩니다.\\n그 중 Map 단계에서 수행할 프롬프트를 템플릿으로 정의하고 chain 을 생성해 보겠습니다.\\n④ 각 문서의 요약본에 대한 통합\\nReduce 단계는 이전 단계인 Map 단계에서 분할된 문서에 대한 요약본을 통합처리 하는 역할을 수행합니다.\\nReduce 단계에서는 통합처리시 필요한 프롬프트를 정의합니다. 통합처리시 단순하게 전체 요약본 테스크를 수행할 수 도 있고, 요약본을 토대로 보고서, 이메일, 뉴스레터, 독서감상문 등의 다양한 테스크를 수행하도록 할 수 있습니다.\\n아래는 통합 요약본을 작성하는 프롬프트 예시입니다.\\ncombine_documents_chain 은 Reduce 작업을 수행하는 체인입니다.\\nMap 단계에서 완성된 분할된 요약본이 StuffDocumentsChain 의 doc_summaries 입력으로 주입됩니다.\\nReduceDocumentsChain 은 주입된 입력 값을 통합하는 작업을 수행합니다.\\n⑤ 통합체인(Combined Chain) 생성\\n통합체인 생성 단계에서는 이전에 정의한 Map 체인과 Reduce 체인을 연결하고, MapReduceDocumentsChain 객체를 통해 통합하는 단계입니다.\\n🔥 전체코드\\n이전 단계의 결과물인 문서의 통합요약본을 바탕으로 다음과 같은 추가 Task를 수행할 수 있습니다. 아래는 독서감상문 작성의 예시입니다.\\n태그:\\nChatGPT,\\nChatOpenAI,\\nGPT3.5,\\nGPT4,\\nlangchain,\\nlangchain tutorial,\\nOpenAI,\\nPDF,\\n뉴스레터,\\n독서감상문,\\n랭체인,\\n랭체인 튜토리얼,\\n문서요약,\\n크롤링,\\n회의록\\n카테고리:\\nlangchain\\n업데이트: 2023년 10월 06일\\n참고\\npoetry 의 거의 모든것 (튜토리얼)\\n2024년 03월 30일\\n5 분 소요\\nPython 개발에 있어서 poetry는 매우 강력한 도구로, 프로젝트의 의존성 관리와 패키지 배포를 간소화하는 데 큰 도움을 줍니다. 지금부터 poetry 활용 튜토리얼을 살펴 보겠습니다.\\nLangGraph Retrieval Agent를 활용한 동적 문서 검색 및 처리\\n2024년 03월 06일\\n10 분 소요\\nLangGraph Retrieval Agent는 언어 처리, AI 모델 통합, 데이터베이스 관리, 그래프 기반 데이터 처리 등 다양한 기능을 제공하여 언어 기반 AI 애플리케이션 개발에 필수적인 도구입니다.\\n[Assistants API] Code Interpreter, Retrieval, Functions 활용법\\n2024년 02월 13일\\n35 분 소요\\nOpenAI의 새로운 Assistants API는 대화와 더불어 강력한 도구 접근성을 제공합니다. 본 튜토리얼은 OpenAI Assistants API를 활용하는 내용을 다룹니다. 특히, Assistant API 가 제공하는 도구인 Code Interpreter, Retrieval...\\n[LangChain] 에이전트(Agent)와 도구(tools)를 활용한 지능형 검색 시스템 구축 가이드\\n2024년 02월 09일\\n41 분 소요\\n이 글에서는 LangChain 의 Agent 프레임워크를 활용하여 복잡한 검색과 데이터 처리 작업을 수행하는 방법을 소개합니다. LangSmith 를 사용하여 Agent의 추론 단계를 추적합니다. Agent가 활용할 검색 도구(Tavily Search), PDF 기반 검색 리트리버...</raw></document>\", \"<document><title> - LangChain 한국어 튜토리얼 - WikiDocs</title><url>https://wikidocs.net/book/14314</url><content>도서 증정 이벤트 !!  - LangChain 한국어 튜토리얼🇰🇷. 추천 은 공유할 수 있는 무료 전자책을 집필하는데 정말 큰 힘이 됩니다. \\\\\\\"추천\\\\\\\" 한 번씩만 부탁 드리겠습니다🙏🙏. 랭체인 한국어 튜토리얼 강의 패스트캠퍼스 - RAG 비법노트. 랭체인</content></document>\"]\n"
     ]
    }
   ],
   "source": [
    "from langchain_teddynote.tools.tavily import TavilySearch\n",
    "\n",
    "# 검색 도구 생성\n",
    "tool = TavilySearch(max_results=3)\n",
    "\n",
    "# 도구 목록에 추가\n",
    "tools = [tool]\n",
    "\n",
    "# 도구 실행\n",
    "print(tool.invoke(\"테디노트 랭체인 튜토리얼\"))"
   ]
  },
  {
   "cell_type": "markdown",
   "id": "b51b6ca3",
   "metadata": {},
   "source": [
    "결과는 챗봇이 질문에 답할 수 있도록 사용할 수 있는 페이지 요약입니다.\n",
    "\n",
    "이번에는 LLM에 `bind_tools`를 추가하여 **LLM + 도구** 를 구성합니다. "
   ]
  },
  {
   "cell_type": "code",
   "execution_count": 4,
   "id": "d6166da5",
   "metadata": {},
   "outputs": [],
   "source": [
    "from typing import Annotated\n",
    "from typing_extensions import TypedDict\n",
    "from langgraph.graph.message import add_messages\n",
    "\n",
    "\n",
    "# State 정의\n",
    "class State(TypedDict):\n",
    "    # list 타입에 add_messages 적용(list 에 message 추가)\n",
    "    messages: Annotated[list, add_messages]"
   ]
  },
  {
   "cell_type": "markdown",
   "id": "efe9e3c7",
   "metadata": {},
   "source": [
    "LLM 을 정의하고 도구를 바인딩합니다."
   ]
  },
  {
   "cell_type": "code",
   "execution_count": 5,
   "id": "8c65ea60",
   "metadata": {},
   "outputs": [],
   "source": [
    "from langchain_openai import ChatOpenAI\n",
    "\n",
    "# LLM 초기화\n",
    "llm = ChatOpenAI(model=\"gpt-4o-mini\")\n",
    "\n",
    "# LLM 에 도구 바인딩\n",
    "llm_with_tools = llm.bind_tools(tools)"
   ]
  },
  {
   "cell_type": "markdown",
   "id": "cc0c2841",
   "metadata": {},
   "source": [
    "노드를 정의합니다."
   ]
  },
  {
   "cell_type": "code",
   "execution_count": 6,
   "id": "028d36e5",
   "metadata": {},
   "outputs": [],
   "source": [
    "# 노드 함수 정의\n",
    "def chatbot(state: State):\n",
    "    answer = llm_with_tools.invoke(state[\"messages\"])\n",
    "    # 메시지 목록 반환\n",
    "    return {\"messages\": [answer]}  # 자동으로 add_messages 적용"
   ]
  },
  {
   "cell_type": "markdown",
   "id": "d5c798e0",
   "metadata": {},
   "source": [
    "그래프 생성 및 노드를 추가합니다."
   ]
  },
  {
   "cell_type": "code",
   "execution_count": 7,
   "id": "8e8d16a3",
   "metadata": {},
   "outputs": [
    {
     "data": {
      "text/plain": [
       "<langgraph.graph.state.StateGraph at 0x17f4a5b90>"
      ]
     },
     "execution_count": 7,
     "metadata": {},
     "output_type": "execute_result"
    }
   ],
   "source": [
    "from langgraph.graph import StateGraph\n",
    "\n",
    "# 상태 그래프 초기화\n",
    "graph_builder = StateGraph(State)\n",
    "\n",
    "# 노드 추가\n",
    "graph_builder.add_node(\"chatbot\", chatbot)"
   ]
  },
  {
   "cell_type": "markdown",
   "id": "a034ee74",
   "metadata": {},
   "source": [
    "## 도구 노드(Tool Node)"
   ]
  },
  {
   "cell_type": "markdown",
   "id": "89b08e3f",
   "metadata": {},
   "source": [
    "다음으로, 도구가 호출될 경우 실제로 실행할 수 있는 함수를 만들어야 합니다. 이를 위해 새로운 노드에 도구를 추가합니다.\n",
    "\n",
    "가장 최근의 메시지를 확인하고 메시지에 `tool_calls`가 포함되어 있으면 도구를 호출하는 `BasicToolNode`를 구현합니다. \n",
    "\n",
    "지금은 직접 구현하지만, 나중에는 LangGraph의 pre-built 되어있는 [ToolNode](https://langchain-ai.github.io/langgraph/reference/prebuilt/#langgraph.prebuilt.tool_node.ToolNode) 로 대체할 수 있습니다."
   ]
  },
  {
   "cell_type": "code",
   "execution_count": 8,
   "id": "f1437765",
   "metadata": {},
   "outputs": [
    {
     "data": {
      "text/plain": [
       "<langgraph.graph.state.StateGraph at 0x17f4a5b90>"
      ]
     },
     "execution_count": 8,
     "metadata": {},
     "output_type": "execute_result"
    }
   ],
   "source": [
    "import json\n",
    "from langchain_core.messages import ToolMessage\n",
    "\n",
    "\n",
    "class BasicToolNode:\n",
    "    \"\"\"Run tools requested in the last AIMessage node\"\"\"\n",
    "\n",
    "    def __init__(self, tools: list) -> None:\n",
    "        # 도구 리스트\n",
    "        self.tools_list = {tool.name: tool for tool in tools}\n",
    "\n",
    "    def __call__(self, inputs: dict):\n",
    "        # 메시지가 존재할 경우 가장 최근 메시지 1개 추출\n",
    "        if messages := inputs.get(\"messages\", []):\n",
    "            message = messages[-1]\n",
    "        else:\n",
    "            raise ValueError(\"No message found in input\")\n",
    "\n",
    "        # 도구 호출 결과\n",
    "        outputs = []\n",
    "        for tool_call in message.tool_calls:\n",
    "            # 도구 호출 후 결과 저장\n",
    "            tool_result = self.tools_list[tool_call[\"name\"]].invoke(tool_call[\"args\"])\n",
    "            outputs.append(\n",
    "                # 도구 호출 결과를 메시지로 저장\n",
    "                ToolMessage(\n",
    "                    content=json.dumps(\n",
    "                        tool_result, ensure_ascii=False\n",
    "                    ),  # 도구 호출 결과를 문자열로 변환\n",
    "                    name=tool_call[\"name\"],\n",
    "                    tool_call_id=tool_call[\"id\"],\n",
    "                )\n",
    "            )\n",
    "\n",
    "        return {\"messages\": outputs}\n",
    "\n",
    "\n",
    "# 도구 노드 생성\n",
    "tool_node = BasicToolNode(tools=[tool])\n",
    "\n",
    "# 그래프에 도구 노드 추가\n",
    "graph_builder.add_node(\"tools\", tool_node)"
   ]
  },
  {
   "cell_type": "markdown",
   "id": "de52ecda",
   "metadata": {},
   "source": [
    "## 조건부 엣지(Conditional Edge)\n",
    "\n",
    "도구 노드가 추가되면 `conditional_edges`를 정의할 수 있습니다.\n",
    "\n",
    "**Edges**는 한 노드에서 다음 노드로 제어 흐름을 라우팅합니다. \n",
    "\n",
    "**Conditional edges**는 일반적으로 \"if\" 문을 포함하여 현재 그래프 상태에 따라 다른 노드로 라우팅합니다. 이러한 함수는 현재 그래프 `state`를 받아 다음에 호출할 Node 를 나타내는 **문자열 또는 문자열 목록** 을 반환합니다.\n",
    "\n",
    "아래에서는 `route_tools`라는 라우터 함수를 정의하여 챗봇의 출력에서 `tool_calls`를 확인합니다. \n",
    "\n",
    "이 함수를 `add_conditional_edges`를 호출하여 그래프에 제공하면, `chatbot` 노드가 완료될 때마다 이 함수를 확인하여 다음으로 어디로 갈지 결정합니다.\n",
    "\n",
    "조건은 도구 호출이 있으면 `tools`로, 없으면 `END`로 라우팅됩니다.\n",
    "\n",
    "**참고**\n",
    "\n",
    "- langgraph 에 pre-built 되어 있는 [tools_condition](https://langchain-ai.github.io/langgraph/reference/prebuilt/#tools_condition) 으로 대체할 수 있습니다."
   ]
  },
  {
   "cell_type": "markdown",
   "id": "f758bf4f",
   "metadata": {},
   "source": [
    "### `add_conditional_edges`\n",
    "\n",
    "![add_conditional_edges](./image/langgraph-02.png)\n",
    "\n",
    "`add_conditional_edges` 메서드는 시작 노드에서 여러 대상 노드로의 조건부 엣지를 추가합니다.\n",
    "\n",
    "**매개변수**\n",
    "- `source` (str): 시작 노드. 이 노드를 나갈 때 조건부 엣지가 실행됩니다.\n",
    "- `path` (Union[Callable, Runnable]): 다음 노드를 결정하는 호출 가능한 객체 또는 Runnable. `path_map`을 지정하지 않으면 하나 이상의 노드를 반환해야 합니다. `END`를 반환하면 그래프 실행이 중지됩니다.\n",
    "- `path_map` (Optional[Union[dict[Hashable, str], list[str]]]): 경로와 노드 이름 간의 매핑. 생략하면 `path`가 반환하는 값이 노드 이름이어야 합니다.\n",
    "- `then` (Optional[str]): `path`로 선택된 노드 실행 후 실행할 노드의 이름.\n",
    "\n",
    "**반환값**\n",
    "- Self: 메서드 체이닝을 위해 자기 자신을 반환합니다.\n",
    "\n",
    "**주요 기능**\n",
    "1. 조건부 엣지를 그래프에 추가합니다.\n",
    "2. `path_map`을 딕셔너리로 변환합니다.\n",
    "3. `path` 함수의 반환 타입을 분석하여 자동으로 `path_map`을 생성할 수 있습니다.\n",
    "4. 조건부 분기를 그래프에 저장합니다.\n",
    "\n",
    "**참고**\n",
    "- 이미 컴파일된 그래프에 엣지를 추가하면 경고 메시지가 출력됩니다.\n",
    "- `path` 함수의 반환 값에 대한 타입 힌트가 없거나 `path_map`이 제공되지 않으면, 그래프 시각화 시 해당 엣지가 그래프의 모든 노드로 전환될 수 있다고 가정합니다.\n",
    "- 동일한 이름의 분기가 이미 존재하는 경우 `ValueError`가 발생합니다."
   ]
  },
  {
   "cell_type": "code",
   "execution_count": 9,
   "id": "6a964c74",
   "metadata": {},
   "outputs": [],
   "source": [
    "from langgraph.graph import START, END\n",
    "\n",
    "\n",
    "def route_tools(\n",
    "    state: State,\n",
    "):\n",
    "    if messages := state.get(\"messages\", []):\n",
    "        # 가장 최근 AI 메시지 추출\n",
    "        ai_message = messages[-1]\n",
    "    else:\n",
    "        # 입력 상태에 메시지가 없는 경우 예외 발생\n",
    "        raise ValueError(f\"No messages found in input state to tool_edge: {state}\")\n",
    "\n",
    "    # AI 메시지에 도구 호출이 있는 경우 \"tools\" 반환\n",
    "    if hasattr(ai_message, \"tool_calls\") and len(ai_message.tool_calls) > 0:\n",
    "        # 도구 호출이 있는 경우 \"tools\" 반환\n",
    "        return \"tools\"\n",
    "    # 도구 호출이 없는 경우 \"END\" 반환\n",
    "    return END\n",
    "\n",
    "\n",
    "# `tools_condition` 함수는 챗봇이 도구 사용을 요청하면 \"tools\"를 반환하고, 직접 응답이 가능한 경우 \"END\"를 반환\n",
    "graph_builder.add_conditional_edges(\n",
    "    source=\"chatbot\",\n",
    "    path=route_tools,\n",
    "    # route_tools 의 반환값이 \"tools\" 인 경우 \"tools\" 노드로, 그렇지 않으면 END 노드로 라우팅\n",
    "    path_map={\"tools\": \"tools\", END: END},\n",
    ")\n",
    "\n",
    "# tools > chatbot\n",
    "graph_builder.add_edge(\"tools\", \"chatbot\")\n",
    "\n",
    "# START > chatbot\n",
    "graph_builder.add_edge(START, \"chatbot\")\n",
    "\n",
    "# 그래프 컴파일\n",
    "graph = graph_builder.compile()"
   ]
  },
  {
   "cell_type": "markdown",
   "id": "beab199c",
   "metadata": {},
   "source": [
    "**조건부 엣지**가 단일 노드에서 시작해야 합니다.\n",
    "\n",
    "이는 그래프에 \"`chatbot`\" 노드가 실행될 때마다 도구를 호출하면 'tools'로 이동하고, 직접 응답하면 루프를 종료하라는 의미입니다. \n",
    "\n",
    "사전 구축된 `tools_condition`처럼, 함수는 도구 호출이 없을 경우 `END` 문자열을 반환(그래프 종료) 합니다. 그래프가 `END`로 전환되면 더 이상 완료할 작업이 없으며 실행을 중지합니다."
   ]
  },
  {
   "cell_type": "code",
   "execution_count": 10,
   "id": "8d4d1118",
   "metadata": {},
   "outputs": [
    {
     "data": {
      "image/jpeg": "[encoded data removed]",
      "text/plain": [
       "<IPython.core.display.Image object>"
      ]
     },
     "metadata": {},
     "output_type": "display_data"
    }
   ],
   "source": [
    "from langchain_teddynote.graphs import visualize_graph\n",
    "\n",
    "# 그래프 시각화\n",
    "visualize_graph(graph)"
   ]
  },
  {
   "cell_type": "markdown",
   "id": "b736b473",
   "metadata": {},
   "source": [
    "이제 봇에게 훈련 데이터 외의 질문을 할 수 있습니다."
   ]
  },
  {
   "cell_type": "code",
   "execution_count": 11,
   "id": "31343b25",
   "metadata": {},
   "outputs": [
    {
     "name": "stdout",
     "output_type": "stream",
     "text": [
      "\n",
      "==============\n",
      "STEP: messages\n",
      "==============\n",
      "\n",
      "content='테디노트 YouTube 채널에 대해서 검색해 줘' additional_kwargs={} response_metadata={} id='5a903751-829e-4808-97e8-8e3139da799d'\n",
      "\n",
      "==============\n",
      "STEP: messages\n",
      "==============\n",
      "\n",
      "content='' additional_kwargs={'tool_calls': [{'id': 'call_eSdvJiPN88aRpdtlasMubktk', 'function': {'arguments': '{\"query\":\"테디노트 YouTube 채널\"}', 'name': 'tavily_web_search'}, 'type': 'function'}], 'refusal': None} response_metadata={'token_usage': {'completion_tokens': 24, 'prompt_tokens': 92, 'total_tokens': 116, 'completion_tokens_details': {'audio_tokens': None, 'reasoning_tokens': 0}, 'prompt_tokens_details': {'audio_tokens': None, 'cached_tokens': 0}}, 'model_name': 'gpt-4o-mini-2024-07-18', 'system_fingerprint': 'fp_f59a81427f', 'finish_reason': 'tool_calls', 'logprobs': None} id='run-174b8d33-3f54-4e15-86c4-67a2625c005f-0' tool_calls=[{'name': 'tavily_web_search', 'args': {'query': '테디노트 YouTube 채널'}, 'id': 'call_eSdvJiPN88aRpdtlasMubktk', 'type': 'tool_call'}] usage_metadata={'input_tokens': 92, 'output_tokens': 24, 'total_tokens': 116, 'input_token_details': {'cache_read': 0}, 'output_token_details': {'reasoning': 0}}\n",
      "\n",
      "==============\n",
      "STEP: messages\n",
      "==============\n",
      "\n",
      "content='\"[\\\\\"<document><title>linktr.ee/teddynote | Linktree</title><url>https://linktr.ee/teddynote</url><content>🔥[100% 무료] 테디노트 YouTube 콘텐츠 학습 순서🔥. 유튜브. 📘 랭체인 한국어 튜토리얼🇰🇷. Github. 테디노트-Gencon2024-ModularRAG-20240921.pdf.</content></document>\\\\\", \\\\\"<document><title>\\'테디의 비밀노트\\' 유튜브 채널 소개 (유튜브 왕초보를 위한 유튜브 채널 육성 꿀팁 전달) : 네이버 블로그</title><url>https://blog.naver.com/PostView.naver?blogId=teddysecretnote&logNo=223438344026</url><content>테디의 비밀노트. 유튜브 채널 5개 실패 후 6번째 도전에서 성공해 유튜브 조회수로만 약 8000만원의 수입을 올린 8만 구독자 유튜버가 되었습니다. 일상에서 이 경험을 주변에 공유하니 너도나도 자신들도 유튜브를 한 번 해보고 싶다고 제가 겪은 시행착오를</content><raw>블로그 마켓 판매자의 이력 관리를 위해\\\\\\\\n블로그 주소 변경이 불가합니다.\\\\\\\\n블로그에서 진짜 나를 기록하고\\\\\\\\n다양한 이웃과 소식을 만나보세요. 지금 시작해볼까요?\\\\\\\\n1. 이전 주소로 공유된 글은\\\\\\\\n3개월간 새로운 주소로 연결을 지원하며\\\\\\\\n이후 언제든 연결이 끊길 수 있습니다.\\\\\\\\n2. 블로그 아이디는 한번 변경하면\\\\\\\\n다시 변경이 불가능합니다.\\\\\\\\n변경하시겠습니까?\\\\\\\\n블로그 아이디는 한번 정하면\\\\\\\\n다시 변경이 불가능합니다.\\\\\\\\n이 아이디로 블로그를 만들까요?\\\\\\\\n환영합니다!\\\\\\\\n블로그 아이디가 만들어졌어요.\\\\\\\\n기본정보를 입력해주세요.\\\\\\\\n나중에 언제든지 변경할 수 있어요.\\\\\\\\n주제를 선택해 주세요.\\\\\\\\n선택한 주제의 글과 이웃을 추천받을 수 있어요.\\\\\\\\n인기블로거와 이웃을 맺으세요.\\\\\\\\n이웃을 맺으면 이웃새글에서 글을 받아볼 수 있어요.\\\\\\\\n테디의 유튜브 비밀노트\\\\\\\\n블로그\\\\\\\\n[공지] ‘테디의 비밀노트’ 유튜브 채널 소개 (유튜브 왕초보를 위한 유튜브 채널 육성 꿀팁 전달)\\\\\\\\n안녕하세요\\\\\\\\n왕초보를 위한 유튜브 육성 채널\\\\\\\\n테디의 비밀노트를 운영중인 테디 입니다 :)\\\\\\\\n\\u200b\\\\\\\\n■ 유튜브 채널, 테디의 비밀노트\\\\\\\\n유튜브 채널 5개 실패 후 6번째 도전에서 성공해 유튜브 조회수로만 약 8000만원의 수입을 올린 8만 구독자 유튜버가 되었습니다. 일상에서 이 경험을 주변에 공유하니 너도나도 자신들도 유튜브를 한 번 해보고 싶다고 제가 겪은 시행착오를 공유해 달라고 하더라구요. 그래서 이 채널을 만들었습니다. \\\\\\\\\\\\\"나도 유튜브 한 번 해보고 싶은데\\\\\\\\\\\\\" 라고 마음을 먹었지만 도무지 어떻게 해야할 지 감이 안 잡히시는 분들, 왕초보분들을 대상으로 제 경험담을 하나하나 공유해 드리겠습니다. 저 테디가 유튜브 왕초보 탈출, 누구보다 친절하게 앞장서서 도와드리...\\\\\\\\nwww.youtube.com\\\\\\\\n유튜브 육성이라는 주제로\\\\\\\\n새로운 유튜브 채널을 개설한 뒤\\\\\\\\n첫 영상을 올린지 3일 만에\\\\\\\\n구독자 100명을 달성했습니다\\\\\\\\n\\u200b첫 영상 제작하는데 들인 퀄리티는\\\\\\\\n목표 조회수를 20만회 정도로 잡았을 때의\\\\\\\\n작업 수준으로 맞췄던 것 같습니다\\\\\\\\n\\u200b\\\\\\\\n오늘 아침 8시쯤 출근할 때까지만 해도\\\\\\\\n저 영상의 조회수가 4였고\\\\\\\\n“새 유튜브 채널하려니 감회가 새롭네”\\\\\\\\n라는 생각을 안고\\\\\\\\n사무실로 들어가 자리에 앉았는데\\\\\\\\n\\u200b\\\\\\\\n갑자기 구독자분들이\\\\\\\\n하나둘 늘어나기 시작하고\\\\\\\\n단톡방에도 하나 둘 사람이 늘어나고\\\\\\\\n영상에 댓글이 하나둘 달리기 시작하더군요\\\\\\\\n\\u200b\\\\\\\\n유튜브 채널 관리 도구인\\\\\\\\n\\'유튜브 스튜디오\\'에 들어가서\\\\\\\\n부랴부랴 확인을 해보니\\\\\\\\n\\u200b\\\\\\\\n채널의 첫 영상이\\\\\\\\n알고리즘을 타고\\\\\\\\n유튜브 메인화면에 노출되고 있었습니다\\\\\\\\n\\u200b\\\\\\\\n나중에 유튜브 알고리즘을 다룰 때\\\\\\\\n또 설명드리겠지만\\\\\\\\n\\u200b\\\\\\\\n소위 \\'조회수\\'를 많이 확보해서\\\\\\\\n구독자를 늘리고, 수익을 늘리는 방식은\\\\\\\\n\\u200b\\\\\\\\n\\u200b\\\\\\\\n알고리즘 중 \\'탐색 기능\\'에 의해\\\\\\\\n유튜브 메인화면에 띄워주는 노출도를\\\\\\\\n대중들에게 확 높여주는 방식입니다\\\\\\\\n사진 설명을 입력하세요.\\\\\\\\n(금일 급격하게 조회수가 올라간 점\\\\\\\\n탐색 기능에 의한 유입이 대부분임을\\\\\\\\n알 수 있습니다)\\\\\\\\n\\u200b\\\\\\\\n흔히 우리가\\\\\\\\n조회수 떡상\\'이라고 표현하는 영상은\\\\\\\\n거의 대부분 다 \\'탐색 기능\\'에 의한 유입으로\\\\\\\\n조회수가 구성됩니다\\\\\\\\n\\u200b\\\\\\\\n\\u200b\\\\\\\\n유튜브 알고리즘은\\\\\\\\n10~60대 이상까지 남녀 노소\\\\\\\\n한국부터 세계까지\\\\\\\\n쭉 영상을 노출해 준 뒤\\\\\\\\n\\u200b\\\\\\\\n시청자의 반응도를 보고\\\\\\\\n시청자의 시청 데이터 및\\\\\\\\n행동 패턴을 수집한 뒤\\\\\\\\n\\u200b\\\\\\\\n괜찮은 영상이라는\\\\\\\\n내부 로직에 부합한다고 판단하면\\\\\\\\n밀어줄 수 있을 때까지 영상을 밀어주고\\\\\\\\n노출을 끝마치게 됩니다\\\\\\\\n\\u200b\\\\\\\\n저는 원 채널에서\\\\\\\\n영상 조회수로만\\\\\\\\n수익을 8000만원 가까이 냈고\\\\\\\\n앞서 말씀드린 바와 같이\\\\\\\\n탐색 기능에 의한 유입이 대부분이었습니다\\\\\\\\n\\u200b\\\\\\\\n원 채널에서 \\'탐색 기능\\' 유입으로\\\\\\\\n영상을 여러개 조회수 떡상시킨 경험이\\\\\\\\n풍부하게 있기 때문에\\\\\\\\n신규 채널 영상을 기획해서 업로드해도\\\\\\\\n동일하게 \\'탐색 기능\\'에 의한 유입이 많은\\\\\\\\n영상을 만들 수 있는 것입니다\\\\\\\\n\\u200b\\\\\\\\n사실 솔직히 말씀드리자면\\\\\\\\n이 채널만큼은 저는\\\\\\\\n\\'탐색 기능\\'에 의한 유입이\\\\\\\\n많지 않기를 바랍니다\\\\\\\\n\\u200b\\\\\\\\n\\u200b\\'탐색 기능\\'에 의한 유입은\\\\\\\\n\\'조회수 떡상\\'을 이끌지만\\\\\\\\n그 떡상을 이끄는 원리가\\\\\\\\n\\\\\\\\\\\\\"10대~60대 남녀노소, 한국~세계\\\\\\\\\\\\\"까지\\\\\\\\n영상을 쭉 노출시키고\\\\\\\\n시청자를 끌어들이는 방식인데\\\\\\\\n\\u200b\\\\\\\\n이 채널은 철저히\\\\\\\\n\\'유튜브를 혼자서 시작하려니\\\\\\\\n어디서부터 해야할 지\\\\\\\\n막막한 분\\'만 대상으로만\\\\\\\\n구독자를 받아\\\\\\\\n운영하고 싶기 때문입니다\\\\\\\\n\\u200b\\\\\\\\n\\u200b그래서 원 채널은 추후\\\\\\\\n\\'유튜브를 배우고 싶은 사람들\\'이\\\\\\\\n절대 다수를 이루는\\\\\\\\n구독자 분포를 이룬다고 생각할 때\\\\\\\\n공개해 드릴 예정이며\\\\\\\\n외부의 이상한 유입을 최대한 차단\\\\\\\\n하고자 합니다\\\\\\\\n\\u200b\\\\\\\\n이 말은 다시 말해서\\\\\\\\n제가 의도하는 대로\\\\\\\\n영상 타겟군과 유입량을\\\\\\\\n어느정도 조절할 수 있음을 의미하는데\\\\\\\\n추후 알고리즘 편에서 말씀드릴게요\\\\\\\\n\\u200b\\\\\\\\n이 채널은 구독자를 모은다기 보다\\\\\\\\n정말 유튜브 해보고 싶은 분들\\'만\\' 모시고\\\\\\\\n함께 가고 싶은 채널입니다\\\\\\\\n\\u200b\\\\\\\\n그리고 원 채널은 제 영상들과 목소리,\\\\\\\\n영상 편집 요소들이 다 남아있기 때문에\\\\\\\\n추후 공개하면 “아 이거였구나”하고\\\\\\\\n자연스레 아시게 될 겁니다 :)\\\\\\\\n\\u200b\\\\\\\\n제가 첫 영상에서 어떤 시행착오를 거쳐\\\\\\\\n최종 유튜브 채널에 정착했는지\\\\\\\\n유튜브 채널 실패담을 말씀 드렸습니다\\\\\\\\n\\u200b\\\\\\\\n최대한 함축적으로 말씀드렸는데도\\\\\\\\n10분 분량이 나왔는데\\\\\\\\n정말 다 영상에 담자니\\\\\\\\n너무 분량이 많기 때문에\\\\\\\\n\\u200b\\\\\\\\n테디의 비밀노트 유튜브 채널에서는\\\\\\\\n유튜브 채널을 처음 만들고\\\\\\\\n막 시작하려는 상태의\\\\\\\\n‘과거의 저\\'로 돌아가서\\\\\\\\n\\u200b어떤 생각과\\\\\\\\n어떤 고민들을 안고\\\\\\\\n어떤 시행착오를 거쳐\\\\\\\\n어떤 의사결정을 해서\\\\\\\\n앞으로 나아갔는지\\\\\\\\n\\u200b\\\\\\\\n과거의 나는\\\\\\\\n어떤 부분들이\\\\\\\\n정말 막막했었는지\\\\\\\\n\\u200b\\\\\\\\n이런 것들을 하나하나 풀어서\\\\\\\\n공유해 드릴 생각입니다\\\\\\\\n\\u200b\\\\\\\\n\\u200b리얼하게 느끼게 해드리기 위해\\\\\\\\n아마 그 때의 제 심경과\\\\\\\\n심리상태를 공유하는\\\\\\\\n마인드셋 영역도\\\\\\\\n다루게 될 것 같습니다 :)\\\\\\\\n\\u200b\\\\\\\\n\\u200b제 지인들이\\\\\\\\n제 유튜브 경험담을 들으면\\\\\\\\n하나같이\\\\\\\\n\\\\\\\\\\\\\"나도 해볼래, 나도 알려줘.\\\\\\\\n근데 어디서부터 해야 돼?\\\\\\\\\\\\\"\\\\\\\\n라는 질문들을 많이 하더라구요\\\\\\\\n\\u200b\\\\\\\\n비록 구독자분들이\\\\\\\\n제 실제 지인은 아니지만\\\\\\\\n온라인에서 만나게 된,\\\\\\\\n동일한 궁금증을 지닌\\\\\\\\n제 지인이란 생각으로\\\\\\\\n\\u200b\\\\\\\\n지인에게 설명하듯\\\\\\\\n앞으로 설명을\\\\\\\\n해나가겠습니다 :)\\\\\\\\n제가 어떻게 유튜브 왕초보에서부터\\\\\\\\n성장을 하게 됐는지\\\\\\\\n하나하나 꿀팁을 얻고 싶은 분들은\\\\\\\\n아래 링크로 들어와 주세요 :)\\\\\\\\n■ YouTube 채널\\\\\\\\n유튜브 채널 5개 실패 후 6번째 도전에서 성공해 유튜브 조회수로만 약 8000만원의 수입을 올린 8만 구독자 유튜버가 되었습니다. 일상에서 이 경험을 주변에 공유하니 너도나도 자신들도 유튜브를 한 번 해보고 싶다고 제가 겪은 시행착오를 공유해 달라고 하더라구요. 그래서 이 채널을 만들었습니다. \\\\\\\\\\\\\"나도 유튜브 한 번 해보고 싶은데\\\\\\\\\\\\\" 라고 마음을 먹었지만 도무지 어떻게 해야할 지 감이 안 잡히시는 분들, 왕초보분들을 대상으로 제 경험담을 하나하나 공유해 드리겠습니다. 저 테디가 유튜브 왕초보 탈출, 누구보다 친절하게 앞장서서 도와드리...\\\\\\\\nwww.youtube.com\\\\\\\\n■ 네이버 카페\\\\\\\\n유튜브 조회수로만 약 8000만원의 수익을 올린 제 경험을 토대로 유튜버 왕초보에서 탈출시켜 드리겠습니다\\\\\\\\ncafe.naver.com\\\\\\\\n■ 단체 카톡방\\\\\\\\n#테디 #테디의비밀노트 #테디의유튜브 #테디의유튜브비밀노트\\\\\\\\nopen.kakao.com\\\\\\\\n\\u200b\\\\\\\\n다시 한 번 반갑고 또 감사합니다 :)\\\\\\\\n- 테디 드림\\\\\\\\n검색\\\\\\\\n안녕하세요.이 포스트는 네이버 블로그에서 작성된 게시글입니다.자세한 내용을 보려면 링크를 클릭해주세요.감사합니다.\\\\\\\\n2009년 6월 30일 네이버 여행 서비스가 종료되었습니다. 네이버 여행 서비스를 이용해 주신 여러분께 감사드리며, 더 좋은 서비스로 보답할 수 있도록 노력하겠습니다.\\\\\\\\n악성코드가 포함되어 있는 파일입니다.\\\\\\\\n{FILENAME}\\\\\\\\n백신 프로그램으로 치료하신 후 다시 첨부하시거나, 치료가 어려우시면파일을 삭제하시기 바랍니다.\\\\\\\\n고객님의 PC가 악성코드에 감염될 경우 시스템성능 저하,개인정보 유출등의 피해를 입을 수 있으니 주의하시기 바랍니다.\\\\\\\\n작성자 이외의 방문자에게는 이용이 제한되었습니다.\\\\\\\\n{ALERTMESSAGE}\\\\\\\\n이용제한 파일 : {FILENAME}\\\\\\\\n네이버는 블로그를 통해 저작물이 무단으로 공유되는 것을 막기 위해,\\\\\\\\n저작권을 침해하는 컨텐츠가 포함되어 있는 게시물의 경우 글보내기 기능을 제한하고 있습니다.\\\\\\\\n상세한 안내를 받고 싶으신 경우 네이버 고객센터로 문의주시면 도움드리도록 하겠습니다.\\\\\\\\n건강한 인터넷 환경을 만들어 나갈 수 있도록 고객님의 많은 관심과 협조를 부탁드립니다.\\\\\\\\n네이버는 블로그를 통해 저작물이 무단으로 공유되는 것을 막기 위해,\\\\\\\\n저작권을 침해하는 컨텐츠가 포함되어 있는 게시물의 경우 주제 분류 기능을 제한하고 있습니다.\\\\\\\\n상세한 안내를 받고 싶으신 경우 네이버 고객센터로 문의주시면 도움드리도록 하겠습니다.\\\\\\\\n건강한 인터넷 환경을 만들어 나갈 수 있도록 고객님의 많은 관심과 협조를 부탁드립니다.\\\\\\\\n작성하신 게시글에 사용이 제한된 문구가 포함되어 일시적으로\\\\\\\\n등록이 제한됩니다.\\\\\\\\n이용자 분들이 홍보성 도배, 스팸 게시물로 불편을 겪지 않도록 다음과 같은 경우 해당 게시물 등록이 일시적으로 제한됩니다.\\\\\\\\n스팸 게시물이 확대 생성되는 것을 방지하기 위하여 문구 및 사용 제한기간을상세하게 안내해 드리지 못하는 점 양해 부탁 드립니다. 모두가 행복한 인터넷문화를 만들기 위한 네이버의 노력이오니 회원님의 양해와 협조 부탁드립니다.\\\\\\\\n더 궁금하신 사항은 고객센터로 문의하시면 자세히 알려드리겠습니다.\\\\\\\\n수정하신 후 다시 등록해 주세요.\\\\\\\\n회원님의 안전한 서비스 이용을 위해 비밀번호를 확인해 주세요.\\\\\\\\n다시 한번 비밀번호 확인 하시면 이용중인 화면으로 돌아가며, 작성 중이던내용을 정상적으로 전송 또는 등록하실 수 있습니다.\\\\\\\\n이 글의 공감수도 함께 차감됩니다.\\\\\\\\n작성하신 에 이용자들의 신고가 많은 표현이 포함되어 있습니다.\\\\\\\\n다른 표현을 사용해주시기 바랍니다.\\\\\\\\n건전한 인터넷 문화 조성을 위해 회원님의 적극적인 협조를 부탁드립니다.\\\\\\\\n더 궁금하신 사항은 고객센터로 문의하시면 자세히 알려드리겠습니다.\\\\\\\\n블로그 마켓 가입 완료\\\\\\\\n내 상품 관리에서 배송비 설정 후 상품 판매를 시작해보세요!</raw></document>\\\\\", \\\\\"<document><title>️ computer_use_demo - YouTube</title><url>https://www.youtube.com/clip/Ugkxa69XaLITi0EbBqXpC7Lhqs76qXi34WI0</url><content>60 seconds · Clipped by Jongwhan Kim · Original video \\\\\\\\\\\\\\\\\\\\\\\\\\\\\"#Anthropic 컴퓨터를 에이전트가 제어하는 \\\\\\\\\\\\\\\\\\\\\\\\\\\\\"Computer Use\\\\\\\\\\\\\\\\\\\\\\\\\\\\\", 신규 모델 Sonnet & Haiku 소식!\\\\\\\\\\\\\\\\\\\\\\\\\\\\\" by 테디노트 TeddyNote</content></document>\\\\\"]\"' name='tavily_web_search' id='b17d6fa4-5b27-403f-aef9-c80aadda9a5b' tool_call_id='call_eSdvJiPN88aRpdtlasMubktk'\n",
      "\n",
      "==============\n",
      "STEP: messages\n",
      "==============\n",
      "\n",
      "content='테디노트 YouTube 채널은 \"테디의 비밀노트\"라는 이름으로 운영되며, 유튜브 초보자들을 위한 다양한 팁과 경험담을 공유하는 채널입니다. 이 채널의 운영자는 테디라는 인물로, 유튜브의 여러 채널을 운영하다가 6번째 도전에서 성공을 거두었고, 이를 통해 약 8000만원의 수익을 올렸습니다. 현재 구독자는 약 8만 명입니다.\\n\\n테디는 자신의 유튜브 경험을 바탕으로 왕초보들이 유튜브를 시작하는 데 필요한 정보와 가이드를 제공하고 있으며, 실패한 경험을 공유하여 다른 사람들이 비슷한 시행착오를 겪지 않도록 돕고자 합니다. 유튜브 채널은 특히 \"유튜브를 처음 시작하려는 사람\"들을 대상으로 하고 있습니다.\\n\\n관련 링크 및 추가 정보는 다음과 같습니다:\\n- [테디노트 링크트리](https://linktr.ee/teddynote)\\n- [테디의 비밀노트 블로그 포스트](https://blog.naver.com/PostView.naver?blogId=teddysecretnote&logNo=223438344026)\\n\\n테디노트 채널은 초보 유튜버들에게 실질적인 도움을 주기 위해 여러 주제를 다루고 있으며, 유튜브 알고리즘과 콘텐츠 제작에 관한 유용한 팁을 제공합니다.' additional_kwargs={'refusal': None} response_metadata={'token_usage': {'completion_tokens': 312, 'prompt_tokens': 3815, 'total_tokens': 4127, 'completion_tokens_details': {'audio_tokens': None, 'reasoning_tokens': 0}, 'prompt_tokens_details': {'audio_tokens': None, 'cached_tokens': 0}}, 'model_name': 'gpt-4o-mini-2024-07-18', 'system_fingerprint': 'fp_0ba0d124f1', 'finish_reason': 'stop', 'logprobs': None} id='run-308991e4-e97e-4984-a674-6403e93cbdcb-0' usage_metadata={'input_tokens': 3815, 'output_tokens': 312, 'total_tokens': 4127, 'input_token_details': {'cache_read': 0}, 'output_token_details': {'reasoning': 0}}\n"
     ]
    }
   ],
   "source": [
    "inputs = {\"messages\": \"테디노트 YouTube 채널에 대해서 검색해 줘\"}\n",
    "\n",
    "for event in graph.stream(inputs, stream_mode=\"values\"):\n",
    "    for key, value in event.items():\n",
    "        print(f\"\\n==============\\nSTEP: {key}\\n==============\\n\")\n",
    "        # display_message_tree(value[\"messages\"][-1])\n",
    "        print(value[-1])"
   ]
  },
  {
   "cell_type": "markdown",
   "id": "f4c6c5ac",
   "metadata": {},
   "source": [
    "도구 호출 후 구조에 대한 이미지"
   ]
  },
  {
   "cell_type": "markdown",
   "id": "23623eec",
   "metadata": {},
   "source": [
    "![](./image/tool-message-01.png)"
   ]
  },
  {
   "cell_type": "markdown",
   "id": "ff003852",
   "metadata": {},
   "source": [
    "- [이전 실행에 대한 LangSmith 추적](https://smith.langchain.com/public/4f82ddfa-a452-40f3-ab09-4eb088b812a4/r)"
   ]
  }
 ],
 "metadata": {
  "kernelspec": {
   "display_name": "langchain-kr-lwwSZlnu-py3.11",
   "language": "python",
   "name": "python3"
  },
  "language_info": {
   "codemirror_mode": {
    "name": "ipython",
    "version": 3
   },
   "file_extension": ".py",
   "mimetype": "text/x-python",
   "name": "python",
   "nbconvert_exporter": "python",
   "pygments_lexer": "ipython3",
   "version": "3.11.9"
  }
 },
 "nbformat": 4,
 "nbformat_minor": 5
}
