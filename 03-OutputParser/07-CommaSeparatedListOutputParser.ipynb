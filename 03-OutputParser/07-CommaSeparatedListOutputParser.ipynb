{
 "cells": [
  {
   "cell_type": "markdown",
   "id": "b7af093a",
   "metadata": {},
   "source": [
    "# CSV parser\n",
    "\n",
    "이 출력 파서는 쉼표로 구분된 항목 목록을 반환하고자 할 때 사용할 수 있습니다.\n"
   ]
  },
  {
   "cell_type": "markdown",
   "id": "772ca612",
   "metadata": {},
   "source": [
    "- `CommaSeparatedListOutputParser`를 사용하여 출력을 쉼표로 구분된 리스트 형태로 파싱합니다.\n",
    "- `PromptTemplate`를 사용하여 사용자 입력에 따라 동적으로 프롬프트를 생성합니다. 이때, `subject`를 입력 변수로 받고, `format_instructions`를 부분 변수로 설정합니다.\n",
    "- `ChatOpenAI` 모델을 초기화하며, 온도(`temperature`)를 0으로 설정하여 더 결정적인 출력을 생성합니다.\n",
    "- `prompt`, `model`, `output_parser`를 연결하여 입력된 `subject`에 대한 5개의 항목을 나열하는 챗봇 체인을 구성합니다.\n"
   ]
  },
  {
   "cell_type": "code",
   "execution_count": 1,
   "id": "b368d3ad",
   "metadata": {},
   "outputs": [],
   "source": [
    "from langchain.output_parsers import CommaSeparatedListOutputParser\n",
    "from langchain.prompts import PromptTemplate\n",
    "from langchain_openai import ChatOpenAI\n",
    "\n",
    "# 콤마로 구분된 리스트 출력 파서 초기화\n",
    "output_parser = CommaSeparatedListOutputParser()\n",
    "\n",
    "# 출력 형식 지침 가져오기\n",
    "format_instructions = output_parser.get_format_instructions()\n",
    "# 프롬프트 템플릿 설정\n",
    "prompt = PromptTemplate(\n",
    "    # 주제에 대한 다섯 가지를 나열하라는 템플릿\n",
    "    template=\"List five {subject}.\\n{format_instructions}\",\n",
    "    input_variables=[\"subject\"],  # 입력 변수로 'subject' 사용\n",
    "    # 부분 변수로 형식 지침 사용\n",
    "    partial_variables={\"format_instructions\": format_instructions},\n",
    ")\n",
    "\n",
    "# ChatOpenAI 모델 초기화\n",
    "model = ChatOpenAI(temperature=0)\n",
    "\n",
    "# 프롬프트, 모델, 출력 파서를 연결하여 체인 생성\n",
    "chain = prompt | model | output_parser"
   ]
  },
  {
   "cell_type": "code",
   "execution_count": 6,
   "id": "687e8dcb",
   "metadata": {},
   "outputs": [
    {
     "data": {
      "text/plain": [
       "['경복궁', '남산타워', '부산 해운대해수욕장', '제주도', '경주여행']"
      ]
     },
     "execution_count": 6,
     "metadata": {},
     "output_type": "execute_result"
    }
   ],
   "source": [
    "chain.invoke(\n",
    "    {\"subject\": \"대한민국 관광명소\"}\n",
    ")  # \"대한민국 관광명소\"에 대한 체인 호출 실행"
   ]
  },
  {
   "cell_type": "markdown",
   "id": "79688015",
   "metadata": {},
   "source": [
    "- `chain.stream`을 사용하여 \"대한민국 관광명소\"에 대한 스트림을 반복 처리합니다.\n",
    "- 반복 중 스트림의 결과를 출력합니다.\n"
   ]
  },
  {
   "cell_type": "code",
   "execution_count": 5,
   "id": "5429fc95",
   "metadata": {},
   "outputs": [
    {
     "name": "stdout",
     "output_type": "stream",
     "text": [
      "['경복궁']\n",
      "['남산타워']\n",
      "['부산 해운대해수욕장']\n",
      "['제주도']\n",
      "['경주여행']\n"
     ]
    }
   ],
   "source": [
    "# 아이스크림 맛에 대한 스트림을 순회합니다.\n",
    "for s in chain.stream({\"subject\": \"대한민국 관광명소\"}):\n",
    "    print(s)  # 스트림의 내용을 출력합니다."
   ]
  }
 ],
 "metadata": {
  "kernelspec": {
   "display_name": "py-test",
   "language": "python",
   "name": "python3"
  },
  "language_info": {
   "codemirror_mode": {
    "name": "ipython",
    "version": 3
   },
   "file_extension": ".py",
   "mimetype": "text/x-python",
   "name": "python",
   "nbconvert_exporter": "python",
   "pygments_lexer": "ipython3",
   "version": "3.10.13"
  }
 },
 "nbformat": 4,
 "nbformat_minor": 5
}
